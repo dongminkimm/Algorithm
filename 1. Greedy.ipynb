{
 "cells": [
  {
   "cell_type": "markdown",
   "id": "23e3e570",
   "metadata": {},
   "source": [
    "# 그리디 알고리즘(탐욕법)\n",
    "## -> 현재 상황에서 지금 당장 좋은 것만 고르는 방법\n",
    "\n",
    "### 그리디 알고리즘 문제는 창의력, 즉 문제를 풀기 위한 최소한의 아이디어를 떠올릴 수 있는 능력을 요구\n",
    "\n",
    "정렬 알고리즘과 짝을 이루어 출제"
   ]
  },
  {
   "cell_type": "markdown",
   "id": "643a83f6",
   "metadata": {},
   "source": [
    "### 3-1. 거스름돈 문제"
   ]
  },
  {
   "cell_type": "code",
   "execution_count": 1,
   "id": "e13aa51b",
   "metadata": {},
   "outputs": [
    {
     "name": "stdout",
     "output_type": "stream",
     "text": [
      "6\n"
     ]
    }
   ],
   "source": [
    "n = 1260\n",
    "coin_types = [500, 100, 50, 10]\n",
    "\n",
    "cnt = 0\n",
    "\n",
    "for coin in coin_types:\n",
    "    cnt += n // coin\n",
    "    n %= coin\n",
    "print(cnt)"
   ]
  },
  {
   "cell_type": "markdown",
   "id": "72783bc0",
   "metadata": {},
   "source": [
    "### 해설\n",
    "화폐의 종류만큼 반속을 해야함. 따라서 K개면 시간 복잡도 = O(K)"
   ]
  },
  {
   "cell_type": "markdown",
   "id": "b5cfb338",
   "metadata": {},
   "source": [
    "### 그리디 알고리즘의 정당성\n",
    "그리디 알고리즘으로 최적의 해를 찾을 수 없을 가능성 높음.\n",
    "그러나 탐욕적으로 문제에 접근했을 때 정확한 답을 찾을 수 있다는 보장이 있으면 매우 효과적!\n",
    "\n",
    "그리디로 풀고나면 정당한 답안인지 검토해야함. (거스름돈 문제는 큰 화폐가 항상 작은 화폐의 배수이기 때문)"
   ]
  },
  {
   "cell_type": "markdown",
   "id": "1cf0cd2a",
   "metadata": {},
   "source": [
    "## 3-2. 큰수의 법칙"
   ]
  },
  {
   "cell_type": "code",
   "execution_count": 5,
   "id": "a3cae958",
   "metadata": {},
   "outputs": [
    {
     "name": "stdout",
     "output_type": "stream",
     "text": [
      "5 8 3\n",
      "2 4 3 4 6\n",
      "44\n"
     ]
    }
   ],
   "source": [
    "n, m, k = map(int, input().split())\n",
    "data = list(map(int, input().split()))\n",
    "data.sort()\n",
    "first = data[-1]\n",
    "second = data[-2]\n",
    "\n",
    "cnt = (m // k) * k\n",
    "print(cnt*first + (m-cnt)*second)"
   ]
  },
  {
   "cell_type": "markdown",
   "id": "5a4c172a",
   "metadata": {},
   "source": [
    "## 3-3. 숫자 카드 게임"
   ]
  },
  {
   "cell_type": "code",
   "execution_count": 7,
   "id": "2e418e1d",
   "metadata": {},
   "outputs": [
    {
     "name": "stdout",
     "output_type": "stream",
     "text": [
      "2 4\n",
      "7 3 1 8\n",
      "3 3 3 4\n",
      "3\n"
     ]
    }
   ],
   "source": [
    "n, m = map(int, input().split())\n",
    "li = []\n",
    "for _ in range(n):\n",
    "    li.append(min(list(map(int, input().split()))))\n",
    "print(max(li))"
   ]
  },
  {
   "cell_type": "markdown",
   "id": "f88a01e6",
   "metadata": {},
   "source": [
    "## 3-4. 1이 될 때까지"
   ]
  },
  {
   "cell_type": "code",
   "execution_count": 12,
   "id": "04cdc48f",
   "metadata": {},
   "outputs": [
    {
     "name": "stdout",
     "output_type": "stream",
     "text": [
      "25 3\n",
      "6\n"
     ]
    }
   ],
   "source": [
    "n, k = map(int, input().split())\n",
    "cnt = 0\n",
    "while n > 1:\n",
    "    if n % k == 0:\n",
    "        n //= k\n",
    "        cnt += 1\n",
    "    else:\n",
    "        n -= 1\n",
    "        cnt += 1\n",
    "print(cnt)"
   ]
  },
  {
   "cell_type": "markdown",
   "id": "6eba6f6c",
   "metadata": {},
   "source": [
    "## Q1. 모험가 길드"
   ]
  },
  {
   "cell_type": "code",
   "execution_count": 17,
   "id": "83f69f76",
   "metadata": {},
   "outputs": [
    {
     "name": "stdout",
     "output_type": "stream",
     "text": [
      "5\n",
      "2 3 1 2 2\n",
      "2\n"
     ]
    }
   ],
   "source": [
    "n = int(input())\n",
    "data = list(map(int, input().split()))\n",
    "data.sort()\n",
    "\n",
    "group = 0\n",
    "cnt = 0\n",
    "\n",
    "for i in data:\n",
    "    if cnt > i:\n",
    "        break\n",
    "    if group != cnt:\n",
    "        cnt += 1\n",
    "    elif group == cnt:\n",
    "        group += 1\n",
    "        cnt = 0\n",
    "        \n",
    "print(group)\n",
    "# 1 2 2 2 3"
   ]
  },
  {
   "cell_type": "markdown",
   "id": "74a6bdf3",
   "metadata": {},
   "source": [
    "## Q2. 곱하기 혹은 더하기"
   ]
  },
  {
   "cell_type": "code",
   "execution_count": 24,
   "id": "a203ac55",
   "metadata": {},
   "outputs": [
    {
     "name": "stdout",
     "output_type": "stream",
     "text": [
      "567\n",
      "210\n"
     ]
    }
   ],
   "source": [
    "txt = input()\n",
    "\n",
    "result = int(txt[0])\n",
    "\n",
    "for i in range(1, len(txt)):\n",
    "    if result == 0 or result == 1:\n",
    "        result += int(txt[i])\n",
    "    else:\n",
    "        if int(txt[i]) == 0 or int(txt[i]) == 1:\n",
    "            result += int(txt[i])\n",
    "        else:\n",
    "            result *= int(txt[i])\n",
    "print(result)\n",
    "            \n",
    "        "
   ]
  },
  {
   "cell_type": "markdown",
   "id": "cebad96e",
   "metadata": {},
   "source": [
    "## Q3. 문자열 뒤집기"
   ]
  },
  {
   "cell_type": "code",
   "execution_count": 30,
   "id": "d0692117",
   "metadata": {},
   "outputs": [
    {
     "name": "stdout",
     "output_type": "stream",
     "text": [
      "0001100\n",
      "1\n"
     ]
    }
   ],
   "source": [
    "txt = input()\n",
    "\n",
    "cnt0 = 0\n",
    "cnt1 = 0\n",
    "\n",
    "if txt[0] == '0':\n",
    "    cnt0 += 1\n",
    "else:\n",
    "    cnt1 += 1\n",
    "\n",
    "start = int(txt[0])\n",
    "for i in range(1, len(txt)):\n",
    "    if start != int(txt[i]):\n",
    "        if int(txt[i]) == 0:\n",
    "            cnt0 += 1\n",
    "        else:\n",
    "            cnt1 += 1\n",
    "        start = int(txt[i])\n",
    "print(min(cnt0, cnt1))"
   ]
  },
  {
   "cell_type": "markdown",
   "id": "db75b784",
   "metadata": {},
   "source": [
    "## Q4. 만들 수 없는 금액"
   ]
  },
  {
   "cell_type": "code",
   "execution_count": 35,
   "id": "205e99e3",
   "metadata": {},
   "outputs": [
    {
     "name": "stdout",
     "output_type": "stream",
     "text": [
      "5\n",
      "3 2 1 1 9\n",
      "8\n"
     ]
    }
   ],
   "source": [
    "n = int(input())\n",
    "data = list(map(int, input().split()))\n",
    "data.sort()\n",
    "\n",
    "result = data[0]\n",
    "for i in range(1, len(data)):\n",
    "    if result < data[i]:\n",
    "        result += 1\n",
    "        break\n",
    "    result += data[i]\n",
    "print(result)\n",
    "    \n",
    "    \n",
    "    \n",
    "    \n",
    "    # 1 1 2 3 9"
   ]
  },
  {
   "cell_type": "markdown",
   "id": "7c8d7b36",
   "metadata": {},
   "source": [
    "## Q5. 볼링공 고르기"
   ]
  },
  {
   "cell_type": "code",
   "execution_count": 42,
   "id": "cfe55942",
   "metadata": {},
   "outputs": [
    {
     "name": "stdout",
     "output_type": "stream",
     "text": [
      "8 5\n",
      "1 5 4 3 2 4 5 2\n",
      "25\n"
     ]
    }
   ],
   "source": [
    "n, m = map(int, input().split())\n",
    "data = list(map(int, input().split()))\n",
    "data.sort()\n",
    "\n",
    "cnt = 0\n",
    "for i in range(len(data) - 1):\n",
    "    start = data[i]\n",
    "    for j in range(i, len(data)):\n",
    "        if start != data[j]:\n",
    "            cnt += 1\n",
    "print(cnt)"
   ]
  },
  {
   "cell_type": "markdown",
   "id": "de74b349",
   "metadata": {},
   "source": [
    "## Q6. 무지의 먹방 라이브"
   ]
  },
  {
   "cell_type": "markdown",
   "id": "e3bb659a",
   "metadata": {},
   "source": [
    "프로그래머스에서 풀어야된대\n",
    "19년도 카카오 신입 공채 문제, 정답률 30%대, LV.4  -> 일단 pass"
   ]
  }
 ],
 "metadata": {
  "kernelspec": {
   "display_name": "Python 3 (ipykernel)",
   "language": "python",
   "name": "python3"
  },
  "language_info": {
   "codemirror_mode": {
    "name": "ipython",
    "version": 3
   },
   "file_extension": ".py",
   "mimetype": "text/x-python",
   "name": "python",
   "nbconvert_exporter": "python",
   "pygments_lexer": "ipython3",
   "version": "3.9.18"
  }
 },
 "nbformat": 4,
 "nbformat_minor": 5
}
