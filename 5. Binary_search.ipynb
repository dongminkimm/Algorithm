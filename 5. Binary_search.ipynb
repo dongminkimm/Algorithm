{
 "cells": [
  {
   "cell_type": "markdown",
   "id": "68421145",
   "metadata": {},
   "source": [
    "# 순차 탐색\n",
    "* 리스트 안에 있는 특정한 데이터를 찾기 위해 앞에서부터 데이터를 하나씩 차례대로 확인하는 방법\n",
    "* -> 보통 정렬되지 않은 리스트에서 데이터를 찾아야 할 때 사용한다.\n",
    "* 시간 복잡도 = O(N)"
   ]
  },
  {
   "cell_type": "markdown",
   "id": "a95f8b8d",
   "metadata": {},
   "source": [
    "  \n",
    "# 이진 탐색\n",
    "* 배열 내부 데이터가 정렬되어 있어야만 사용할 수 있는 알고리즘. (시작점, 끝점, 중간점) 필요\n",
    "* 시간 복잡도 = O(logN)\n",
    "* 구현방법: 1. 재귀함수     2. 반목문\n"
   ]
  },
  {
   "cell_type": "code",
   "execution_count": 1,
   "id": "a473ef54",
   "metadata": {},
   "outputs": [
    {
     "name": "stdout",
     "output_type": "stream",
     "text": [
      "10 7\n",
      "1 3 5 7 9 11 13 15 17 19\n",
      "4\n"
     ]
    }
   ],
   "source": [
    "# 재귀 함수로 구현\n",
    "\n",
    "def binary_search(array, target, start, end):\n",
    "    if start > end:\n",
    "        return None\n",
    "    mid = (start + end) // 2\n",
    "    if array[mid] == target:\n",
    "        return mid\n",
    "    elif array[mid] > target:\n",
    "        return binary_search(array, target, start, mid - 1)\n",
    "    else:\n",
    "        return binary_search(array, target, mid + 1, end)\n",
    "    \n",
    "n, target = map(int, input().split())\n",
    "array = list(map(int, input().split()))\n",
    "\n",
    "result = binary_search(array, target, 0, n-1)\n",
    "if result == None:\n",
    "    print('원소 없음')\n",
    "else:\n",
    "    print(result + 1)"
   ]
  },
  {
   "cell_type": "code",
   "execution_count": 2,
   "id": "c4982cd9",
   "metadata": {},
   "outputs": [
    {
     "name": "stdout",
     "output_type": "stream",
     "text": [
      "10 7\n",
      "1 3 5 7 9 11 13 15 17 19\n",
      "4\n"
     ]
    }
   ],
   "source": [
    "# 반복문으로 구현\n",
    "\n",
    "def binary_search(array, target, start, end):\n",
    "    while start <= end:\n",
    "        mid = (start + end) // 2\n",
    "        if array[mid] == target:\n",
    "            return mid\n",
    "        elif array[mid] > target:\n",
    "            end = mid - 1\n",
    "        else:\n",
    "            start = mid + 1\n",
    "    return None\n",
    "\n",
    "n, target = map(int, input().split())\n",
    "array = list(map(int, input().split()))\n",
    "\n",
    "result = binary_search(array, target, 0, n-1)\n",
    "if result == None:\n",
    "    print('원소 없음')\n",
    "else:\n",
    "    print(result + 1)"
   ]
  },
  {
   "cell_type": "markdown",
   "id": "47165215",
   "metadata": {},
   "source": [
    "이진 탐색 코드는 자연스럽게 외워!!\n",
    "코테에 단골로 나오는 문제니까 외워야 돼!!!\n",
    "\n",
    "탐색 범위가 2,000만을 넘어가면 이진 탐색으로 문제에 접근해보세요!"
   ]
  },
  {
   "cell_type": "markdown",
   "id": "0d1b189e",
   "metadata": {},
   "source": [
    "---"
   ]
  },
  {
   "cell_type": "markdown",
   "id": "a7d704ee",
   "metadata": {},
   "source": [
    "## 트리 자료구조\n",
    "* 트리는 부모 노드와 자식 노드로 표현된다.\n",
    "* 최상단 = 루트 노드 / 최하단 = 단말 노드\n",
    "* 트리에서 일부를 떼어내면 서브 트리라고 함\n",
    "* 계층적이고 정렬된 데이터를 다루는데 적합하다."
   ]
  },
  {
   "cell_type": "markdown",
   "id": "4c9f5ed5",
   "metadata": {},
   "source": [
    "## 이진 탐색 트리\n",
    "* 부모 노드보다 왼쪽이 작음\n",
    "* 부모 노드보다 오른쪽이 큼\n",
    ">왼쪽 노드 < 부모 노드 < 오른쪽 노드"
   ]
  },
  {
   "cell_type": "markdown",
   "id": "16a9c900",
   "metadata": {},
   "source": [
    "---"
   ]
  },
  {
   "cell_type": "markdown",
   "id": "76338653",
   "metadata": {},
   "source": [
    "## 빠르게 입력 받기\n",
    "* 데이터의 개수가 1,000만 개를 넘어가거나 탐색 범위의 크기가 1,000억 이상이라면 이진 탐색 알고리즘 의심!\n",
    "* 근데 저렇게 큰 데이터에서 input()을 사용하면 느려서 시간 초과 될 수 있음\n",
    "\n",
    "import sys  \n",
    "input = sys.stdin.readline().rstrip()"
   ]
  },
  {
   "cell_type": "markdown",
   "id": "b88fd4da",
   "metadata": {},
   "source": [
    "---"
   ]
  },
  {
   "cell_type": "markdown",
   "id": "7559247a",
   "metadata": {},
   "source": [
    "### 7-5. 부품 찾기"
   ]
  },
  {
   "cell_type": "code",
   "execution_count": 6,
   "id": "73e56292",
   "metadata": {},
   "outputs": [
    {
     "name": "stdout",
     "output_type": "stream",
     "text": [
      "5\n",
      "8 3 7 9 2\n",
      "3\n",
      "5 7 9\n",
      "no yes yes "
     ]
    }
   ],
   "source": [
    "n = int(input())\n",
    "a = list(map(int, input().split()))\n",
    "m = int(input())\n",
    "b = list(map(int, input().split()))\n",
    "\n",
    "def binary_search(array, target, start, end):\n",
    "    while start <= end:\n",
    "        mid = (start + end) // 2\n",
    "        if array[mid] == target:\n",
    "            return mid\n",
    "        elif array[mid] < target:\n",
    "            start = mid + 1\n",
    "        else:\n",
    "            end = mid - 1\n",
    "    return None\n",
    "\n",
    "a.sort()\n",
    "\n",
    "for i in b:\n",
    "    if binary_search(a, i, 0, n-1):\n",
    "        print('yes', end = ' ')\n",
    "    else:\n",
    "        print('no', end=' ')"
   ]
  },
  {
   "cell_type": "markdown",
   "id": "a29c9577",
   "metadata": {},
   "source": [
    "### 7-8. 떡볶이 떡 만들기"
   ]
  },
  {
   "cell_type": "code",
   "execution_count": 12,
   "id": "580fe2b2",
   "metadata": {},
   "outputs": [
    {
     "name": "stdout",
     "output_type": "stream",
     "text": [
      "4 6\n",
      "19 15 10 17\n",
      "15\n"
     ]
    }
   ],
   "source": [
    "n, m = map(int, input().split())\n",
    "data = list(map(int, input().split()))\n",
    "\n",
    "data.sort(reverse=True)\n",
    "\n",
    "max_val = data[0]\n",
    "for d in range(max_val, 0, -1):\n",
    "    result = 0\n",
    "    for i in data:\n",
    "        l = i - d\n",
    "        if l >= 0:\n",
    "            result += l\n",
    "    if result == m:\n",
    "        break\n",
    "print(d)"
   ]
  },
  {
   "cell_type": "code",
   "execution_count": 13,
   "id": "3c64881f",
   "metadata": {},
   "outputs": [
    {
     "name": "stdout",
     "output_type": "stream",
     "text": [
      "4 6\n",
      "19 15 10 17\n",
      "15\n"
     ]
    }
   ],
   "source": [
    "n, m = map(int, input().split())\n",
    "array = list(map(int, input().split()))\n",
    "\n",
    "start = 0\n",
    "end = max(array)\n",
    "\n",
    "result = 0\n",
    "while start <= end:\n",
    "    total = 0\n",
    "    mid = (start + end) // 2\n",
    "    for x in array:\n",
    "        if x > mid:\n",
    "            total += x - mid\n",
    "    if total < m:\n",
    "        end = mid - 1\n",
    "    else:\n",
    "        result = mid\n",
    "        start = mid + 1\n",
    "print(result)"
   ]
  },
  {
   "cell_type": "code",
   "execution_count": null,
   "id": "4779140f",
   "metadata": {},
   "outputs": [],
   "source": []
  }
 ],
 "metadata": {
  "kernelspec": {
   "display_name": "Python 3 (ipykernel)",
   "language": "python",
   "name": "python3"
  },
  "language_info": {
   "codemirror_mode": {
    "name": "ipython",
    "version": 3
   },
   "file_extension": ".py",
   "mimetype": "text/x-python",
   "name": "python",
   "nbconvert_exporter": "python",
   "pygments_lexer": "ipython3",
   "version": "3.9.18"
  }
 },
 "nbformat": 4,
 "nbformat_minor": 5
}
