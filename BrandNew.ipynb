{
 "cells": [
  {
   "cell_type": "code",
   "execution_count": 5,
   "id": "2717e9b8",
   "metadata": {},
   "outputs": [
    {
     "name": "stdout",
     "output_type": "stream",
     "text": [
      "156\n",
      "9c\n"
     ]
    }
   ],
   "source": [
    "# 16진수 변환\n",
    "a = int(input())\n",
    "print('%x' %a)"
   ]
  },
  {
   "cell_type": "code",
   "execution_count": 10,
   "id": "c09d9504",
   "metadata": {},
   "outputs": [
    {
     "name": "stdout",
     "output_type": "stream",
     "text": [
      "154\n",
      "232\n"
     ]
    }
   ],
   "source": [
    "# 8진수 변환\n",
    "a = int(input())\n",
    "print('%o' %a)"
   ]
  },
  {
   "cell_type": "code",
   "execution_count": 12,
   "id": "f3b96ceb",
   "metadata": {},
   "outputs": [
    {
     "name": "stdout",
     "output_type": "stream",
     "text": [
      "a\n",
      "97\n"
     ]
    }
   ],
   "source": [
    "# 입력 받은 문자를 아스키코드로 변환 (ord = 숫자로 바꾸는것, a->97)\n",
    "n = ord(input())\n",
    "print(n)\n",
    "# 아스키코드 값으로 저장되고, A = 65, a = 97"
   ]
  },
  {
   "cell_type": "code",
   "execution_count": 13,
   "id": "ae36def6",
   "metadata": {},
   "outputs": [
    {
     "name": "stdout",
     "output_type": "stream",
     "text": [
      "65\n",
      "A\n"
     ]
    }
   ],
   "source": [
    "# 아스키코드 값을 문자나 숫자로 바꿔준다\n",
    "a = int(input())\n",
    "print(chr(a))"
   ]
  },
  {
   "cell_type": "code",
   "execution_count": 15,
   "id": "faa97462",
   "metadata": {},
   "outputs": [
    {
     "name": "stdout",
     "output_type": "stream",
     "text": [
      "10.0 2.02\n",
      "4.950\n"
     ]
    }
   ],
   "source": [
    "# 유효숫자 나타내는 방법 %.3f\n",
    "a, b = map(float, input().split())\n",
    "print('%.3f' %(a/b))"
   ]
  },
  {
   "cell_type": "code",
   "execution_count": 10,
   "id": "6a41c0f5",
   "metadata": {},
   "outputs": [
    {
     "name": "stdout",
     "output_type": "stream",
     "text": [
      "[[3, 3], [0, 0, 1], [1, 0, 0], [0, 1, 0], [0, 0, 0], [0, 0], [], [0], [0], [0], [0], [0], [0], [0], [0], [0], [0], [0], [0], [0]]\n"
     ]
    }
   ],
   "source": [
    "maps = []\n",
    "for _ in range(20):\n",
    "    maps.append(list(map(int, input().split())))\n",
    "\n",
    "num = int(input())\n",
    "for _ in range(num):\n",
    "    a, b = map(int, input().split())\n",
    "    for i in range(20):\n",
    "        maps[a-1][i] ^= 1\n",
    "    for j in range(20):\n",
    "        maps[j][b-1] ^= 1\n",
    "\n",
    "for i in range(20):\n",
    "    for j in range(20):\n",
    "        print(maps[i][j], end = ' ')\n",
    "    print()"
   ]
  }
 ],
 "metadata": {
  "kernelspec": {
   "display_name": "Python 3 (ipykernel)",
   "language": "python",
   "name": "python3"
  },
  "language_info": {
   "codemirror_mode": {
    "name": "ipython",
    "version": 3
   },
   "file_extension": ".py",
   "mimetype": "text/x-python",
   "name": "python",
   "nbconvert_exporter": "python",
   "pygments_lexer": "ipython3",
   "version": "3.12.0"
  }
 },
 "nbformat": 4,
 "nbformat_minor": 5
}
