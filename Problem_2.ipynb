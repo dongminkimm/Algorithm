{
 "cells": [
  {
   "cell_type": "markdown",
   "id": "8346c065",
   "metadata": {},
   "source": [
    "# 1. Greedy\n",
    "### Q01. 모험가 길드"
   ]
  },
  {
   "cell_type": "code",
   "execution_count": 5,
   "id": "c9962a0b",
   "metadata": {},
   "outputs": [
    {
     "name": "stdout",
     "output_type": "stream",
     "text": [
      "5\n",
      "2 3 1 2 2\n",
      "2\n"
     ]
    }
   ],
   "source": [
    "n = int(input())\n",
    "person = sorted(list(map(int, input().split())))\n",
    "\n",
    "cnt = 0\n",
    "result = 0\n",
    "for p in person:\n",
    "    cnt += 1\n",
    "    if cnt >= p:\n",
    "        result += 1\n",
    "        cnt = 0\n",
    "        \n",
    "print(result)"
   ]
  },
  {
   "cell_type": "markdown",
   "id": "d55636ab",
   "metadata": {},
   "source": [
    "---\n",
    "### Q02. 곱하기 혹은 더하기"
   ]
  },
  {
   "cell_type": "code",
   "execution_count": 10,
   "id": "6a6b1070",
   "metadata": {},
   "outputs": [
    {
     "name": "stdout",
     "output_type": "stream",
     "text": [
      "567\n",
      "210\n"
     ]
    }
   ],
   "source": [
    "numbers = input()\n",
    "result = 0\n",
    "\n",
    "for n in numbers:\n",
    "    n = int(n)\n",
    "    if n <= 1 or result <= 1:\n",
    "        result += n\n",
    "    else:\n",
    "        result *= n\n",
    "        \n",
    "print(result)"
   ]
  },
  {
   "cell_type": "markdown",
   "id": "a0ccf726",
   "metadata": {},
   "source": [
    "---\n",
    "### Q03. 문자열 뒤집기"
   ]
  },
  {
   "cell_type": "code",
   "execution_count": 19,
   "id": "9ce824a0",
   "metadata": {},
   "outputs": [
    {
     "name": "stdout",
     "output_type": "stream",
     "text": [
      "001100\n",
      "1\n"
     ]
    }
   ],
   "source": [
    "num = input()\n",
    "\n",
    "cnt0 = 0\n",
    "cnt1 = 0\n",
    "\n",
    "if int(num[0]) == 0:\n",
    "    cnt0 += 1\n",
    "    past = 0\n",
    "else:\n",
    "    cnt1 += 1\n",
    "    past = 1\n",
    "\n",
    "for n in num[1:]:\n",
    "    n = int(n)\n",
    "    if n == 0 and past == 1:\n",
    "        cnt0 += 1\n",
    "        past = 0\n",
    "    elif n == 1 and past == 0:\n",
    "        cnt1 += 1\n",
    "        past = 1\n",
    "        \n",
    "print(min(cnt0, cnt1))"
   ]
  },
  {
   "cell_type": "markdown",
   "id": "1b073faa",
   "metadata": {},
   "source": [
    "---\n",
    "### Q04. 만들 수 없는 금액"
   ]
  },
  {
   "cell_type": "code",
   "execution_count": 24,
   "id": "3df4454d",
   "metadata": {},
   "outputs": [
    {
     "name": "stdout",
     "output_type": "stream",
     "text": [
      "5\n",
      "3 2 1 1 9\n",
      "8\n"
     ]
    }
   ],
   "source": [
    "n = int(input())\n",
    "coins = sorted(list(map(int, input().split())))\n",
    "\n",
    "target = 1\n",
    "for x in coins:\n",
    "    if target < x:\n",
    "        break\n",
    "    target += x\n",
    "    \n",
    "print(target)"
   ]
  },
  {
   "cell_type": "markdown",
   "id": "52333044",
   "metadata": {},
   "source": [
    "---\n",
    "### Q05. 볼링공 고르기"
   ]
  },
  {
   "cell_type": "code",
   "execution_count": 26,
   "id": "44d1195d",
   "metadata": {},
   "outputs": [
    {
     "name": "stdout",
     "output_type": "stream",
     "text": [
      "8 5\n",
      "1 5 4 3 2 4 5 2\n",
      "25\n"
     ]
    }
   ],
   "source": [
    "n, m = map(int, input().split())\n",
    "balls = sorted(list(map(int, input().split())))\n",
    "\n",
    "cnt = 0\n",
    "for i in range(len(balls)):\n",
    "    for j in range(i, len(balls)):\n",
    "        if balls[i] != balls[j]:\n",
    "            cnt += 1\n",
    "print(cnt)"
   ]
  },
  {
   "cell_type": "code",
   "execution_count": 27,
   "id": "97c13824",
   "metadata": {},
   "outputs": [
    {
     "name": "stdout",
     "output_type": "stream",
     "text": [
      "5 3\n",
      "1 3 2 3 2\n",
      "[0, 1, 2, 2, 0, 0, 0, 0, 0, 0, 0]\n"
     ]
    }
   ],
   "source": [
    "# 답지 코드\n",
    "n , m = map(int, input().split())\n",
    "data = list(map(int, input().split()))\n",
    "\n",
    "array = [0] * 11\n",
    "for x in data:\n",
    "    array[x] += 1\n",
    "result = 0 \n",
    "print(array)\n",
    "\n",
    "for i in range(1, m+1):\n",
    "    n -= array[i]\n",
    "    result += array[i] * n\n",
    "# print(result)"
   ]
  },
  {
   "cell_type": "markdown",
   "id": "d285da91",
   "metadata": {},
   "source": [
    "---\n",
    "### Q06. 무지의 먹방 라이브"
   ]
  },
  {
   "cell_type": "markdown",
   "id": "6f613420",
   "metadata": {},
   "source": [
    "프로그래머스 풀이 -> 어려움... 아이디어 떠올리기 쉽지 않음"
   ]
  },
  {
   "cell_type": "markdown",
   "id": "829b1258",
   "metadata": {},
   "source": [
    "---\n",
    "---\n",
    "# 구현\n",
    "### Q07. 럭키 스트레이트"
   ]
  },
  {
   "cell_type": "code",
   "execution_count": 32,
   "id": "466ec003",
   "metadata": {},
   "outputs": [
    {
     "name": "stdout",
     "output_type": "stream",
     "text": [
      "7755\n",
      "READY\n"
     ]
    }
   ],
   "source": [
    "score = list(map(int, input()))\n",
    "half = len(score) // 2\n",
    "\n",
    "d1 = score[:half]\n",
    "d2 = score[half:]\n",
    "\n",
    "if sum(d1) == sum(d2):\n",
    "    print(\"LUCKY\")\n",
    "else:\n",
    "    print('READY')"
   ]
  },
  {
   "cell_type": "markdown",
   "id": "f2a12d34",
   "metadata": {},
   "source": [
    "---\n",
    "### Q08. 문자열 재정렬"
   ]
  },
  {
   "cell_type": "code",
   "execution_count": 46,
   "id": "71489d26",
   "metadata": {},
   "outputs": [
    {
     "name": "stdout",
     "output_type": "stream",
     "text": [
      "AJKDLSI412K4JSJ9D\n",
      "ADDIJJJKKLSS20\n"
     ]
    }
   ],
   "source": [
    "data = list(input())\n",
    "data.sort()\n",
    "\n",
    "num = []\n",
    "char = []\n",
    "for i in range(len(data)):\n",
    "    try:\n",
    "        num.append(int(data[i]))\n",
    "    except:\n",
    "        char.append(data[i])\n",
    "print(''.join(char) + str(sum(num)))"
   ]
  },
  {
   "cell_type": "markdown",
   "id": "1cdb67fc",
   "metadata": {},
   "source": [
    "---\n",
    "### Q09. 문자열 압축"
   ]
  },
  {
   "cell_type": "markdown",
   "id": "00c3829f",
   "metadata": {},
   "source": [
    "해결 굳굳"
   ]
  },
  {
   "cell_type": "markdown",
   "id": "38f2ea95",
   "metadata": {},
   "source": [
    "---\n",
    "### Q10. 자물쇠와 열쇠"
   ]
  },
  {
   "cell_type": "code",
   "execution_count": 54,
   "id": "f835a985",
   "metadata": {},
   "outputs": [
    {
     "name": "stdout",
     "output_type": "stream",
     "text": [
      "[[0, 0], [0, 0], [0, 0]]\n",
      "[[4, 1], [5, 2], [6, 3]]\n"
     ]
    }
   ],
   "source": [
    "a = [[1,2,3], [4,5,6]]\n",
    "\n",
    "def rotate_(a):\n",
    "    n = len(a)\n",
    "    m = len(a[0])\n",
    "    result = [[0] * n for _ in range(m)]\n",
    "    print(result)\n",
    "    for i in range(n):\n",
    "        for j in range(m):\n",
    "            result[j][n-i-1] = a[i][j]\n",
    "    return result\n",
    "    \n",
    "a = rotate_(a)\n",
    "print(a)\n",
    "\n",
    "# 123\n",
    "# 456\n",
    "# 789"
   ]
  },
  {
   "cell_type": "markdown",
   "id": "056eb8f6",
   "metadata": {},
   "source": [
    "---\n",
    "### Q11. 뱀"
   ]
  },
  {
   "cell_type": "code",
   "execution_count": 29,
   "id": "6b190d9b",
   "metadata": {},
   "outputs": [
    {
     "name": "stdout",
     "output_type": "stream",
     "text": [
      "10\n",
      "4\n",
      "1 2\n",
      "1 3\n",
      "1 4\n",
      "1 5\n",
      "4\n",
      "8 D\n",
      "10 D\n",
      "11 D\n",
      "13 L\n",
      "21\n"
     ]
    }
   ],
   "source": [
    "n = int(input())\n",
    "k = int(input())\n",
    "\n",
    "graph = [[0] * (n+1) for _ in range(n+1)]\n",
    "for _ in range(k):\n",
    "    x, y = map(int, input().split())\n",
    "    graph[x][y] = 1\n",
    "\n",
    "turn_cnt = int(input())\n",
    "turn_list = []\n",
    "for _ in range(turn_cnt):\n",
    "    i, j = input().split()\n",
    "    turn_list.append((int(i), j))\n",
    "\n",
    "dx = [0, 1, 0, -1]\n",
    "dy = [1, 0, -1, 0]\n",
    "\n",
    "def turn(direction, c):\n",
    "    if c == 'L':\n",
    "        if direction == 0:\n",
    "            direction = 3\n",
    "        else:\n",
    "            direction -= 1\n",
    "    else:\n",
    "        if direction == 3:\n",
    "            direction = 0\n",
    "        else:\n",
    "            direction += 1\n",
    "    return direction\n",
    "\n",
    "def simulate():\n",
    "    x, y = 1, 1\n",
    "    graph[x][y] = 2\n",
    "    time = 0\n",
    "    index = 0\n",
    "    direction = 0\n",
    "    q = [(x, y)]\n",
    "    \n",
    "    while True:\n",
    "        nx = x + dx[direction]\n",
    "        ny = y + dy[direction]\n",
    "        if nx >= 1 and ny >= 1 and nx <= n and ny <= n and graph[nx][ny] != 2:\n",
    "            if graph[nx][ny] == 0:\n",
    "                graph[nx][ny] = 2\n",
    "                q.append((nx, ny))\n",
    "                px, py = q.pop(0)\n",
    "                graph[px][py] = 0\n",
    "                \n",
    "            elif graph[nx][ny] == 1:\n",
    "                graph[nx][ny] = 2\n",
    "                q.append((nx, ny))\n",
    "        else:\n",
    "            time += 1\n",
    "            break\n",
    "        time += 1\n",
    "        x, y = nx, ny\n",
    "        if index < turn_cnt and time == turn_list[index][0]:\n",
    "            direction = turn(direction, turn_list[index][1])\n",
    "            index += 1\n",
    "    return time\n",
    "\n",
    "print(simulate())"
   ]
  },
  {
   "cell_type": "markdown",
   "id": "c33ccb78",
   "metadata": {},
   "source": [
    "---\n",
    "Q12 ~ Q14 는 잠시 건너뜀   \n",
    "\n",
    "---"
   ]
  },
  {
   "cell_type": "markdown",
   "id": "0e066b48",
   "metadata": {},
   "source": [
    "# DFS / BFS\n",
    "### Q15. 특정 거리의 도시 찾기"
   ]
  },
  {
   "cell_type": "code",
   "execution_count": 41,
   "id": "6b1cbe8b",
   "metadata": {},
   "outputs": [
    {
     "name": "stdout",
     "output_type": "stream",
     "text": [
      "4 4 1 1\n",
      "1 2\n",
      "1 3\n",
      "2 3\n",
      "2 4\n",
      "2\n",
      "3\n"
     ]
    }
   ],
   "source": [
    "from collections import deque\n",
    "\n",
    "n, m, k, x = map(int, input().split())\n",
    "\n",
    "cnt = [-1] * (n+1)\n",
    "graph = [[] for _ in range(n+1)]\n",
    "for _ in range(m):\n",
    "    a, b = map(int, input().split())\n",
    "    graph[a].append(b)\n",
    "\n",
    "q = deque([x])\n",
    "cnt[x] = 0\n",
    "while q:\n",
    "    now = q.popleft()\n",
    "    for i in graph[now]:\n",
    "        if cnt[i] == -1:\n",
    "            q.append(i)\n",
    "            cnt[i] = cnt[now] + 1\n",
    "            \n",
    "check = False\n",
    "for i in range(1, n+1):\n",
    "    if cnt[i] == k:\n",
    "        print(i)\n",
    "        check = True\n",
    "if not check:\n",
    "    print(-1)"
   ]
  },
  {
   "cell_type": "markdown",
   "id": "f5354f30",
   "metadata": {},
   "source": [
    "---\n",
    "### Q16. 연구소"
   ]
  },
  {
   "cell_type": "code",
   "execution_count": 28,
   "id": "f194115d",
   "metadata": {},
   "outputs": [
    {
     "name": "stdout",
     "output_type": "stream",
     "text": [
      "7 7\n",
      "2 0 0 0 1 1 0\n",
      "0 0 1 0 1 2 0\n",
      "0 1 1 0 1 0 0\n",
      "0 1 0 0 0 0 0\n",
      "0 0 0 0 0 1 1\n",
      "0 1 0 0 0 0 0\n",
      "0 1 0 0 0 0 0\n",
      "27\n"
     ]
    }
   ],
   "source": [
    "n, m = map(int, input().split())\n",
    "graph = []\n",
    "for _ in range(n):\n",
    "    graph.append(list(map(int, input().split())))\n",
    "\n",
    "temp = [[0] * m for i in range(n)]\n",
    "\n",
    "dx = [0, 1, 0, -1]\n",
    "dy = [1, 0, -1, 0]\n",
    "\n",
    "cnt = 0\n",
    "\n",
    "def virus(x, y):\n",
    "    for i in range(4):\n",
    "        nx = x + dx[i]\n",
    "        ny = y + dy[i]\n",
    "        if nx >= 0 and ny >= 0 and nx < n and ny < m:\n",
    "            if temp[nx][ny] == 0:\n",
    "                temp[nx][ny] = 2\n",
    "                virus(nx, ny)\n",
    "                \n",
    "def get_score():\n",
    "    cnt = 0\n",
    "    for i in range(n):\n",
    "        for j in range(m):\n",
    "            if temp[i][j] == 0:\n",
    "                cnt += 1\n",
    "    return cnt\n",
    "\n",
    "def dfs(walls):\n",
    "    global cnt\n",
    "    \n",
    "    if walls == 3:\n",
    "        for i in range(n):\n",
    "            for j in range(m):\n",
    "                temp[i][j] = graph[i][j]\n",
    "                \n",
    "        for i in range(n):\n",
    "            for j in range(m):\n",
    "                if temp[i][j] == 2:\n",
    "                    virus(i, j)\n",
    "        cnt = max(cnt, get_score())\n",
    "        return\n",
    "        \n",
    "    for i in range(n):\n",
    "        for j in range(m):\n",
    "            if graph[i][j] == 0:\n",
    "                graph[i][j] = 1\n",
    "                walls += 1\n",
    "                dfs(walls)\n",
    "                graph[i][j] -= 1\n",
    "                walls -= 1\n",
    "dfs(0)\n",
    "print(cnt)"
   ]
  },
  {
   "cell_type": "markdown",
   "id": "d9dd78d8",
   "metadata": {},
   "source": [
    "---\n",
    "### Q17. 경쟁적 전염"
   ]
  },
  {
   "cell_type": "code",
   "execution_count": 10,
   "id": "5e73a2fa",
   "metadata": {},
   "outputs": [
    {
     "name": "stdout",
     "output_type": "stream",
     "text": [
      "3 3\n",
      "1 0 2\n",
      "0 0 0\n",
      "3 0 0\n",
      "1 2 2\n",
      "0\n"
     ]
    }
   ],
   "source": [
    "# 내 풀이지만 시간초과.... 딱 봐도 for문 중첩한거 보면 알고 있던 결과..\n",
    "import copy\n",
    "\n",
    "n, k = map(int, input().split())\n",
    "graph = []\n",
    "for _ in range(n):\n",
    "    graph.append(list(map(int, input().split())))\n",
    "s, x, y = map(int ,input().split())\n",
    "\n",
    "temp = copy.deepcopy(graph)\n",
    "\n",
    "dx = [0, 1, 0, -1]\n",
    "dy = [1, 0, -1, 0]\n",
    "\n",
    "def virus(type, x, y):\n",
    "    for i in range(4):\n",
    "        nx = x + dx[i]\n",
    "        ny = y + dy[i]\n",
    "        if nx >= 0 and ny >= 0 and nx < n and ny < n:\n",
    "            if temp[nx][ny] == 0:\n",
    "                temp[nx][ny] = type\n",
    "    return temp\n",
    "            \n",
    "def simulate(graph):\n",
    "    for q in range(s):\n",
    "        for t in range(1, k+1):\n",
    "            for i in range(n):\n",
    "                for j in range(n):\n",
    "                    if graph[i][j] == t:\n",
    "                        temp = virus(t, i, j)\n",
    "        for i in range(n):\n",
    "            for j in range(n):\n",
    "                if graph[i][j] != temp[i][j]:\n",
    "                    graph[i][j] = temp[i][j]\n",
    "\n",
    "simulate(graph)\n",
    "\n",
    "print(graph[x-1][y-1])"
   ]
  },
  {
   "cell_type": "code",
   "execution_count": 13,
   "id": "c2245d13",
   "metadata": {},
   "outputs": [
    {
     "name": "stdout",
     "output_type": "stream",
     "text": [
      "3 3\n",
      "1 0 2\n",
      "0 0 0\n",
      "3 0 0\n",
      "2 3 2\n",
      "3\n"
     ]
    }
   ],
   "source": [
    "from collections import deque\n",
    "\n",
    "n, k = map(int, input().split())\n",
    "graph = []\n",
    "data = []\n",
    "\n",
    "for i in range(n):\n",
    "    graph.append(list(map(int, input().split())))\n",
    "    for j in range(n):\n",
    "        if graph[i][j] != 0:\n",
    "            data.append((graph[i][j], 0, i, j))\n",
    "            \n",
    "target_s, target_x, target_y = map(int, input().split())\n",
    "\n",
    "data.sort()\n",
    "q = deque(data)\n",
    "\n",
    "dx = [0, 1, 0, -1]\n",
    "dy = [1, 0, -1, 0]\n",
    "\n",
    "while q:\n",
    "    virus, s, x, y = q.popleft()\n",
    "    if target_s == s:\n",
    "        break\n",
    "    for i in range(4):\n",
    "        nx = x + dx[i]\n",
    "        ny = y + dy[i]\n",
    "        if nx >= 0 and ny >= 0 and nx < n and ny < n and graph[nx][ny] == 0:\n",
    "            graph[nx][ny] = virus\n",
    "            q.append((virus, s + 1, nx, ny))\n",
    "            \n",
    "print(graph[target_x - 1][target_y - 1])"
   ]
  },
  {
   "cell_type": "markdown",
   "id": "7fd5beaf",
   "metadata": {},
   "source": [
    "---\n",
    "### Q18. 괄호 변환"
   ]
  },
  {
   "cell_type": "code",
   "execution_count": null,
   "id": "86b5d182",
   "metadata": {},
   "outputs": [],
   "source": [
    "def check_correct(p):\n",
    "    ans = True\n",
    "    cnt = 0\n",
    "    for i in range(len(p)):\n",
    "        if p[i] == '(':\n",
    "            cnt += 1\n",
    "        else:\n",
    "            cnt -= 1\n",
    "        if cnt < 0:\n",
    "            ans = False\n",
    "            break\n",
    "    return ans\n",
    "\n",
    "def correct(p):\n",
    "    cnt = 0\n",
    "    for i in range(len(p)):\n",
    "        if p[i] == '(':\n",
    "            cnt += 1\n",
    "        else:\n",
    "            cnt -= 1\n",
    "        if cnt == 0:\n",
    "            break\n",
    "    u = p[:i+1]\n",
    "    v = p[i+1:]\n",
    "    return u, v\n",
    "        \n",
    "def solution(p):\n",
    "    ans = ''\n",
    "    if not p or check_correct(p):\n",
    "        return p\n",
    "    u, v = correct(p)\n",
    "    if not check_correct(u):\n",
    "        ans = '('\n",
    "        ans += solution(v)\n",
    "        ans += ')'\n",
    "        for i in range(1, len(u)-1):\n",
    "            if u[i] == '(':\n",
    "                ans += ')'\n",
    "            else:\n",
    "                ans += '('\n",
    "    else:\n",
    "        ans = u + solution(v)\n",
    "    return ans"
   ]
  },
  {
   "cell_type": "markdown",
   "id": "65e52008",
   "metadata": {},
   "source": [
    "---\n",
    "### Q19. 연산자 끼워 넣기"
   ]
  },
  {
   "cell_type": "code",
   "execution_count": 43,
   "id": "b3d36b22",
   "metadata": {},
   "outputs": [
    {
     "name": "stdout",
     "output_type": "stream",
     "text": [
      "6\n",
      "1 2 3 4 5 6\n",
      "2 1 1 1\n",
      "54\n",
      "-24\n"
     ]
    }
   ],
   "source": [
    "# 내가 짠 코드 -> 시간초과\n",
    "from itertools import permutations\n",
    "\n",
    "n = int(input())\n",
    "nums = list(map(int, input().split()))\n",
    "temp = list(map(int, input().split()))\n",
    "op = []\n",
    "for i in range(len(temp)):\n",
    "    if not temp[i]:\n",
    "        continue\n",
    "    for _ in range(temp[i]):\n",
    "        if i == 0:\n",
    "            op.append('+')\n",
    "        elif i == 1:\n",
    "            op.append('-')\n",
    "        elif i == 2:\n",
    "            op.append('*')\n",
    "        elif i == 3:\n",
    "            op.append('//')\n",
    "ans = list(permutations(op))\n",
    "\n",
    "ans_list = []\n",
    "for i in range(len(ans)):\n",
    "    ops = ans[i]\n",
    "    temp = nums[0]\n",
    "    for j in range(1, n):\n",
    "        if ops[j-1] == '//':\n",
    "            if temp < 0:\n",
    "                temp *= -1\n",
    "                temp = temp // + nums[j]\n",
    "                continue\n",
    "            temp = temp // nums[j]\n",
    "        elif ops[j-1] == '+':\n",
    "            temp = temp + nums[j]\n",
    "        elif ops[j-1] == '-':\n",
    "            temp = temp - nums[j]\n",
    "        elif ops[j-1] == '*':\n",
    "            temp = temp * nums[j]\n",
    "    ans_list.append(temp)\n",
    "print(max(ans_list))\n",
    "print(min(ans_list))"
   ]
  },
  {
   "cell_type": "code",
   "execution_count": 51,
   "id": "13bfd321",
   "metadata": {},
   "outputs": [
    {
     "name": "stdout",
     "output_type": "stream",
     "text": [
      "6\n",
      "1 2 3 4 5 6\n",
      "2 1 1 1\n",
      "54\n",
      "-24\n"
     ]
    }
   ],
   "source": [
    "# 다시 짠 코드... import sys / input = sys.stdin.readline 해야 되더라\n",
    "n = int(input())\n",
    "num = list(map(int, input().split()))\n",
    "op = list(map(int, input().split()))\n",
    "\n",
    "maximum = -1e9\n",
    "minimum = 1e9\n",
    "\n",
    "def dfs(i, now, add, sub, mul, div):\n",
    "    global maximum, minimum\n",
    "    if i == n:\n",
    "        maximum = max(now, maximum)\n",
    "        minimum = min(now, minimum)\n",
    "        return\n",
    "    if add:\n",
    "        dfs(i+1, now + num[i], add-1, sub, mul, div)\n",
    "    if sub:\n",
    "        dfs(i+1, now - num[i], add, sub-1, mul, div)\n",
    "    if mul:\n",
    "        dfs(i+1, now * num[i], add, sub, mul-1, div)\n",
    "    if div:\n",
    "        if now < 0:\n",
    "            dfs(i+1, -(-now // num[i]), add, sub, mul, div-1)\n",
    "        else:\n",
    "            dfs(i+1, int(now / num[i]), add, sub, mul, div-1)\n",
    "        \n",
    "dfs(1, num[0], op[0], op[1], op[2], op[3])\n",
    "print(maximum)\n",
    "print(minimum)"
   ]
  },
  {
   "cell_type": "markdown",
   "id": "4ee10ad6",
   "metadata": {},
   "source": [
    "---\n",
    "### Q20. 감시 피하기"
   ]
  },
  {
   "cell_type": "code",
   "execution_count": 16,
   "id": "f071677a",
   "metadata": {},
   "outputs": [
    {
     "name": "stdout",
     "output_type": "stream",
     "text": [
      "4\n",
      "s s s t\n",
      "x x x x\n",
      "x x x x\n",
      "t t t x\n",
      "NO\n"
     ]
    }
   ],
   "source": [
    "from itertools import combinations\n",
    "n = int(input())\n",
    "graph = []\n",
    "data = []\n",
    "blank = []\n",
    "for i in range(n):\n",
    "    graph.append(input().split())\n",
    "    for j in range(n):\n",
    "        if graph[i][j] == 't':\n",
    "            data.append((i, j))\n",
    "        elif graph[i][j] == 'x':\n",
    "            blank.append((i, j))\n",
    "\n",
    "def check(x, y, i):\n",
    "    if i == 0:\n",
    "        while y >= 0:\n",
    "            if graph[x][y] == 's':\n",
    "                return True\n",
    "            elif graph[x][y] == 'o':\n",
    "                return False\n",
    "            y -= 1\n",
    "    elif i == 1:\n",
    "        while y < n:\n",
    "            if graph[x][y] == 's':\n",
    "                return True\n",
    "            elif graph[x][y] == 'o':\n",
    "                return False\n",
    "            y += 1\n",
    "    elif i == 2:\n",
    "        while x >= 0:\n",
    "            if graph[x][y] == 's':\n",
    "                return True\n",
    "            elif graph[x][y] == 'o':\n",
    "                return False\n",
    "            x -= 1\n",
    "    elif i == 3:\n",
    "        while x < n:\n",
    "            if graph[x][y] == 's':\n",
    "                return True\n",
    "            elif graph[x][y] == 'o':\n",
    "                return False\n",
    "            x += 1\n",
    "    return False\n",
    "\n",
    "\n",
    "find = False\n",
    "def dfs():\n",
    "    for x, y in data:\n",
    "        for i in range(4):\n",
    "            if check(x, y, i):\n",
    "                return True\n",
    "    return False\n",
    "\n",
    "for temp in combinations(blank, 3):\n",
    "    for x, y in temp:\n",
    "        graph[x][y] = 'o'\n",
    "    if not dfs():\n",
    "        find = True\n",
    "        break\n",
    "    for x, y in temp:\n",
    "        graph[x][y] = 'x'\n",
    "            \n",
    "\n",
    "if find:\n",
    "    print('YES')\n",
    "else:\n",
    "    print('NO')"
   ]
  },
  {
   "cell_type": "markdown",
   "id": "86ec6306",
   "metadata": {},
   "source": [
    "---\n",
    "### Q21. 인구 이동"
   ]
  },
  {
   "cell_type": "code",
   "execution_count": 6,
   "id": "2e47c67e",
   "metadata": {},
   "outputs": [
    {
     "name": "stdout",
     "output_type": "stream",
     "text": [
      "2 20 50\n",
      "50 30\n",
      "20 40\n",
      "[((0, 0), (0, 1)), ((0, 0), (1, 0)), ((0, 1), (0, 0)), ((1, 0), (1, 1)), ((1, 0), (0, 0)), ((1, 1), (1, 0))]\n"
     ]
    }
   ],
   "source": [
    "# 일단 패스,.. 어려워\n",
    "\n",
    "n, l, r = map(int, input().split())\n",
    "population = []\n",
    "for _ in range(n):\n",
    "    population.append(list(map(int, input().split())))\n",
    "    \n",
    "temp = []\n",
    "unite = []\n",
    "\n",
    "dx = [0, 1, 0, -1]\n",
    "dy = [1, 0, -1, 0]\n",
    "\n",
    "def combine(x, y, total):\n",
    "    for i in range(4):\n",
    "        nx = x + dx[i]\n",
    "        ny = y + dy[i]\n",
    "        if nx >= 0 and ny >= 0 and nx < n and ny < n:\n",
    "            if abs(population[nx][ny] - population[x][y]) >= l and abs(population[nx][ny] - population[x][y]) <= r:\n",
    "                total += \n",
    "                temp.append(((x, y), (nx, ny)))\n",
    "\n",
    "def find():\n",
    "    total = 0\n",
    "    for i in range(n):\n",
    "        for j in range(n):\n",
    "            combine(i, j, total)\n",
    "find()\n",
    "print(temp)"
   ]
  },
  {
   "cell_type": "markdown",
   "id": "347f3d04",
   "metadata": {},
   "source": [
    "--- \n",
    "# 정렬\n",
    "### Q23. 국영수"
   ]
  },
  {
   "cell_type": "code",
   "execution_count": 21,
   "id": "803a4365",
   "metadata": {},
   "outputs": [
    {
     "name": "stdout",
     "output_type": "stream",
     "text": [
      "12\n",
      "Junkyu 50 60 100\n",
      "Sangkeun 80 60 50\n",
      "Sunyoung 80 70 100\n",
      "Soong 50 60 90\n",
      "Haebin 50 60 100\n",
      "Kangsoo 60 80 100\n",
      "Donghyuk 80 60 100\n",
      "Sei 70 70 70\n",
      "Wonseob 70 70 90\n",
      "Sanghyun 70 70 80\n",
      "nsj 80 80 80\n",
      "Taehwan 50 60 90\n",
      "Donghyuk\n",
      "Sangkeun\n",
      "Sunyoung\n",
      "nsj\n",
      "Wonseob\n",
      "Sanghyun\n",
      "Sei\n",
      "Kangsoo\n",
      "Haebin\n",
      "Junkyu\n",
      "Soong\n",
      "Taehwan\n"
     ]
    }
   ],
   "source": [
    "n = int(input())\n",
    "data = []\n",
    "for _ in range(n):\n",
    "    name, a, b, c = input().split()\n",
    "    temp = [name, int(a), int(b), int(c)]\n",
    "    data.append(temp)\n",
    "\n",
    "data.sort(key = lambda x: (-x[1], x[2], -x[3], x[0]))\n",
    "\n",
    "for i in data:\n",
    "    print(i[0])"
   ]
  },
  {
   "cell_type": "markdown",
   "id": "aa7160f0",
   "metadata": {},
   "source": [
    "---\n",
    "### Q24. 안테나"
   ]
  },
  {
   "cell_type": "code",
   "execution_count": 37,
   "id": "d7665872",
   "metadata": {},
   "outputs": [
    {
     "name": "stdout",
     "output_type": "stream",
     "text": [
      "4\n",
      "5 1 7 9\n",
      "5\n"
     ]
    }
   ],
   "source": [
    "n = int(input())\n",
    "home = sorted(list(map(int, input().split())))\n",
    "\n",
    "print(home[(n-1)//2])"
   ]
  },
  {
   "cell_type": "markdown",
   "id": "df6e54ea",
   "metadata": {},
   "source": [
    "---\n",
    "### Q25. 실패율"
   ]
  },
  {
   "cell_type": "code",
   "execution_count": 38,
   "id": "070a2c4b",
   "metadata": {},
   "outputs": [],
   "source": [
    "def solution(N, stages):\n",
    "    temp = []\n",
    "    total = len(stages)\n",
    "    for i in range(1, N+1):\n",
    "        now = stages.count(i)\n",
    "        if now:\n",
    "            temp.append(((now / total), i))\n",
    "            total -= now\n",
    "        else:\n",
    "            temp.append((0, i))\n",
    "    temp.sort(key = lambda x: (-x[0], x[1]))\n",
    "    \n",
    "    answer = [x[1] for x in temp]\n",
    "    return answer"
   ]
  },
  {
   "cell_type": "markdown",
   "id": "b741b3e2",
   "metadata": {},
   "source": [
    "---\n",
    "### Q26. 카드 정렬하기"
   ]
  },
  {
   "cell_type": "code",
   "execution_count": 14,
   "id": "776c2528",
   "metadata": {},
   "outputs": [
    {
     "name": "stdout",
     "output_type": "stream",
     "text": [
      "4\n",
      "10\n",
      "20\n",
      "40\n",
      "50\n",
      "220\n"
     ]
    }
   ],
   "source": [
    "import heapq\n",
    "\n",
    "n = int(input())\n",
    "heap = []\n",
    "for _ in range(n):\n",
    "    data = int(input())\n",
    "    heapq.heappush(heap, data)\n",
    "\n",
    "answer = 0\n",
    "while len(heap) >= 2:\n",
    "    first = heapq.heappop(heap)\n",
    "    second = heapq.heappop(heap)\n",
    "    total = first + second\n",
    "    answer += total\n",
    "    heapq.heappush(heap, total)\n",
    "    \n",
    "print(answer)"
   ]
  },
  {
   "cell_type": "markdown",
   "id": "28de6468",
   "metadata": {},
   "source": [
    "--- \n",
    "# 이진 탐색 문제\n",
    "### Q27. 정렬된 배열에서 특정 수의 개수 구하기"
   ]
  },
  {
   "cell_type": "code",
   "execution_count": 3,
   "id": "c9d01f34",
   "metadata": {},
   "outputs": [
    {
     "name": "stdout",
     "output_type": "stream",
     "text": [
      "7 4\n",
      "1 1 2 2 2 2 3\n",
      "-1\n"
     ]
    }
   ],
   "source": [
    "from bisect import bisect_left, bisect_right\n",
    "\n",
    "n, x = map(int, input().split())\n",
    "data = list(map(int, input().split()))\n",
    "\n",
    "answer = bisect_right(data, x) - bisect_left(data, x)\n",
    "if answer:\n",
    "    print(answer)\n",
    "else:\n",
    "    print(-1)"
   ]
  },
  {
   "cell_type": "markdown",
   "id": "6b57da92",
   "metadata": {},
   "source": [
    "---\n",
    "### Q28. 고정점 찾기"
   ]
  },
  {
   "cell_type": "code",
   "execution_count": 21,
   "id": "9fbf56c7",
   "metadata": {},
   "outputs": [
    {
     "name": "stdout",
     "output_type": "stream",
     "text": [
      "7\n",
      "-15 -4 3 8 9 13 15\n",
      "-1\n"
     ]
    }
   ],
   "source": [
    "from bisect import bisect_left, bisect_right\n",
    "\n",
    "n = int(input())\n",
    "data = list(map(int, input().split()))\n",
    "check = False\n",
    "answer = 0\n",
    "\n",
    "def find_fixed(temp):\n",
    "    global check, answer\n",
    "    if check:\n",
    "        return\n",
    "    i = (len(temp) - 1) // 2\n",
    "    if i >= 0 and i < n:\n",
    "        pos = data.index(temp[i])\n",
    "        if pos > temp[i]:\n",
    "            find_fixed(temp[i+1:])\n",
    "        elif pos < data[i]:\n",
    "            find_fixed(temp[:i])\n",
    "        elif pos == temp[i]:\n",
    "            check = True\n",
    "            answer = pos\n",
    "    return\n",
    "\n",
    "find_fixed(data)\n",
    "if check:\n",
    "    print(answer)\n",
    "else:\n",
    "    print(-1)"
   ]
  },
  {
   "cell_type": "markdown",
   "id": "00752b80",
   "metadata": {},
   "source": [
    "---\n",
    "### Q29. 공유기 설치"
   ]
  },
  {
   "cell_type": "code",
   "execution_count": 27,
   "id": "03721867",
   "metadata": {},
   "outputs": [
    {
     "name": "stdout",
     "output_type": "stream",
     "text": [
      "5 3\n",
      "1\n",
      "2\n",
      "8\n",
      "4\n",
      "9\n",
      "4\n",
      "2\n",
      "3\n",
      "3\n"
     ]
    }
   ],
   "source": [
    "# 와우 어려워....\n",
    "# 이해가 잘 안되네\n",
    "n, c = map(int, input().split())\n",
    "home = []\n",
    "for _ in range(n):\n",
    "    home.append(int(input()))\n",
    "home.sort()\n",
    "\n",
    "result = 0\n",
    "start = 1\n",
    "end = home[-1] - home[0]\n",
    "\n",
    "while start <= end:\n",
    "    mid = (start + end) // 2\n",
    "    current = home[0]\n",
    "    count = 1\n",
    "    \n",
    "    for i in range(1, len(home)):\n",
    "        if home[i] >= current + mid:\n",
    "            count += 1\n",
    "            current = home[i]\n",
    "    if count >= c:\n",
    "        start = mid + 1\n",
    "        result = mid\n",
    "        \n",
    "    else:\n",
    "        end = mid - 1\n",
    "print(result)"
   ]
  },
  {
   "cell_type": "markdown",
   "id": "4d295d1d",
   "metadata": {},
   "source": [
    "---\n",
    "### Q30. 가사 검색"
   ]
  },
  {
   "cell_type": "code",
   "execution_count": null,
   "id": "ab2b5431",
   "metadata": {},
   "outputs": [],
   "source": [
    "# 정확도 100% / 효율성 3/5 ㅠㅠ\n",
    "def solution(words, queries):\n",
    "    answer = []\n",
    "    for q in queries:\n",
    "        length = len(q)\n",
    "        cnt = 0\n",
    "        if q[0] == '?':\n",
    "            q = q.replace('?','')\n",
    "            for w in words:\n",
    "                if w.endswith(q) and len(w) == length:\n",
    "                    cnt += 1\n",
    "            answer.append(cnt)\n",
    "        else:\n",
    "            q = q.replace('?', '')\n",
    "            for w in words:\n",
    "                if w.startswith(q) and len(w) == length:\n",
    "                    cnt += 1\n",
    "            answer.append(cnt)\n",
    "    return answer"
   ]
  },
  {
   "cell_type": "markdown",
   "id": "c953e388",
   "metadata": {},
   "source": [
    "--- \n",
    "# 다이나믹 프로그래밍 문제\n",
    "### Q31. 금광"
   ]
  },
  {
   "cell_type": "code",
   "execution_count": 52,
   "id": "f026ff9d",
   "metadata": {},
   "outputs": [
    {
     "name": "stdout",
     "output_type": "stream",
     "text": [
      "2\n",
      "3 4\n",
      "1 3 3 2 2 1 4 1 0 6 4 7\n",
      "4 4\n",
      "1 3 1 5 2 2 4 1 5 0 2 3 0 6 1 2\n",
      "19\n",
      "16\n"
     ]
    }
   ],
   "source": [
    "# 내 풀이\n",
    "T = int(input())\n",
    "data = []\n",
    "for _ in range(T):\n",
    "    gold = []\n",
    "    n, m = map(int, input().split())\n",
    "    temp = list(map(int, input().split()))\n",
    "    for i in range(0, len(temp), m):\n",
    "        gold.append(temp[i:i+m])\n",
    "    data.append((n, m, gold))\n",
    "    \n",
    "answer = []\n",
    "for d in data:\n",
    "    n, m, graph = d\n",
    "    dp = []\n",
    "    start = -int(1e9)\n",
    "    cnt = 0\n",
    "    for i, row in enumerate(graph):\n",
    "        if row[0] >= start:\n",
    "            start = row[0]\n",
    "            index = i\n",
    "    cnt += start\n",
    "    for i in range(1, m):\n",
    "        if 0 < index < n-1:\n",
    "            next_target = max([graph[index-1][i], graph[index][i], graph[index+1][i]])\n",
    "        elif index == 0:\n",
    "            next_target = max([graph[index][i], graph[index+1][i]])\n",
    "        elif index == n-1:\n",
    "            next_target = max([graph[index][i], graph[index-1][i]])\n",
    "\n",
    "        if next_target == graph[index-1][i]:\n",
    "            index = index - 1\n",
    "        elif next_target == graph[index+1][i]:\n",
    "            index = index + 1\n",
    "        cnt += next_target\n",
    "    answer.append(cnt)\n",
    "    \n",
    "for a in answer:\n",
    "    print(a)"
   ]
  },
  {
   "cell_type": "code",
   "execution_count": 55,
   "id": "84bb5b22",
   "metadata": {},
   "outputs": [
    {
     "name": "stdout",
     "output_type": "stream",
     "text": [
      "2\n",
      "3 4\n",
      "1 3 3 2 2 1 4 1 0 6 4 7\n",
      "4 4\n",
      "1 3 1 5 2 2 4 1 5 0 2 3 0 6 1 2\n",
      "19\n",
      "16\n"
     ]
    }
   ],
   "source": [
    "# 답안 코드 (DP 이용했다)\n",
    "answer = []\n",
    "for tc in range(int(input())):\n",
    "    n, m = map(int, input().split())\n",
    "    array = list(map(int, input().split()))\n",
    "    \n",
    "    dp = []\n",
    "    index = 0\n",
    "    for i in range(n):\n",
    "        dp.append(array[index:index+m])\n",
    "        index += m\n",
    "    for j in range(1, m):\n",
    "        for i in range(n):\n",
    "            if i == 0:\n",
    "                left_up = 0\n",
    "            else:\n",
    "                left_up = dp[i-1][j-1]\n",
    "            \n",
    "            if i == n-1:\n",
    "                left_down = 0\n",
    "            else:\n",
    "                left_down = dp[i+1][j-1]\n",
    "            left = dp[i][j-1]\n",
    "            \n",
    "            dp[i][j] += max(left_up, left, left_down)\n",
    "    result = 0\n",
    "    for i in range(n):\n",
    "        result = max(result, dp[i][m-1])\n",
    "    answer.append(result)\n",
    "    \n",
    "for a in answer:\n",
    "    print(a)"
   ]
  },
  {
   "cell_type": "markdown",
   "id": "fca57605",
   "metadata": {},
   "source": [
    "---\n",
    "### Q32. 정수 삼각형"
   ]
  },
  {
   "cell_type": "code",
   "execution_count": 59,
   "id": "020b6699",
   "metadata": {},
   "outputs": [
    {
     "name": "stdout",
     "output_type": "stream",
     "text": [
      "5\n",
      "7\n",
      "3 8\n",
      "8 1 0\n",
      "2 7 4 4\n",
      "4 5 2 6 5\n",
      "30\n"
     ]
    }
   ],
   "source": [
    "n = int(input())\n",
    "tri = []\n",
    "for _ in range(n):\n",
    "    tri.append(list(map(int, input().split())))\n",
    "\n",
    "dp = []\n",
    "for i in range(1, n):\n",
    "    for j in range(len(tri[i])):\n",
    "        if j == 0:\n",
    "            left = 0\n",
    "        else:\n",
    "            left = tri[i-1][j-1]\n",
    "        \n",
    "        if j == len(tri[i]) - 1:\n",
    "            right = 0\n",
    "        else:\n",
    "            right = tri[i-1][j]\n",
    "        tri[i][j] += max(left, right)\n",
    "        \n",
    "print(max(tri[n-1]))"
   ]
  },
  {
   "cell_type": "markdown",
   "id": "63553221",
   "metadata": {},
   "source": [
    "---\n",
    "### Q33. 퇴사"
   ]
  },
  {
   "cell_type": "code",
   "execution_count": 39,
   "id": "2bc2e401",
   "metadata": {},
   "outputs": [
    {
     "name": "stdout",
     "output_type": "stream",
     "text": [
      "10\n",
      "1 1\n",
      "1 2\n",
      "1 3\n",
      "1 4\n",
      "1 5\n",
      "1 6\n",
      "1 7\n",
      "1 8\n",
      "1 9\n",
      "1 10\n",
      "55\n"
     ]
    }
   ],
   "source": [
    "n = int(input())\n",
    "data = []\n",
    "for _ in range(n):\n",
    "    time, pay = map(int, input().split())\n",
    "    data.append((time, pay))\n",
    "    \n",
    "max_value = 0\n",
    "dp = [0] * (n+1)\n",
    "for i in range(n-1, -1, -1):\n",
    "    time = i + data[i][0]\n",
    "    if time <= n:\n",
    "        dp[i] = max(max_value, dp[time] + data[i][1])\n",
    "        max_value = dp[i]\n",
    "    else:\n",
    "        dp[i] = max_value\n",
    "        \n",
    "print(max(dp))"
   ]
  },
  {
   "cell_type": "markdown",
   "id": "aa451473",
   "metadata": {},
   "source": [
    "---\n",
    "### Q34. 병사 배치하기"
   ]
  },
  {
   "cell_type": "code",
   "execution_count": 4,
   "id": "4fdc75c9",
   "metadata": {},
   "outputs": [
    {
     "name": "stdout",
     "output_type": "stream",
     "text": [
      "5\n",
      "1 1 1 1 1\n",
      "4\n"
     ]
    }
   ],
   "source": [
    "n = int(input())\n",
    "array = list(map(int, input().split()))\n",
    "\n",
    "dp = [1] * n\n",
    "\n",
    "for i in range(1, n):\n",
    "    for j in range(i):\n",
    "        if array[i] < array[j]:\n",
    "            dp[i] = max(dp[i], dp[j] + 1)\n",
    "print(n - max(dp))"
   ]
  },
  {
   "cell_type": "markdown",
   "id": "3b4aff94",
   "metadata": {},
   "source": [
    "---\n",
    "### Q35. 못생긴 수"
   ]
  },
  {
   "cell_type": "code",
   "execution_count": 2,
   "id": "68cce132",
   "metadata": {},
   "outputs": [
    {
     "name": "stdout",
     "output_type": "stream",
     "text": [
      "4\n",
      "4\n"
     ]
    }
   ],
   "source": [
    "from itertools import combinations_with_replacement\n",
    "\n",
    "n = int(input())\n",
    "\n",
    "ugly = [1, 2, 3, 5]\n",
    "\n",
    "def mult(data):\n",
    "    result = 1\n",
    "    for d in data:\n",
    "        result *= d\n",
    "    return result\n",
    "\n",
    "for i in range(2, 4):\n",
    "    lis = list(combinations_with_replacement(ugly[1:], i))\n",
    "    for d in lis:\n",
    "        ugly.append(mult(d))\n",
    "        \n",
    "ugly = sorted(list(set(ugly)))\n",
    "print(ugly[n-1])"
   ]
  },
  {
   "cell_type": "markdown",
   "id": "67669bb1",
   "metadata": {},
   "source": [
    "---\n",
    "### Q36. 편집 거리"
   ]
  },
  {
   "cell_type": "code",
   "execution_count": 72,
   "id": "3327d9a8",
   "metadata": {},
   "outputs": [
    {
     "name": "stdout",
     "output_type": "stream",
     "text": [
      "sunday\n",
      "saturday\n",
      "3\n"
     ]
    }
   ],
   "source": [
    "str1 = input()\n",
    "str2 = input()\n",
    "len_list = sorted([len(str1), len(str2)])\n",
    "\n",
    "check = [''] * len_list[1]\n",
    "\n",
    "index = 0\n",
    "for i in range(len_list[0]):\n",
    "    if str1[i] in str2:\n",
    "        index = str2.find(str1[i], index, len_list[1])\n",
    "        check[index] = str1[i]\n",
    "\n",
    "print(check.count(''))"
   ]
  },
  {
   "cell_type": "markdown",
   "id": "f6a6ff47",
   "metadata": {},
   "source": [
    "--- \n",
    "# 최단 경로 문제\n",
    "### Q37. 플로이드"
   ]
  },
  {
   "cell_type": "code",
   "execution_count": 4,
   "id": "877ae322",
   "metadata": {},
   "outputs": [
    {
     "name": "stdout",
     "output_type": "stream",
     "text": [
      "5\n",
      "14\n",
      "1 2 2\n",
      "1 3 3\n",
      "1 4 1\n",
      "1 5 10\n",
      "2 4 2\n",
      "3 4 1\n",
      "3 5 1\n",
      "4 5 3\n",
      "3 5 10\n",
      "3 1 8\n",
      "1 4 2\n",
      "5 1 7\n",
      "3 4 2\n",
      "5 2 4\n",
      "0 2 3 1 4 \n",
      "12 0 15 2 5 \n",
      "8 5 0 1 1 \n",
      "10 7 13 0 3 \n",
      "7 4 10 6 0 \n"
     ]
    }
   ],
   "source": [
    "INF = int(1e9)\n",
    "n = int(input())\n",
    "m = int(input())\n",
    "\n",
    "graph = [[INF] * (n+1) for _ in range(n+1)]\n",
    "\n",
    "for a in range(n+1):\n",
    "    for b in range(n+1):\n",
    "        if a == b:\n",
    "            graph[a][b] = 0\n",
    "\n",
    "for i in range(m):\n",
    "    a, b, c = map(int, input().split())\n",
    "#     graph[a][b] = c\n",
    "    graph[a][b] = min(graph[a][b], c)\n",
    "    \n",
    "for k in range(1, n+1):\n",
    "    for a in range(1, n+1):\n",
    "        for b in range(1, n+1):\n",
    "            graph[a][b] = min(graph[a][b], graph[a][k] + graph[k][b])\n",
    "            \n",
    "for i in range(1, n+1):\n",
    "    for j in range(1, n+1):\n",
    "        if graph[i][j] == INF:\n",
    "            print(0, end =' ')\n",
    "        else:\n",
    "            print(graph[i][j], end=' ')\n",
    "    print()"
   ]
  },
  {
   "cell_type": "markdown",
   "id": "10408095",
   "metadata": {},
   "source": [
    "---\n",
    "### Q38. 정확한 순위"
   ]
  },
  {
   "cell_type": "code",
   "execution_count": 31,
   "id": "6351e24f",
   "metadata": {},
   "outputs": [
    {
     "name": "stdout",
     "output_type": "stream",
     "text": [
      "6 6\n",
      "1 5\n",
      "3 4\n",
      "4 2\n",
      "4 6\n",
      "5 2\n",
      "5 4\n",
      "1\n"
     ]
    }
   ],
   "source": [
    "import heapq\n",
    "\n",
    "n, m = map(int, input().split())\n",
    "graph = [[] for _ in range(n+1)]\n",
    "for i in range(m):\n",
    "    a, b = map(int, input().split())\n",
    "    graph[a].append(b)\n",
    "    \n",
    "check = []\n",
    "\n",
    "def up(start):\n",
    "    q = []\n",
    "    heapq.heappush(q, start)\n",
    "    while q:\n",
    "        now = heapq.heappop(q)\n",
    "        for i in graph[now]:\n",
    "            if i not in visited:\n",
    "                heapq.heappush(q, i)\n",
    "                visited.append(i)\n",
    "            \n",
    "def down(start):\n",
    "    q = []\n",
    "    heapq.heappush(q, start)\n",
    "    while q:\n",
    "        now = heapq.heappop(q)\n",
    "        for i in range(1, n+1):\n",
    "            if now in graph[i]:\n",
    "                heapq.heappush(q, i)\n",
    "                visited.append(i)\n",
    "\n",
    "                \n",
    "answer = [i for i in range(1, n+1)]\n",
    "for i in range(1, n+1):\n",
    "    visited = [i]\n",
    "    up(i)\n",
    "    down(i)\n",
    "    visited = sorted(list(set(visited)))\n",
    "    if visited == answer:\n",
    "        check.append(i)\n",
    "        \n",
    "print(len(check))"
   ]
  },
  {
   "cell_type": "markdown",
   "id": "e0e94a45",
   "metadata": {},
   "source": [
    "---\n",
    "### Q39. 화성 탐사"
   ]
  },
  {
   "cell_type": "code",
   "execution_count": 51,
   "id": "9d2e8da1",
   "metadata": {},
   "outputs": [
    {
     "name": "stdout",
     "output_type": "stream",
     "text": [
      "3\n",
      "3\n",
      "5 5 4\n",
      "3 9 1\n",
      "3 2 7\n",
      "5\n",
      "3 7 2 0 1\n",
      "2 8 0 9 1\n",
      "1 2 1 8 1\n",
      "9 8 9 2 0\n",
      "3 6 5 1 5\n",
      "7\n",
      "9 0 5 1 1 5 3\n",
      "4 1 2 1 6 5 3\n",
      "0 7 6 1 6 8 5\n",
      "1 1 7 8 3 2 3\n",
      "9 4 0 7 6 4 1\n",
      "5 8 3 2 4 8 3\n",
      "7 4 8 4 8 3 4\n",
      "20\n",
      "19\n",
      "36\n"
     ]
    }
   ],
   "source": [
    "import heapq\n",
    "\n",
    "tc = int(input())\n",
    "answer = []\n",
    "\n",
    "dx = [0, 1, 0, -1]\n",
    "dy = [1, 0, -1, 0]\n",
    "\n",
    "def dijkstra(i, j, data):\n",
    "    q = []\n",
    "    heapq.heappush(q, (i, j, graph[i][j]))\n",
    "    data[i][j] = graph[i][j]\n",
    "    while q:\n",
    "        x, y, dist = heapq.heappop(q)\n",
    "        for i in range(4):\n",
    "            nx = x + dx[i]\n",
    "            ny = y + dy[i]\n",
    "            if nx >= 0 and ny >= 0 and nx < n and ny < n:\n",
    "                if data[nx][ny] > (dist + graph[nx][ny]):\n",
    "                    cost = graph[nx][ny] + dist\n",
    "                    heapq.heappush(q, (nx, ny, cost))\n",
    "                    data[nx][ny] = cost\n",
    "    return data\n",
    "\n",
    "for i in range(tc):\n",
    "    n = int(input())\n",
    "    graph = []\n",
    "    visited = [[False] * n for i in range(n)]\n",
    "    data = [[int(1e9)] * n for i in range(n)]\n",
    "    for i in range(n):\n",
    "        graph.append(list(map(int, input().split())))\n",
    "    data = dijkstra(0, 0, data)\n",
    "    answer.append(data[n-1][n-1])\n",
    "    \n",
    "for d in answer:\n",
    "    print(d)"
   ]
  },
  {
   "cell_type": "markdown",
   "id": "e976ae75",
   "metadata": {},
   "source": [
    "---\n",
    "### Q40. 숨바꼭질"
   ]
  },
  {
   "cell_type": "code",
   "execution_count": 65,
   "id": "542962e9",
   "metadata": {},
   "outputs": [
    {
     "name": "stdout",
     "output_type": "stream",
     "text": [
      "6 7\n",
      "3 6\n",
      "4 3\n",
      "3 2\n",
      "1 3\n",
      "1 2\n",
      "2 4\n",
      "5 2\n",
      "4 2 3\n"
     ]
    }
   ],
   "source": [
    "import heapq\n",
    "\n",
    "INF = int(1e9)\n",
    "n, m = map(int, input().split())\n",
    "graph = [[] for _ in range(n+1)]\n",
    "for i in range(m):\n",
    "    a, b = map(int, input().split())\n",
    "    graph[a].append(b)\n",
    "    graph[b].append(a)\n",
    "distance = [INF] * (n+1)\n",
    "distance[1] = 0\n",
    "\n",
    "def dijkstra(start):\n",
    "    q = []\n",
    "    heapq.heappush(q, (0, start))\n",
    "    while q:\n",
    "        dist, now = heapq.heappop(q)\n",
    "        for i in graph[now]:\n",
    "            if distance[i] == INF:\n",
    "                cost = dist + 1\n",
    "                distance[i] = cost\n",
    "                heapq.heappush(q, (cost, i))\n",
    "\n",
    "dijkstra(1)\n",
    "max_value = max(distance[1:])\n",
    "answer = distance.index(max_value)\n",
    "cnt = distance.count(max_value)\n",
    "\n",
    "print(answer, max_value, cnt)"
   ]
  },
  {
   "cell_type": "markdown",
   "id": "b0a97ea9",
   "metadata": {},
   "source": [
    "--- \n",
    "# 그래프 이론 문제\n",
    "### Q41. 여행 계획"
   ]
  },
  {
   "cell_type": "code",
   "execution_count": null,
   "id": "0ccc2418",
   "metadata": {},
   "outputs": [],
   "source": [
    "# n, m = map(int, input().split())\n",
    "# graph = []\n",
    "# for _ in range(n):\n",
    "#     graph.appned(list(map(int, input().split())))\n",
    "# dest = list(map(int, input().split()))"
   ]
  },
  {
   "cell_type": "code",
   "execution_count": null,
   "id": "fdfe5d70",
   "metadata": {},
   "outputs": [],
   "source": []
  },
  {
   "cell_type": "code",
   "execution_count": null,
   "id": "123cd0be",
   "metadata": {},
   "outputs": [],
   "source": []
  },
  {
   "cell_type": "code",
   "execution_count": null,
   "id": "d11df5fd",
   "metadata": {},
   "outputs": [],
   "source": []
  },
  {
   "cell_type": "code",
   "execution_count": null,
   "id": "262bdf64",
   "metadata": {},
   "outputs": [],
   "source": []
  },
  {
   "cell_type": "code",
   "execution_count": null,
   "id": "c95d55be",
   "metadata": {},
   "outputs": [],
   "source": []
  },
  {
   "cell_type": "code",
   "execution_count": null,
   "id": "5d56550b",
   "metadata": {},
   "outputs": [],
   "source": []
  },
  {
   "cell_type": "code",
   "execution_count": null,
   "id": "ca0c72dd",
   "metadata": {},
   "outputs": [],
   "source": []
  },
  {
   "cell_type": "code",
   "execution_count": null,
   "id": "cdca19c7",
   "metadata": {},
   "outputs": [],
   "source": []
  },
  {
   "cell_type": "code",
   "execution_count": null,
   "id": "023523f1",
   "metadata": {},
   "outputs": [],
   "source": []
  },
  {
   "cell_type": "code",
   "execution_count": null,
   "id": "16dae413",
   "metadata": {},
   "outputs": [],
   "source": []
  },
  {
   "cell_type": "code",
   "execution_count": null,
   "id": "518b85dc",
   "metadata": {},
   "outputs": [],
   "source": []
  },
  {
   "cell_type": "code",
   "execution_count": null,
   "id": "5695acd5",
   "metadata": {},
   "outputs": [],
   "source": []
  }
 ],
 "metadata": {
  "kernelspec": {
   "display_name": "Python 3 (ipykernel)",
   "language": "python",
   "name": "python3"
  },
  "language_info": {
   "codemirror_mode": {
    "name": "ipython",
    "version": 3
   },
   "file_extension": ".py",
   "mimetype": "text/x-python",
   "name": "python",
   "nbconvert_exporter": "python",
   "pygments_lexer": "ipython3",
   "version": "3.9.18"
  }
 },
 "nbformat": 4,
 "nbformat_minor": 5
}
