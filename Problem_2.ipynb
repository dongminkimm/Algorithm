{
 "cells": [
  {
   "cell_type": "markdown",
   "id": "8346c065",
   "metadata": {},
   "source": [
    "# 1. Greedy\n",
    "### Q01. 모험가 길드"
   ]
  },
  {
   "cell_type": "code",
   "execution_count": 5,
   "id": "c9962a0b",
   "metadata": {},
   "outputs": [
    {
     "name": "stdout",
     "output_type": "stream",
     "text": [
      "5\n",
      "2 3 1 2 2\n",
      "2\n"
     ]
    }
   ],
   "source": [
    "n = int(input())\n",
    "person = sorted(list(map(int, input().split())))\n",
    "\n",
    "cnt = 0\n",
    "result = 0\n",
    "for p in person:\n",
    "    cnt += 1\n",
    "    if cnt >= p:\n",
    "        result += 1\n",
    "        cnt = 0\n",
    "        \n",
    "print(result)"
   ]
  },
  {
   "cell_type": "markdown",
   "id": "d55636ab",
   "metadata": {},
   "source": [
    "---\n",
    "### Q02. 곱하기 혹은 더하기"
   ]
  },
  {
   "cell_type": "code",
   "execution_count": 10,
   "id": "6a6b1070",
   "metadata": {},
   "outputs": [
    {
     "name": "stdout",
     "output_type": "stream",
     "text": [
      "567\n",
      "210\n"
     ]
    }
   ],
   "source": [
    "numbers = input()\n",
    "result = 0\n",
    "\n",
    "for n in numbers:\n",
    "    n = int(n)\n",
    "    if n <= 1 or result <= 1:\n",
    "        result += n\n",
    "    else:\n",
    "        result *= n\n",
    "        \n",
    "print(result)"
   ]
  },
  {
   "cell_type": "markdown",
   "id": "a0ccf726",
   "metadata": {},
   "source": [
    "---\n",
    "### Q03. 문자열 뒤집기"
   ]
  },
  {
   "cell_type": "code",
   "execution_count": 19,
   "id": "9ce824a0",
   "metadata": {},
   "outputs": [
    {
     "name": "stdout",
     "output_type": "stream",
     "text": [
      "001100\n",
      "1\n"
     ]
    }
   ],
   "source": [
    "num = input()\n",
    "\n",
    "cnt0 = 0\n",
    "cnt1 = 0\n",
    "\n",
    "if int(num[0]) == 0:\n",
    "    cnt0 += 1\n",
    "    past = 0\n",
    "else:\n",
    "    cnt1 += 1\n",
    "    past = 1\n",
    "\n",
    "for n in num[1:]:\n",
    "    n = int(n)\n",
    "    if n == 0 and past == 1:\n",
    "        cnt0 += 1\n",
    "        past = 0\n",
    "    elif n == 1 and past == 0:\n",
    "        cnt1 += 1\n",
    "        past = 1\n",
    "        \n",
    "print(min(cnt0, cnt1))"
   ]
  },
  {
   "cell_type": "markdown",
   "id": "1b073faa",
   "metadata": {},
   "source": [
    "---\n",
    "### Q04. 만들 수 없는 금액"
   ]
  },
  {
   "cell_type": "code",
   "execution_count": 24,
   "id": "3df4454d",
   "metadata": {},
   "outputs": [
    {
     "name": "stdout",
     "output_type": "stream",
     "text": [
      "5\n",
      "3 2 1 1 9\n",
      "8\n"
     ]
    }
   ],
   "source": [
    "n = int(input())\n",
    "coins = sorted(list(map(int, input().split())))\n",
    "\n",
    "target = 1\n",
    "for x in coins:\n",
    "    if target < x:\n",
    "        break\n",
    "    target += x\n",
    "    \n",
    "print(target)"
   ]
  },
  {
   "cell_type": "markdown",
   "id": "52333044",
   "metadata": {},
   "source": [
    "---\n",
    "### Q05. 볼링공 고르기"
   ]
  },
  {
   "cell_type": "code",
   "execution_count": 26,
   "id": "44d1195d",
   "metadata": {},
   "outputs": [
    {
     "name": "stdout",
     "output_type": "stream",
     "text": [
      "8 5\n",
      "1 5 4 3 2 4 5 2\n",
      "25\n"
     ]
    }
   ],
   "source": [
    "n, m = map(int, input().split())\n",
    "balls = sorted(list(map(int, input().split())))\n",
    "\n",
    "cnt = 0\n",
    "for i in range(len(balls)):\n",
    "    for j in range(i, len(balls)):\n",
    "        if balls[i] != balls[j]:\n",
    "            cnt += 1\n",
    "print(cnt)"
   ]
  },
  {
   "cell_type": "code",
   "execution_count": 27,
   "id": "97c13824",
   "metadata": {},
   "outputs": [
    {
     "name": "stdout",
     "output_type": "stream",
     "text": [
      "5 3\n",
      "1 3 2 3 2\n",
      "[0, 1, 2, 2, 0, 0, 0, 0, 0, 0, 0]\n"
     ]
    }
   ],
   "source": [
    "# 답지 코드\n",
    "n , m = map(int, input().split())\n",
    "data = list(map(int, input().split()))\n",
    "\n",
    "array = [0] * 11\n",
    "for x in data:\n",
    "    array[x] += 1\n",
    "result = 0 \n",
    "print(array)\n",
    "\n",
    "for i in range(1, m+1):\n",
    "    n -= array[i]\n",
    "    result += array[i] * n\n",
    "# print(result)"
   ]
  },
  {
   "cell_type": "markdown",
   "id": "d285da91",
   "metadata": {},
   "source": [
    "---\n",
    "### Q06. 무지의 먹방 라이브"
   ]
  },
  {
   "cell_type": "markdown",
   "id": "6f613420",
   "metadata": {},
   "source": [
    "프로그래머스 풀이 -> 어려움... 아이디어 떠올리기 쉽지 않음"
   ]
  },
  {
   "cell_type": "markdown",
   "id": "829b1258",
   "metadata": {},
   "source": [
    "---\n",
    "---\n",
    "# 구현\n",
    "### Q07. 럭키 스트레이트"
   ]
  },
  {
   "cell_type": "code",
   "execution_count": 32,
   "id": "466ec003",
   "metadata": {},
   "outputs": [
    {
     "name": "stdout",
     "output_type": "stream",
     "text": [
      "7755\n",
      "READY\n"
     ]
    }
   ],
   "source": [
    "score = list(map(int, input()))\n",
    "half = len(score) // 2\n",
    "\n",
    "d1 = score[:half]\n",
    "d2 = score[half:]\n",
    "\n",
    "if sum(d1) == sum(d2):\n",
    "    print(\"LUCKY\")\n",
    "else:\n",
    "    print('READY')"
   ]
  },
  {
   "cell_type": "markdown",
   "id": "f2a12d34",
   "metadata": {},
   "source": [
    "---\n",
    "### Q08. 문자열 재정렬"
   ]
  },
  {
   "cell_type": "code",
   "execution_count": 46,
   "id": "71489d26",
   "metadata": {},
   "outputs": [
    {
     "name": "stdout",
     "output_type": "stream",
     "text": [
      "AJKDLSI412K4JSJ9D\n",
      "ADDIJJJKKLSS20\n"
     ]
    }
   ],
   "source": [
    "data = list(input())\n",
    "data.sort()\n",
    "\n",
    "num = []\n",
    "char = []\n",
    "for i in range(len(data)):\n",
    "    try:\n",
    "        num.append(int(data[i]))\n",
    "    except:\n",
    "        char.append(data[i])\n",
    "print(''.join(char) + str(sum(num)))"
   ]
  },
  {
   "cell_type": "markdown",
   "id": "1cdb67fc",
   "metadata": {},
   "source": [
    "---\n",
    "### Q09. 문자열 압축"
   ]
  },
  {
   "cell_type": "markdown",
   "id": "00c3829f",
   "metadata": {},
   "source": [
    "해결 굳굳"
   ]
  },
  {
   "cell_type": "markdown",
   "id": "38f2ea95",
   "metadata": {},
   "source": [
    "---\n",
    "### Q10. 자물쇠와 열쇠"
   ]
  },
  {
   "cell_type": "code",
   "execution_count": 54,
   "id": "f835a985",
   "metadata": {},
   "outputs": [
    {
     "name": "stdout",
     "output_type": "stream",
     "text": [
      "[[0, 0], [0, 0], [0, 0]]\n",
      "[[4, 1], [5, 2], [6, 3]]\n"
     ]
    }
   ],
   "source": [
    "a = [[1,2,3], [4,5,6]]\n",
    "\n",
    "def rotate_(a):\n",
    "    n = len(a)\n",
    "    m = len(a[0])\n",
    "    result = [[0] * n for _ in range(m)]\n",
    "    print(result)\n",
    "    for i in range(n):\n",
    "        for j in range(m):\n",
    "            result[j][n-i-1] = a[i][j]\n",
    "    return result\n",
    "    \n",
    "a = rotate_(a)\n",
    "print(a)\n",
    "\n",
    "# 123\n",
    "# 456\n",
    "# 789"
   ]
  },
  {
   "cell_type": "code",
   "execution_count": null,
   "id": "db2c234a",
   "metadata": {},
   "outputs": [],
   "source": []
  },
  {
   "cell_type": "code",
   "execution_count": null,
   "id": "6b190d9b",
   "metadata": {},
   "outputs": [],
   "source": []
  },
  {
   "cell_type": "code",
   "execution_count": null,
   "id": "b3d36b22",
   "metadata": {},
   "outputs": [],
   "source": []
  },
  {
   "cell_type": "code",
   "execution_count": null,
   "id": "91773dd7",
   "metadata": {},
   "outputs": [],
   "source": []
  },
  {
   "cell_type": "code",
   "execution_count": null,
   "id": "3327d9a8",
   "metadata": {},
   "outputs": [],
   "source": []
  },
  {
   "cell_type": "code",
   "execution_count": null,
   "id": "518b85dc",
   "metadata": {},
   "outputs": [],
   "source": []
  },
  {
   "cell_type": "code",
   "execution_count": null,
   "id": "5695acd5",
   "metadata": {},
   "outputs": [],
   "source": []
  }
 ],
 "metadata": {
  "kernelspec": {
   "display_name": "Python 3 (ipykernel)",
   "language": "python",
   "name": "python3"
  },
  "language_info": {
   "codemirror_mode": {
    "name": "ipython",
    "version": 3
   },
   "file_extension": ".py",
   "mimetype": "text/x-python",
   "name": "python",
   "nbconvert_exporter": "python",
   "pygments_lexer": "ipython3",
   "version": "3.9.18"
  }
 },
 "nbformat": 4,
 "nbformat_minor": 5
}
