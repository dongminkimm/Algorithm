{
 "cells": [
  {
   "cell_type": "markdown",
   "id": "3505b4b7",
   "metadata": {},
   "source": [
    "# Graph_Theory\n",
    "* DFS/BFS, 최단 경로 모두 그래프 알고리즘의 한 유형임\n",
    "* 출제 비중은 낮지만 반드시 알아야 하는 알고리즘\n",
    "\n",
    "> 크루스칼 알고리즘(그리디 알고리즘), 위상 정렬 알고리즘(큐, 스택)\n",
    "* '서로 다른 객체가 연결되어 있다', '여러 개의 도시가 연결되어 있다.' -> 그래프를 떠올려야 함\n",
    "\n",
    "|      |그래프|트리|\n",
    "|------|------|----|\n",
    "|방향성|방향 그래프, 무방향 그래프|방향 그래프|\n",
    "|순환성|순환 및 비순환|비순환|\n",
    "|루트 노드 존재 여부|루트 노드가 없음|루트 노드 존재|\n",
    "|노드간 관계성|부모와 자식 관계 X|부모와 자식 관계 O|\n",
    "|모델의 종류|네트워크 모델|계층 모델|\n",
    "\n",
    "* 그래프의 구현 방법: 인접 행렬, 인접 리스트\n",
    "* 다익스트라 = 인접 리스트, 플로이드 워셜 = 인접 행렬"
   ]
  },
  {
   "cell_type": "markdown",
   "id": "70a31e0c",
   "metadata": {},
   "source": [
    "---"
   ]
  },
  {
   "cell_type": "markdown",
   "id": "b8282060",
   "metadata": {},
   "source": [
    "## 서로소 집합 (Disjoint Sets)\n",
    "> 서로소: 공통 원소가 없는 두 집합\n",
    "\n",
    "* 서로소 집합 자료구조(union-find 자료구조): 서로소 부분 집합들로 나누어진 원소들의 데이터를 처리하기 위한 자료구조\n",
    "> union / find\n",
    "\n",
    "* union 연산을 효과적으로 수행하기 위해 '부모 테이블'을 항상 가지고 있어야 한다."
   ]
  },
  {
   "cell_type": "code",
   "execution_count": 1,
   "id": "5fa7966a",
   "metadata": {},
   "outputs": [
    {
     "name": "stdout",
     "output_type": "stream",
     "text": [
      "6 4\n",
      "1 4\n",
      "2 3\n",
      "2 4\n",
      "5 6\n",
      "각 원소가 속한 집합: 1 1 1 1 5 5 \n",
      "부모 테이블: 1 1 2 1 5 5 "
     ]
    }
   ],
   "source": [
    "# 서로소 집합 알고리즘\n",
    "\n",
    "def find_parent(parent, x):\n",
    "    if parent[x] != x:\n",
    "        return find_parent(parent, parent[x])\n",
    "    return x\n",
    "\n",
    "def union_parent(parent, a, b):\n",
    "    a = find_parent(parent, a)\n",
    "    b = find_parent(parent, b)\n",
    "    if a < b:\n",
    "        parent[b] = a\n",
    "    else:\n",
    "        parent[a] = b\n",
    "\n",
    "v, e = map(int, input().split())\n",
    "parent = [0] * (v+1)\n",
    "\n",
    "for i in range(1, v+1):\n",
    "    parent[i] = i\n",
    "\n",
    "for i in range(e):\n",
    "    a, b = map(int, input().split())\n",
    "    union_parent(parent, a, b)\n",
    "    \n",
    "print('각 원소가 속한 집합: ', end='')\n",
    "for i in range(1, v+1):\n",
    "    print(find_parent(parent, i),end=' ')\n",
    "    \n",
    "print()\n",
    "\n",
    "print('부모 테이블: ', end='')\n",
    "for i in range(1, v+1):\n",
    "    print(parent[i], end=' ')"
   ]
  },
  {
   "cell_type": "markdown",
   "id": "edc7291f",
   "metadata": {},
   "source": [
    "## 아래 경로 압축이 들어간 개선된 버전을 암기해!"
   ]
  },
  {
   "cell_type": "code",
   "execution_count": 4,
   "id": "cad7293b",
   "metadata": {},
   "outputs": [
    {
     "name": "stdout",
     "output_type": "stream",
     "text": [
      "6 4\n",
      "1 4\n",
      "2 3\n",
      "2 4\n",
      "5 6\n",
      "각 원소가 속한 집합: 1 1 1 1 5 5 \n",
      "부모 테이블: 1 1 1 1 5 5 "
     ]
    }
   ],
   "source": [
    "# 서로소 집합 알고리즘 (개선된 버전)\n",
    "\n",
    "# 해당 find_parent 함수가 개선된 것임.\n",
    "def find_parent(parent, x):\n",
    "    if parent[x] != x:\n",
    "        parent[x] = find_parent(parent, parent[x])\n",
    "    return parent[x]\n",
    "\n",
    "def union_parent(parent, a, b):\n",
    "    a = find_parent(parent, a)\n",
    "    b = find_parent(parent, b)\n",
    "    if a < b:\n",
    "        parent[b] = a\n",
    "    else:\n",
    "        parent[a] = b\n",
    "\n",
    "v, e = map(int, input().split())\n",
    "parent = [0] * (v + 1)\n",
    "\n",
    "for i in range(1, v+1):\n",
    "    parent[i] = i\n",
    "for i in range(e):\n",
    "    a, b = map(int, input().split())\n",
    "    union_parent(parent, a, b)\n",
    "    \n",
    "print('각 원소가 속한 집합: ', end='')\n",
    "for i in range(1, v+1):\n",
    "    print(find_parent(parent, i),end=' ')\n",
    "    \n",
    "print()\n",
    "\n",
    "print('부모 테이블: ', end='')\n",
    "for i in range(1, v+1):\n",
    "    print(parent[i], end=' ')"
   ]
  },
  {
   "cell_type": "code",
   "execution_count": null,
   "id": "0da71519",
   "metadata": {},
   "outputs": [],
   "source": [
    "def find_parent(parent, x):\n",
    "    if parent[x] != x:\n",
    "        parent[x] = find_parent(parent, parent[x])\n",
    "    return parent[x]\n",
    "\n",
    "def union_parent(parent, a, b):\n",
    "    a = find_parent(parent, a)\n",
    "    b = find_parent(parent, b)\n",
    "    if a < b:\n",
    "        parent[b] = a\n",
    "    else:\n",
    "        parent[a] = b\n",
    "    "
   ]
  },
  {
   "cell_type": "markdown",
   "id": "8342cf61",
   "metadata": {},
   "source": [
    "### 무방향 그래프에서 사이클 판별 할 때 사용 가능\n",
    "> 두 노드의 루트 노드가 같다면 사이클이 발생한 것임!\n",
    "\n",
    "* 방향 그래프에서는 DFS를 이용해서 판별 가능 -> 근데 책에서는 안 다룸\n",
    "---\n",
    "### 사이클 판별 서로소 집합 코드"
   ]
  },
  {
   "cell_type": "code",
   "execution_count": 6,
   "id": "3218db94",
   "metadata": {},
   "outputs": [
    {
     "name": "stdout",
     "output_type": "stream",
     "text": [
      "3 3\n",
      "1 2\n",
      "1 3\n",
      "2 3\n",
      "사이클 발생\n"
     ]
    }
   ],
   "source": [
    "def find_parent(parent, x):\n",
    "    if parent[x] != x:\n",
    "        parent[x] = find_parent(parent, parent[x])\n",
    "    return parent[x]\n",
    "\n",
    "def union_parent(parent, a, b):\n",
    "    a = find_parent(parent, a)\n",
    "    b = find_parent(parent, b)\n",
    "    if a < b:\n",
    "        parent[b] = a\n",
    "    else:\n",
    "        parent[a] = b\n",
    "        \n",
    "v, e = map(int, input().split())\n",
    "parent = [0] * (v + 1)\n",
    "\n",
    "for i in range(1, v+1):\n",
    "    parent[i] = i\n",
    "\n",
    "cycle = False\n",
    "\n",
    "for i in range(e):\n",
    "    a, b = map(int, input().split())\n",
    "    if find_parent(parent, a) == find_parent(parent, b):\n",
    "        cycle = True\n",
    "        break\n",
    "    else:\n",
    "        union_parent(parent, a, b)\n",
    "if cycle:\n",
    "    print('사이클 발생')\n",
    "else:\n",
    "    print('사이클 없음')"
   ]
  },
  {
   "cell_type": "markdown",
   "id": "fe6cd96e",
   "metadata": {},
   "source": [
    "---\n",
    "## 신장 트리\n",
    "> 하나의 그래프가 있을 때 모든 노드를 포함하면서 사이클이 존재하지 않는 부분 그래프\n",
    "\n",
    "### 최소 신장 트리\n",
    "> 신장 트리 중에서 최소 비용으로 만들 수 있는 신장 트리\n",
    "\n",
    "## 최소 신장 트리 알고리즘\n",
    "\n",
    "### 1. 크루스칼 알고리즘 (그리디 알고리즘)\n",
    "* 가장 적은 비용으로 모든 노드를 연결할 수 있다.\n",
    "* 먼저 모든 간선에 대해서 정렬을 수행하고, 가장 거리가 짧은 간선부터 집합에 포함시킴  \n",
    "    단, 사이클을 발생시킬 수 있는 간선은 집합에 포함 X  \n",
    "      \n",
    "<방법>  \n",
    "1. 간선 데이터를 비용에 따라 오름차순\n",
    "2. 간선을 하나씩 확인하며 사이클 발생하는지 확인  \n",
    "    2-1. 사이클 발생 X: 최소 신장 트리에 포함  \n",
    "    2-2. 사이클 발생 O: 최소 신장 트리에 포함 X  \n",
    "3. 모든 간선에 대해 2를 반복\n",
    "\n",
    "* 시간 복잡도 = 간선의 개수가 E개 일 때, O(ElogE)"
   ]
  },
  {
   "cell_type": "code",
   "execution_count": 10,
   "id": "fe7f5818",
   "metadata": {},
   "outputs": [
    {
     "name": "stdout",
     "output_type": "stream",
     "text": [
      "7 9\n",
      "1 2 29\n",
      "1 5 75\n",
      "2 3 35\n",
      "2 6 34\n",
      "3 4 7\n",
      "4 6 23\n",
      "4 7 13\n",
      "5 6 53\n",
      "6 7 25\n",
      "159\n"
     ]
    }
   ],
   "source": [
    "# 최소 신장 트리 - 크루스칼 알고리즘\n",
    "\n",
    "def find_parent(parent, x):\n",
    "    if parent[x] != x:\n",
    "        parent[x] = find_parent(parent, parent[x])\n",
    "    return parent[x]\n",
    "\n",
    "def union_parent(parent, a, b):\n",
    "    a = find_parent(parent, a)\n",
    "    b = find_parent(parent, b)\n",
    "    if a < b:\n",
    "        parent[b] = a\n",
    "    else:\n",
    "        parent[a] = b\n",
    "        \n",
    "v, e = map(int, input().split())\n",
    "parent = [0] * (v + 1)\n",
    "\n",
    "edges = []\n",
    "result = 0\n",
    "\n",
    "for i in range(1, v+1):\n",
    "    parent[i] = i\n",
    "    \n",
    "for _ in range(e):\n",
    "    a, b, cost = map(int, input().split())\n",
    "    # cost를 기준으로 정렬하기 위해서 첫 요소가 cost\n",
    "    edges.append((cost, a, b))\n",
    "    \n",
    "edges.sort()\n",
    "\n",
    "for edge in edges:\n",
    "    cost, a, b = edge\n",
    "    if find_parent(parent, a) != find_parent(parent, b):\n",
    "        union_parent(parent, a, b)\n",
    "        result += cost\n",
    "        \n",
    "print(result)"
   ]
  },
  {
   "cell_type": "markdown",
   "id": "d69586ec",
   "metadata": {},
   "source": [
    "---\n",
    "## 위상 정렬 (Topology Sort)\n",
    "> * 순서가 정해져 있는 일련의 작업을 차례대로 수행해야 할 때 사용할 수 있는 알고리즘  \n",
    "> * 방향 그래프의 모든 노드를 '방향성에 거스르지 않도록 순서대로 나열하는 것'\n",
    "* 진입 차수: 특정한 노드로 '들어오는' 간선의 개수  \n",
    "\n",
    "<방법>  \n",
    "1. 진입 차수가 0인 노드를 큐에 넣는다.\n",
    "2. 큐가 빌 때까지 다음의 과정 반복  \n",
    "    2-1. 큐에서 원소를 꺼내 해당 노드에서 출발하는 간선을 그래프에서 제거  \n",
    "    2-2. 새롭게 진입차수가 0이 된 노드를 큐에 넣음  \n",
    "  \n",
    "모든 원소를 방문하기 전에 큐가 비었다 -> 사이클이 존재한다.  \n",
    "위상 정렬의 답안은 여러 가지가 될 수 있다.  \n",
    "\n",
    "* 시간 복잡도: O(V+E)"
   ]
  },
  {
   "cell_type": "code",
   "execution_count": 11,
   "id": "e03871f4",
   "metadata": {},
   "outputs": [
    {
     "name": "stdout",
     "output_type": "stream",
     "text": [
      "7 8\n",
      "1 2\n",
      "1 5\n",
      "2 3\n",
      "2 6\n",
      "3 4\n",
      "4 7\n",
      "5 6\n",
      "6 4\n",
      "1 2 5 3 6 4 7 "
     ]
    }
   ],
   "source": [
    "# 위상 정렬 알고리즘 코드\n",
    "\n",
    "from collections import deque\n",
    "\n",
    "v, e = map(int, input().split())\n",
    "indegree = [0] * (v+1)\n",
    "graph = [[] for i in range(v+1)]\n",
    "\n",
    "for _ in range(e):\n",
    "    a, b = map(int, input().split())\n",
    "    graph[a].append(b)\n",
    "    indegree[b] += 1\n",
    "\n",
    "def topology_sort():\n",
    "    result = []\n",
    "    q = deque()\n",
    "    \n",
    "    for i in range(1, v+1):\n",
    "        if indegree[i] == 0:\n",
    "            q.append(i)\n",
    "            \n",
    "    while q:\n",
    "        now = q.popleft()\n",
    "        result.append(now)\n",
    "        for i in graph[now]:\n",
    "            indegree[i] -= 1\n",
    "            if indegree[i] == 0:\n",
    "                q.append(i)\n",
    "                \n",
    "    for i in result:\n",
    "        print(i, end = ' ')\n",
    "        \n",
    "topology_sort()"
   ]
  },
  {
   "cell_type": "markdown",
   "id": "14323b13",
   "metadata": {},
   "source": [
    "---\n",
    "### 10-7. 팀 결성"
   ]
  },
  {
   "cell_type": "code",
   "execution_count": 13,
   "id": "b47c7588",
   "metadata": {},
   "outputs": [
    {
     "name": "stdout",
     "output_type": "stream",
     "text": [
      "7 8\n",
      "0 1 3\n",
      "1 1 7\n",
      "0 7 6\n",
      "1 7 1\n",
      "0 3 7\n",
      "0 4 2\n",
      "0 1 1\n",
      "1 1 1\n",
      "NO\n",
      "NO\n",
      "YES\n"
     ]
    }
   ],
   "source": [
    "n, m = map(int, input().split())\n",
    "\n",
    "parent = [0] * (n+1)\n",
    "\n",
    "for i in range(0, n+1):\n",
    "    parent[i] = i\n",
    "    \n",
    "def find_parent(parent, x):\n",
    "    if parent[x] != x:\n",
    "        parent[x] = find_parent(parent, parent[x])\n",
    "    return parent[x]\n",
    "\n",
    "def union_parent(parent, a, b):\n",
    "    a = find_parent(parent, a)\n",
    "    b = find_parent(parent, b)\n",
    "    if a < b:\n",
    "        parent[b] = a\n",
    "    else:\n",
    "        parent[a] = b\n",
    "\n",
    "result = []\n",
    "for _ in range(m):\n",
    "    f, a, b = map(int, input().split())\n",
    "    if f == 0:\n",
    "        union_parent(parent, a, b)\n",
    "    elif f == 1:\n",
    "        a = find_parent(parent, a)\n",
    "        b = find_parent(parent, b)\n",
    "        if a == b:\n",
    "            result.append('YES')\n",
    "        else:\n",
    "            result.append('NO')\n",
    "            \n",
    "for i in result:\n",
    "    print(i)"
   ]
  },
  {
   "cell_type": "markdown",
   "id": "8bf55940",
   "metadata": {},
   "source": [
    "## 10-8. 도시 분할 계획"
   ]
  },
  {
   "cell_type": "code",
   "execution_count": 19,
   "id": "ffcfe244",
   "metadata": {},
   "outputs": [
    {
     "name": "stdout",
     "output_type": "stream",
     "text": [
      "7 12\n",
      "1 2 3\n",
      "1 3 2\n",
      "3 2 1\n",
      "2 5 2\n",
      "3 4 4\n",
      "7 3 6\n",
      "5 1 5\n",
      "1 6 2\n",
      "6 4 1\n",
      "6 5 3\n",
      "4 5 3\n",
      "6 7 4\n",
      "8\n"
     ]
    }
   ],
   "source": [
    "# 크루스칼 써야될거같은데\n",
    "\n",
    "n, m = map(int, input().split())\n",
    "parent = [0] * (n+1)\n",
    "edges = []\n",
    "result = 0\n",
    "\n",
    "for i in range(1, n+1):\n",
    "    parent[i] = i\n",
    "\n",
    "for _ in range(m):\n",
    "    a, b, cost = map(int, input().split())\n",
    "    edges.append((cost, a, b))\n",
    "    \n",
    "def find_parent(parent, x):\n",
    "    if parent[x] != x:\n",
    "        parent[x] = find_parent(parent, parent[x])\n",
    "    return parent[x]\n",
    "\n",
    "def union_parent(parent, a, b):\n",
    "    a = find_parent(parent, a)\n",
    "    b = find_parent(parent, b)\n",
    "    if a < b:\n",
    "        parent[b] = a\n",
    "    else:\n",
    "        parent[a] = b\n",
    "\n",
    "edges.sort()\n",
    "last = 0\n",
    "\n",
    "for edge in edges:\n",
    "    cost, a, b = edge\n",
    "    if find_parent(parent, a) != find_parent(parent, b):\n",
    "        union_parent(parent, a, b)\n",
    "        result += cost\n",
    "        last = cost\n",
    "print(result - last)"
   ]
  },
  {
   "cell_type": "markdown",
   "id": "69cf556e",
   "metadata": {},
   "source": [
    "## 10-9. 커리큘럼"
   ]
  },
  {
   "cell_type": "code",
   "execution_count": 10,
   "id": "3f169d79",
   "metadata": {},
   "outputs": [
    {
     "name": "stdout",
     "output_type": "stream",
     "text": [
      "5\n",
      "10 -1\n",
      "10 1 -1\n",
      "4 1 -1\n",
      "4 3 1 -1\n",
      "3 3 -1\n",
      "10\n",
      "10\n",
      "4\n",
      "4\n",
      "3\n"
     ]
    }
   ],
   "source": [
    "from collections import deque\n",
    "import copy\n",
    "\n",
    "n = int(input())\n",
    "    \n",
    "indegree = [0] * (n+1)\n",
    "graph = [[] for i in range(n + 1)]\n",
    "time = [0] * (n+1)\n",
    "\n",
    "for i in range(1, n+1):\n",
    "    data = list(map(int, input().split()))\n",
    "    time[i] = data[0]\n",
    "    for x in data[1:-1]:\n",
    "        indegree[x] += 1\n",
    "        graph[x].append(i)\n",
    "        \n",
    "def topology_sort():\n",
    "    result = copy.deepcopy(time)\n",
    "    q = deque()\n",
    "    \n",
    "    for i in range(1, n+1):\n",
    "        if indegree[i] == 0:\n",
    "            q.append(i)\n",
    "    while q:\n",
    "        now = q.popleft()\n",
    "        for i in graph[now]:\n",
    "            result[i] = max(result[i], result[now]+time[i])\n",
    "            indegree[i] -= 1\n",
    "            if indegree[i] == 0:\n",
    "                q.append(i)\n",
    "    for i in range(1, n+1):\n",
    "        print(result[i])\n",
    "        \n",
    "topology_sort()\n"
   ]
  }
 ],
 "metadata": {
  "kernelspec": {
   "display_name": "Python 3 (ipykernel)",
   "language": "python",
   "name": "python3"
  },
  "language_info": {
   "codemirror_mode": {
    "name": "ipython",
    "version": 3
   },
   "file_extension": ".py",
   "mimetype": "text/x-python",
   "name": "python",
   "nbconvert_exporter": "python",
   "pygments_lexer": "ipython3",
   "version": "3.9.18"
  }
 },
 "nbformat": 4,
 "nbformat_minor": 5
}
