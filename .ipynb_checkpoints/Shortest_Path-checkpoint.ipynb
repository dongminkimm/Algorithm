{
 "cells": [
  {
   "cell_type": "markdown",
   "id": "ccac0307",
   "metadata": {},
   "source": [
    "# 최단 경로\n",
    "* 가장 짧은 경로를 찾는 알고리즘 -> '길 찾기' 문제\n",
    "* 다익스트라 최단 경로 알고리즘, 플로이드 워셜, 벨만 포드 알고리즘"
   ]
  },
  {
   "cell_type": "markdown",
   "id": "e8bae0fb",
   "metadata": {},
   "source": [
    "## 다익스트라 최단 경로 알고리즘\n",
    "### -> 여러 개의 노드가 있을 때, 특정한 노드에서 출발하여 다른 노드로 가는 각각의 최단 경로를 구해주는 알고리즘\n",
    "* 음의 간선이 없을 때 정상 동작\n",
    "* 그리디 알고리즘으로 분류된다. -> 매번 비용이 가장 적은 것을 선택하기 때문\n",
    "\n",
    "1. 출발 노드 설정\n",
    "2. 최단 거리 테이블 초기화\n",
    "3. 방문하지 않은 노드 중 최단 거리가 가장 짧은 노드 선택\n",
    "4. 해당 노드를 거쳐 다른 노드로 가는 비용을 계산하여 최단 거리 테이블 갱신\n",
    "5. 3,4번 반복\n",
    "\n",
    "---\n",
    "방법1. 구현하기 쉽지만 느린 코드\n",
    "### ★ 방법2. 구현하긴 좀 어렵지만 빠른 코드"
   ]
  },
  {
   "cell_type": "markdown",
   "id": "291498e0",
   "metadata": {},
   "source": [
    "---\n",
    "### 방법1. 간단한 코드\n",
    "* 시간 복잡도 = O(V^2)"
   ]
  },
  {
   "cell_type": "code",
   "execution_count": 2,
   "id": "c00e722b",
   "metadata": {},
   "outputs": [
    {
     "name": "stdout",
     "output_type": "stream",
     "text": [
      "6 11\n",
      "1\n",
      "1 2 2\n",
      "1 3 5\n",
      "1 4 1\n",
      "2 3 3\n",
      "2 4 2\n",
      "3 2 3\n",
      "3 6 5\n",
      "4 3 3\n",
      "4 5 1\n",
      "5 3 1\n",
      "5 6 2\n"
     ]
    }
   ],
   "source": [
    "# 간단한 다익스트라 알고리즘 소스코드\n",
    "\n",
    "# import sys\n",
    "# input = sys.stdin.readline\n",
    "INF = int(1e9)\n",
    "\n",
    "n, m = map(int, input().split())\n",
    "start = int(input())\n",
    "graph = [[] for i in range(n+1)]\n",
    "visited = [False] * (n+1)\n",
    "distance = [INF] * (n+1)\n",
    "\n",
    "for _ in range(m):\n",
    "    a, b, c = map(int, input().split())\n",
    "    graph[a].append((b, c))\n",
    "    \n",
    "def get_smallest_node():\n",
    "    min_value = INF\n",
    "    index = 0\n",
    "    for i in range(1, n+1):\n",
    "        if distance[i] < min_value and not visited[i]:\n",
    "            min_value = distance[i]\n",
    "            index = i\n",
    "    return index\n",
    "\n",
    "def djkstra(start):\n",
    "    distance[start] = 0\n",
    "    visited[start] = True\n",
    "    for j in graph[start]:\n",
    "        distance[j[0]] = j[1]\n",
    "    for i in range(n-1):\n",
    "        now = get_smallest_node()\n",
    "        visited[now] = True\n",
    "        for j in graph[now]:\n",
    "            cost = distance[now] + j[1]\n",
    "            if cost < distance[j[0]]:\n",
    "                distance[j[0]] = cost\n",
    "djkstra(start)\n",
    "\n",
    "for i in range(1, n+1):\n",
    "    if distance[i] == INF:\n",
    "        print('INFINITY')\n",
    "    else:\n",
    "        print(distance[i])"
   ]
  },
  {
   "cell_type": "markdown",
   "id": "cd54685b",
   "metadata": {},
   "source": [
    "---"
   ]
  },
  {
   "cell_type": "markdown",
   "id": "2eaf4314",
   "metadata": {},
   "source": [
    "### 힙(Heap) 설명\n",
    "* 우선순위 큐를 구현하기 위해 사용하는 자료구조 중 하나\n",
    "* 우선순위 큐 = 우선순위가 가장 높은 데이터를 가장 먼저 삭제함.\n",
    "\n",
    "|자료구조|추출되는 데이터|\n",
    "|--------|---------------|\n",
    "|스택(stack)|가장 나중에 삽입된 데이터|\n",
    "|큐(Queue)|가장 먼저 삽입된 데이터|\n",
    "|우선순위 큐(Priority Queue)|우선순위가 높은 데이터|\n",
    "\n",
    "파이썬에서는 PriorityQueue, heapq가 있지만 heapq를 주로 쓴다! (더 빨라서!!)  \n",
    "(a, b)가 있으면 앞에 있는 a를 기준으로 정렬함\n",
    "\n",
    "### 최대 힙(Max Heap) vs 최소 힙( Min Heap)\n",
    "### 파이썬 라이브러리에서는 '최소 힙' 사용함!!\n",
    "* 최소 힙을 최대 힙으로 사용하고 싶으면 우선순위에 해당하는 값에 (-) 붙여주면 된다. 꿀팁"
   ]
  },
  {
   "cell_type": "markdown",
   "id": "041920b3",
   "metadata": {},
   "source": [
    "---\n",
    "### ★방법2. 개선된 코드\n",
    "* 시간 복잡도 (최악의 경우) : O(ElogV)\n",
    "* 힙(heap) 자료구조 이용"
   ]
  },
  {
   "cell_type": "code",
   "execution_count": 5,
   "id": "81f980c1",
   "metadata": {},
   "outputs": [
    {
     "name": "stdout",
     "output_type": "stream",
     "text": [
      "6 11\n",
      "1\n",
      "1 2 2\n",
      "1 3 5\n",
      "1 4 1\n",
      "2 3 3\n",
      "2 4 2\n",
      "3 2 3\n",
      "3 6 5\n",
      "4 3 3\n",
      "4 5 1\n",
      "5 3 1\n",
      "5 6 2\n",
      "0\n",
      "2\n",
      "3\n",
      "1\n",
      "2\n",
      "4\n"
     ]
    }
   ],
   "source": [
    "import heapq\n",
    "# import sys\n",
    "# input = sys.stdin.readline\n",
    "INF = int(1e9)\n",
    "\n",
    "n, m = map(int, input().split())\n",
    "start = int(input())\n",
    "graph = [[] for i in range(n+1)]\n",
    "distance = [INF] * (n+1)\n",
    "\n",
    "for _ in range(m):\n",
    "    a, b, c = map(int, input().split())\n",
    "    graph[a].append((b, c))\n",
    "    \n",
    "def dijkstra(start):\n",
    "    q = []\n",
    "    heapq.heappush(q, (0, start))\n",
    "    distance[start] = 0\n",
    "    while q:\n",
    "        dist, now = heapq.heappop(q)\n",
    "        if distance[now] < dist:\n",
    "            continue\n",
    "        for i in graph[now]:\n",
    "            cost = dist + i[1]\n",
    "            if cost < distance[i[0]]:\n",
    "                distance[i[0]] = cost\n",
    "                heapq.heappush(q, (cost, i[0]))\n",
    "dijkstra(start)\n",
    "\n",
    "for i in range(1, n+1):\n",
    "    if distance[i] == INF:\n",
    "        print(\"INFINITY\")\n",
    "    else:\n",
    "        print(distance[i])"
   ]
  },
  {
   "cell_type": "markdown",
   "id": "ac94046b",
   "metadata": {},
   "source": [
    "---\n",
    "## 플로이드 워셜 알고리즘\n",
    "* 모든 지점에서 다른 모든 지점까지의 최단 경로를 모두 구해야 하는 경우 사용\n",
    "* 시간 복잡도 = O(N^3)\n",
    "* 다이나믹 프로그래밍의 일종\n"
   ]
  },
  {
   "cell_type": "code",
   "execution_count": 10,
   "id": "6765320f",
   "metadata": {},
   "outputs": [
    {
     "name": "stdout",
     "output_type": "stream",
     "text": [
      "4\n",
      "7\n",
      "1 2 4\n",
      "1 4 6\n",
      "2 1 3\n",
      "2 3 7\n",
      "3 1 5\n",
      "3 4 4\n",
      "4 3 2\n",
      "0 4 8 6 \n",
      "3 0 7 9 \n",
      "5 9 0 4 \n",
      "7 11 2 0 \n"
     ]
    }
   ],
   "source": [
    "# 플로이드 워셜 알고리즘\n",
    "\n",
    "INF = int(1e9)\n",
    "\n",
    "n = int(input())\n",
    "m = int(input())\n",
    "\n",
    "graph = [[INF] * (n+1) for _ in range(n+1)]\n",
    "\n",
    "for a in range(1, n+1):\n",
    "    for b in range(1, n+1):\n",
    "        if a == b:\n",
    "            graph[a][b] = 0\n",
    "\n",
    "for _ in range(m):\n",
    "    a, b, c = map(int, input().split())\n",
    "    graph[a][b] = c\n",
    "    \n",
    "for k in range(1, n+1):\n",
    "    for a in range(1, n+1):\n",
    "        for b in range(1, n+1):\n",
    "            graph[a][b] = min(graph[a][b], graph[a][k] + graph[k][b])\n",
    "            \n",
    "for a in range(1, n+1):\n",
    "    for b in range(1, n+1):\n",
    "        if graph[a][b] == INF:\n",
    "            print(\"INFINITY\", end=' ')\n",
    "        else:\n",
    "            print(graph[a][b], end=' ')\n",
    "    print()"
   ]
  },
  {
   "cell_type": "markdown",
   "id": "3ed88e7b",
   "metadata": {},
   "source": [
    "---\n",
    "### 다익스트라 = heapq, 최단거리 테이블\n",
    "### 플로이드 워셜 = 반복문"
   ]
  },
  {
   "cell_type": "markdown",
   "id": "5b1ab535",
   "metadata": {},
   "source": [
    "---\n",
    "### 9-4. 미래 도시"
   ]
  },
  {
   "cell_type": "code",
   "execution_count": 24,
   "id": "7c18c915",
   "metadata": {},
   "outputs": [
    {
     "name": "stdout",
     "output_type": "stream",
     "text": [
      "4 2\n",
      "1 3\n",
      "2 4\n",
      "3 4\n",
      "-1\n"
     ]
    }
   ],
   "source": [
    "n, m = map(int, input().split())\n",
    "INF = int(1e9)\n",
    "\n",
    "graph = [[INF] * (n+1) for _ in range(n+1)]\n",
    "\n",
    "for a in range(1, n+1):\n",
    "    for b in range(1, n+1):\n",
    "        if a == b:\n",
    "            graph[a][b] = 0\n",
    "\n",
    "for _ in range(m):\n",
    "    a, b = map(int, input().split())\n",
    "    graph[a][b] = 1\n",
    "    graph[b][a] = 1\n",
    "    \n",
    "x, k = map(int, input().split())\n",
    "\n",
    "for k in range(1, n+1):\n",
    "    for a in range(1, n+1):\n",
    "        for b in range(1, n+1):\n",
    "            graph[a][b] = min(graph[a][b], graph[a][k] + graph[k][b])\n",
    "            \n",
    "dis = graph[1][k] + graph[k][x]\n",
    "\n",
    "if dis >= INF:\n",
    "    print(-1)\n",
    "else:\n",
    "    print(dis)"
   ]
  },
  {
   "cell_type": "markdown",
   "id": "611ffd0e",
   "metadata": {},
   "source": [
    "## 9-5. 전보"
   ]
  },
  {
   "cell_type": "code",
   "execution_count": 31,
   "id": "c35a306c",
   "metadata": {},
   "outputs": [
    {
     "name": "stdout",
     "output_type": "stream",
     "text": [
      "3 2 1\n",
      "1 2 4\n",
      "1 3 2\n",
      "2 4\n"
     ]
    }
   ],
   "source": [
    "import heapq\n",
    "INF = int(1e9)\n",
    "\n",
    "n, m, c = map(int, input().split())\n",
    "\n",
    "distance = [INF] * (n+1)\n",
    "graph = [[] for _ in range(n+1)]\n",
    "\n",
    "for _ in range(m):\n",
    "    x, y, z = map(int, input().split())\n",
    "    graph[x].append((y, z))\n",
    "    \n",
    "def dijkstra(start):\n",
    "    q = []\n",
    "    heapq.heappush(q, (0, start))\n",
    "    distance[start] = 0\n",
    "    while q:\n",
    "        dis, now = heapq.heappop(q)\n",
    "        if distance[now] < dis:\n",
    "            continue\n",
    "        for i in graph[now]:\n",
    "            cost = dis + i[1]\n",
    "            if cost < distance[i[0]]:\n",
    "                distance[i[0]] = cost\n",
    "                heapq.heappush(q, (cost, i[0]))\n",
    "dijkstra(c)\n",
    "\n",
    "count = 0\n",
    "max_dis = 0\n",
    "\n",
    "for d in distance:\n",
    "    if d != INF:\n",
    "        count += 1\n",
    "        max_dis = max(max_dis, d)\n",
    "print(count - 1, max_dis)"
   ]
  }
 ],
 "metadata": {
  "kernelspec": {
   "display_name": "Python 3 (ipykernel)",
   "language": "python",
   "name": "python3"
  },
  "language_info": {
   "codemirror_mode": {
    "name": "ipython",
    "version": 3
   },
   "file_extension": ".py",
   "mimetype": "text/x-python",
   "name": "python",
   "nbconvert_exporter": "python",
   "pygments_lexer": "ipython3",
   "version": "3.9.18"
  }
 },
 "nbformat": 4,
 "nbformat_minor": 5
}
