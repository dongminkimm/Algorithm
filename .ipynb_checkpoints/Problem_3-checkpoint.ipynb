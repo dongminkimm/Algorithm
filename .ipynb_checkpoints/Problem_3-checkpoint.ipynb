{
 "cells": [
  {
   "cell_type": "markdown",
   "id": "76beb77e",
   "metadata": {},
   "source": [
    "# 1. Greedy\n",
    "###  Q01. 모험가 길드"
   ]
  },
  {
   "cell_type": "code",
   "execution_count": 22,
   "id": "3fecbb34",
   "metadata": {},
   "outputs": [
    {
     "name": "stdout",
     "output_type": "stream",
     "text": [
      "5\n",
      "6 6 6 6 6\n",
      "0\n"
     ]
    }
   ],
   "source": [
    "n = int(input())\n",
    "members = sorted(list(map(int, input().split())))\n",
    "\n",
    "cnt = 0\n",
    "result = 0\n",
    "for i in members:\n",
    "    cnt += 1\n",
    "    if i <= cnt:\n",
    "        result += 1\n",
    "        cnt = 0\n",
    "print(result)"
   ]
  },
  {
   "cell_type": "markdown",
   "id": "b799fe6b",
   "metadata": {},
   "source": [
    "### Q02. 곱하기 혹은 더하기"
   ]
  },
  {
   "cell_type": "code",
   "execution_count": 24,
   "id": "c8421c6d",
   "metadata": {},
   "outputs": [
    {
     "name": "stdout",
     "output_type": "stream",
     "text": [
      "567\n",
      "210\n"
     ]
    }
   ],
   "source": [
    "num = input()\n",
    "\n",
    "result = 0\n",
    "for i in num:\n",
    "    n = int(i)\n",
    "    if result <= 1 or n <= 1:\n",
    "        result += n\n",
    "    else:\n",
    "        result *= n\n",
    "        \n",
    "print(result)"
   ]
  },
  {
   "cell_type": "markdown",
   "id": "7d32bdf4",
   "metadata": {},
   "source": [
    "### Q03. 문자열 뒤집기"
   ]
  },
  {
   "cell_type": "code",
   "execution_count": 29,
   "id": "7c799e04",
   "metadata": {},
   "outputs": [
    {
     "name": "stdout",
     "output_type": "stream",
     "text": [
      "0001100\n",
      "1\n"
     ]
    }
   ],
   "source": [
    "num = input()\n",
    "\n",
    "cnt0 = 0\n",
    "cnt1 = 0\n",
    "\n",
    "temp = num[0]\n",
    "if temp == '0':\n",
    "    cnt0 += 1\n",
    "else:\n",
    "    cnt1 += 1\n",
    "    \n",
    "for i in range(1, len(num)):\n",
    "    if temp != num[i]:\n",
    "        if num[i] == '1':\n",
    "            cnt1 += 1\n",
    "        else:\n",
    "            cnt0 += 1\n",
    "        temp = num[i]\n",
    "print(min(cnt0, cnt1))"
   ]
  },
  {
   "cell_type": "markdown",
   "id": "04f20d45",
   "metadata": {},
   "source": [
    "### Q04. 만들 수 없는 금액"
   ]
  },
  {
   "cell_type": "code",
   "execution_count": 36,
   "id": "1ab53fb8",
   "metadata": {},
   "outputs": [
    {
     "name": "stdout",
     "output_type": "stream",
     "text": [
      "3\n",
      "1 1 4\n",
      "3\n"
     ]
    }
   ],
   "source": [
    "n = int(input())\n",
    "result = 0\n",
    "answer = 0\n",
    "coins = sorted(list(map(int, input().split())))\n",
    "\n",
    "for c in coins:\n",
    "    if result + 1 < c:\n",
    "        answer = result + 1\n",
    "        break\n",
    "    result += c\n",
    "print(answer)\n",
    "# 1 1 2 3 9"
   ]
  },
  {
   "cell_type": "markdown",
   "id": "528639b0",
   "metadata": {},
   "source": [
    "### Q05. 볼링공 고르기"
   ]
  },
  {
   "cell_type": "code",
   "execution_count": 40,
   "id": "d2394eb3",
   "metadata": {},
   "outputs": [
    {
     "name": "stdout",
     "output_type": "stream",
     "text": [
      "8 5\n",
      "1 5 4 3 2 4 5 2\n",
      "25\n"
     ]
    }
   ],
   "source": [
    "n, m = map(int, input().split())\n",
    "balls = list(map(int, input().split()))\n",
    "cnt = 0\n",
    "\n",
    "for i in range(len(balls)):\n",
    "    for j in range(i+1, len(balls)):\n",
    "        if balls[i] != balls[j]:\n",
    "            cnt += 1\n",
    "print(cnt)"
   ]
  },
  {
   "cell_type": "markdown",
   "id": "2cb00bb5",
   "metadata": {},
   "source": [
    "### Q06. 무지의 먹방 라이브"
   ]
  },
  {
   "cell_type": "code",
   "execution_count": null,
   "id": "b8258e2c",
   "metadata": {},
   "outputs": [],
   "source": []
  },
  {
   "cell_type": "markdown",
   "id": "a6b02c2b",
   "metadata": {},
   "source": [
    "---\n",
    "# 2. 구현"
   ]
  },
  {
   "cell_type": "markdown",
   "id": "0fef68b2",
   "metadata": {},
   "source": [
    "### Q07. 럭키 스트레이트"
   ]
  },
  {
   "cell_type": "code",
   "execution_count": 46,
   "id": "0f5eb4b5",
   "metadata": {},
   "outputs": [
    {
     "name": "stdout",
     "output_type": "stream",
     "text": [
      "0000\n",
      "LUCKY\n"
     ]
    }
   ],
   "source": [
    "num = input()\n",
    "\n",
    "half = len(num) // 2\n",
    "a = map(int, num[:half])\n",
    "b = map(int, num[half:])\n",
    "\n",
    "if sum(a) == sum(b):\n",
    "    print('LUCKY')\n",
    "else:\n",
    "    print('READY')"
   ]
  },
  {
   "cell_type": "markdown",
   "id": "337801d0",
   "metadata": {},
   "source": [
    "### Q08. 문자열 재정렬"
   ]
  },
  {
   "cell_type": "code",
   "execution_count": 52,
   "id": "f4cd6bec",
   "metadata": {},
   "outputs": [
    {
     "name": "stdout",
     "output_type": "stream",
     "text": [
      "AJKDLSI412K4JSJ9D\n",
      "ADDIJJJKKLSS20\n"
     ]
    }
   ],
   "source": [
    "data = input()\n",
    "answer = ''\n",
    "num = 0\n",
    "for d in data:\n",
    "    if d.isdigit():\n",
    "        num += int(d)\n",
    "    else:\n",
    "        answer += d\n",
    "print(''.join(sorted(answer))+str(num))"
   ]
  },
  {
   "cell_type": "markdown",
   "id": "2bc5d0b2",
   "metadata": {},
   "source": [
    "---\n",
    "# DFS / BFS\n",
    "### Q15. 특정 거리의 도시 찾기"
   ]
  },
  {
   "cell_type": "code",
   "execution_count": 7,
   "id": "53bf3cdc",
   "metadata": {},
   "outputs": [
    {
     "name": "stdout",
     "output_type": "stream",
     "text": [
      "4 4 2 1\n",
      "1 2\n",
      "1 3\n",
      "2 3\n",
      "2 4\n",
      "4\n"
     ]
    }
   ],
   "source": [
    "from collections import deque\n",
    "\n",
    "n, m, k, x = map(int, input().split())\n",
    "graph = [[] for _ in range(n+1)]\n",
    "for _ in range(m):\n",
    "    a, b = map(int, input().split())\n",
    "    graph[a].append(b)\n",
    "# print(graph)\n",
    "answer = []\n",
    "visited = set()\n",
    "q = deque([(x, 0)])\n",
    "while q:\n",
    "    now, cnt = q.popleft()\n",
    "    if cnt > k:\n",
    "        continue\n",
    "    elif cnt == k:\n",
    "        answer.append(now)\n",
    "    else:\n",
    "        for i in range(len(graph[now])):\n",
    "            if graph[now][i] not in visited:\n",
    "                q.append((graph[now][i], cnt + 1))\n",
    "                visited.add(graph[now][i])\n",
    "#         print(graph)\n",
    "if answer:\n",
    "    for i in answer:\n",
    "        print(i)\n",
    "else:\n",
    "    print(-1)"
   ]
  },
  {
   "cell_type": "code",
   "execution_count": 16,
   "id": "f33ffb95",
   "metadata": {},
   "outputs": [
    {
     "name": "stdout",
     "output_type": "stream",
     "text": [
      "4 4 1 1\n",
      "1 2\n",
      "1 3\n",
      "2 3\n",
      "2 4\n",
      "2\n",
      "3\n"
     ]
    }
   ],
   "source": [
    "n, m, k, x = map(int, input().split())\n",
    "graph = [[] for _ in range(n+1)]\n",
    "for _ in range(m):\n",
    "    a, b = map(int, input().split())\n",
    "    graph[a].append(b)\n",
    "distance = [0] * (n+1)\n",
    "\n",
    "def dfs(start, cnt, k):\n",
    "    distance[start] = cnt\n",
    "    for i in graph[start]:\n",
    "        dfs(i, cnt + 1, k)\n",
    "\n",
    "dfs(x, 0, k)\n",
    "check = False\n",
    "for i in range(1, len(distance)):\n",
    "    if distance[i] == k:\n",
    "        print(i)\n",
    "        check = True\n",
    "        \n",
    "if not check:\n",
    "    print(-1)"
   ]
  },
  {
   "cell_type": "code",
   "execution_count": 21,
   "id": "cbcaae1e",
   "metadata": {},
   "outputs": [
    {
     "name": "stdout",
     "output_type": "stream",
     "text": [
      "4 4 2 1\n",
      "1 2\n",
      "1 3\n",
      "2 3\n",
      "2 4\n",
      "4\n"
     ]
    }
   ],
   "source": [
    "from collections import deque\n",
    "\n",
    "n, m, k, x = map(int, input().split())\n",
    "graph = [[] for _ in range(n+1)]\n",
    "for _ in range(m):\n",
    "    a, b = map(int, input().split())\n",
    "    graph[a].append(b)\n",
    "    \n",
    "result = [-1] * (n+1)\n",
    "q = deque([x])\n",
    "result[x] = 0\n",
    "while q:\n",
    "    now = q.popleft()\n",
    "    for i in graph[now]:\n",
    "        if result[i] == -1:\n",
    "            q.append(i)\n",
    "            result[i] = result[now] + 1\n",
    "check = False\n",
    "\n",
    "for i in range(len(result)):\n",
    "    if result[i] == k:\n",
    "        check = True\n",
    "        print(i)\n",
    "if not check:\n",
    "    print(-1)"
   ]
  },
  {
   "cell_type": "markdown",
   "id": "098d5420",
   "metadata": {},
   "source": [
    "### Q16. 연구소"
   ]
  },
  {
   "cell_type": "code",
   "execution_count": 17,
   "id": "0f66976f",
   "metadata": {},
   "outputs": [
    {
     "name": "stdout",
     "output_type": "stream",
     "text": [
      "4 6\n",
      "0 0 0 0 0 0\n",
      "1 0 0 0 0 2\n",
      "1 1 1 0 0 2\n",
      "0 0 0 0 0 2\n",
      "9\n"
     ]
    }
   ],
   "source": [
    "n, m = map(int, input().split())\n",
    "graph = []\n",
    "for _ in range(n):\n",
    "    graph.append(list(map(int, input().split())))\n",
    "\n",
    "dx = [0, 1, 0, -1]\n",
    "dy = [1, 0, -1, 0]\n",
    "result = 0\n",
    "temp = [[0] * m for _ in range(n)]\n",
    "    \n",
    "    \n",
    "def virus(x, y):\n",
    "    for i in range(4):\n",
    "        nx = x + dx[i]\n",
    "        ny = y + dy[i]\n",
    "        if nx >= 0 and ny >= 0 and nx < n and ny < m:\n",
    "            if temp[nx][ny] == 0:\n",
    "                temp[nx][ny] = 2\n",
    "                virus(nx, ny)\n",
    "            \n",
    "\n",
    "def count_safe():\n",
    "    cnt = 0\n",
    "    for i in range(n):\n",
    "        for j in range(m):\n",
    "            if temp[i][j] == 0:\n",
    "                cnt += 1\n",
    "    return cnt\n",
    "    \n",
    "def dfs(walls):\n",
    "    global result\n",
    "    if walls == 3:\n",
    "        for i in range(n):\n",
    "            for j in range(m):\n",
    "                temp[i][j] = graph[i][j]\n",
    "        for i in range(n):\n",
    "            for j in range(m):\n",
    "                if temp[i][j] == 2:\n",
    "                    virus(i, j)\n",
    "        result = max(result, count_safe())\n",
    "        return\n",
    "    \n",
    "    for i in range(n):\n",
    "        for j in range(m):\n",
    "            if graph[i][j] == 0:\n",
    "                graph[i][j] = 1\n",
    "                walls += 1\n",
    "                dfs(walls)\n",
    "                graph[i][j] = 0\n",
    "                walls -= 1\n",
    "dfs(0)\n",
    "print(result)"
   ]
  },
  {
   "cell_type": "markdown",
   "id": "5de43b6d",
   "metadata": {},
   "source": [
    "### Q17. 경쟁적 전염"
   ]
  },
  {
   "cell_type": "code",
   "execution_count": 11,
   "id": "0022a70b",
   "metadata": {},
   "outputs": [
    {
     "name": "stdout",
     "output_type": "stream",
     "text": [
      "3 3\n",
      "1 0 2\n",
      "0 0 0\n",
      "3 0 0\n",
      "2 3 2\n",
      "0\n"
     ]
    }
   ],
   "source": [
    "from collections import deque\n",
    "\n",
    "n, k = map(int, input().split())\n",
    "q = deque()\n",
    "graph = []\n",
    "for _ in range(n):\n",
    "    graph.append(list(map(int, input().split())))\n",
    "s, x, y = map(int, input().split())\n",
    "\n",
    "dx = [0, 1, 0, -1]\n",
    "dy = [1, 0, -1, 0]\n",
    "\n"
   ]
  },
  {
   "cell_type": "code",
   "execution_count": null,
   "id": "7e0a7108",
   "metadata": {},
   "outputs": [],
   "source": []
  },
  {
   "cell_type": "code",
   "execution_count": null,
   "id": "4ee3567f",
   "metadata": {},
   "outputs": [],
   "source": []
  },
  {
   "cell_type": "code",
   "execution_count": null,
   "id": "f2f237cc",
   "metadata": {},
   "outputs": [],
   "source": []
  },
  {
   "cell_type": "code",
   "execution_count": null,
   "id": "fb95705c",
   "metadata": {},
   "outputs": [],
   "source": []
  },
  {
   "cell_type": "code",
   "execution_count": null,
   "id": "1752b25c",
   "metadata": {},
   "outputs": [],
   "source": []
  },
  {
   "cell_type": "code",
   "execution_count": null,
   "id": "ce18e4b9",
   "metadata": {},
   "outputs": [],
   "source": []
  },
  {
   "cell_type": "code",
   "execution_count": null,
   "id": "c412dcdf",
   "metadata": {},
   "outputs": [],
   "source": []
  }
 ],
 "metadata": {
  "kernelspec": {
   "display_name": "Python 3 (ipykernel)",
   "language": "python",
   "name": "python3"
  },
  "language_info": {
   "codemirror_mode": {
    "name": "ipython",
    "version": 3
   },
   "file_extension": ".py",
   "mimetype": "text/x-python",
   "name": "python",
   "nbconvert_exporter": "python",
   "pygments_lexer": "ipython3",
   "version": "3.9.18"
  }
 },
 "nbformat": 4,
 "nbformat_minor": 5
}
