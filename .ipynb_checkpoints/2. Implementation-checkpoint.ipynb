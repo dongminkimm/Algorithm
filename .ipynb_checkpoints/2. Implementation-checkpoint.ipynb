{
 "cells": [
  {
   "cell_type": "markdown",
   "id": "0f504709",
   "metadata": {},
   "source": [
    "# 구현\n",
    " -> 머릿속에 있는 알고리즘을 소스코드로 바꾸는 과정\n",
    " \n",
    "완전 탐색: 모든 경우의 수를 주저 없이 다 계산하는 해결 방법   -> 반복문 or 재귀 함수 (DFS/BFS)\n",
    "시뮬레이션: 문제에서 제시한 알고리즘을 한 단계씩 차례대로 직접 수행\n",
    "\n",
    "파이썬은 크기가 1,000만 이상인 리스트가 있다면 메모리 용량 제한이 발생 할 수 있음.\n",
    "파이썬은 1초에 2,000만 번의 연산을 수행한다고 가정. -> 기업 코테에서도 무리 없는 수준"
   ]
  },
  {
   "cell_type": "markdown",
   "id": "ed3ffd24",
   "metadata": {},
   "source": [
    "## 4-1. 상하좌우"
   ]
  },
  {
   "cell_type": "code",
   "execution_count": 2,
   "id": "e9407b00",
   "metadata": {},
   "outputs": [
    {
     "name": "stdout",
     "output_type": "stream",
     "text": [
      "5\n",
      "R R R U D D\n",
      "3 4\n"
     ]
    }
   ],
   "source": [
    "n = int(input())\n",
    "steps = list(input().split())\n",
    "x, y = 1, 1\n",
    "\n",
    "for step in steps:\n",
    "    if step == 'U':\n",
    "        if x <= 1:\n",
    "            continue\n",
    "        x -= 1\n",
    "    elif step == 'D':\n",
    "        if x >= n:\n",
    "            continue\n",
    "        x += 1\n",
    "    elif step == 'L':\n",
    "        if y <= 1:\n",
    "            continue\n",
    "        y -= 1\n",
    "    elif step == 'R':\n",
    "        if y >= n:\n",
    "            continue\n",
    "        y += 1\n",
    "\n",
    "print(x, y)"
   ]
  },
  {
   "cell_type": "markdown",
   "id": "43821398",
   "metadata": {},
   "source": [
    "## 4-2. 시각"
   ]
  },
  {
   "cell_type": "code",
   "execution_count": 11,
   "id": "7d314e1a",
   "metadata": {},
   "outputs": [
    {
     "name": "stdout",
     "output_type": "stream",
     "text": [
      "5\n",
      "11475\n"
     ]
    },
    {
     "data": {
      "text/plain": [
       "'\\n답안 코드..\\n\\nh = int(input())\\ncnt = 0\\n\\nfor i in range(h+1):\\n'"
      ]
     },
     "execution_count": 11,
     "metadata": {},
     "output_type": "execute_result"
    }
   ],
   "source": [
    "num = int(input())\n",
    "cnt = 0\n",
    "\n",
    "for h in range(num+1):\n",
    "    if '3' in str(h):\n",
    "        cnt += 3600\n",
    "        continue\n",
    "        \n",
    "    for m in range(60):\n",
    "        if '3' in str(m):\n",
    "            cnt += 60\n",
    "            continue\n",
    "            \n",
    "        for s in range(60):\n",
    "            if '3' in str(s):\n",
    "                cnt += 1\n",
    "print(cnt)\n",
    "\n",
    "\n",
    "'''\n",
    "답안 코드..\n",
    "\n",
    "h = int(input())\n",
    "cnt = 0\n",
    "\n",
    "for i in range(h+1):\n",
    "    for j in range(60):\n",
    "        for k in range(60):\n",
    "            if '3' in str(h)+str(m)+str(k):\n",
    "                cnt += 1\n",
    "'''"
   ]
  },
  {
   "cell_type": "markdown",
   "id": "c9f6ba1b",
   "metadata": {},
   "source": [
    "## 4-3. 왕실의 나이트"
   ]
  },
  {
   "cell_type": "code",
   "execution_count": 14,
   "id": "09e274f8",
   "metadata": {},
   "outputs": [
    {
     "name": "stdout",
     "output_type": "stream",
     "text": [
      "a1\n",
      "2\n"
     ]
    }
   ],
   "source": [
    "txt = input()\n",
    "col = int(ord(txt[0])) - int(ord('a')) + 1\n",
    "row = int(txt[1])\n",
    "\n",
    "steps = [(-2,-1), (-2, 1), (2, -1), (2, 1), (1, 2), (-1, 2), (1, -2), (-1, -2)]\n",
    "cnt = 0\n",
    "\n",
    "for step in steps:\n",
    "    a, b = step\n",
    "    nx = row + a\n",
    "    ny = col + b\n",
    "    if nx < 1 or nx > 8 or ny < 1 or ny > 8:\n",
    "        continue\n",
    "    cnt += 1\n",
    "print(cnt)"
   ]
  },
  {
   "cell_type": "markdown",
   "id": "9e5c4714",
   "metadata": {},
   "source": [
    "### 위의 steps나 dx, dy하는 기법이 자주 사용되니까 외워!"
   ]
  },
  {
   "cell_type": "markdown",
   "id": "188bbc40",
   "metadata": {},
   "source": [
    "## 4-4. 게임 개발"
   ]
  },
  {
   "cell_type": "code",
   "execution_count": 13,
   "id": "079abee0",
   "metadata": {},
   "outputs": [
    {
     "name": "stdout",
     "output_type": "stream",
     "text": [
      "4 4\n",
      "1 1 0\n",
      "1 1 1 1\n",
      "1 0 0 1\n",
      "1 1 0 1\n",
      "1 1 1 1\n",
      "3\n"
     ]
    }
   ],
   "source": [
    "n, m = map(int, input().split())\n",
    "a, b, direction = map(int, input().split())\n",
    "mapp = []\n",
    "for _ in range(n):\n",
    "    mapp.append(list(map(int, input().split())))\n",
    "\n",
    "visited = [[0]*m for i in range(n)]\n",
    "\n",
    "steps = [(-1, 0), (0, 1), (1, 0), (0, -1)]\n",
    "\n",
    "def turn_left():\n",
    "    global direction\n",
    "    direction -= 1\n",
    "    if direction == -1:\n",
    "        direction = 3\n",
    "        \n",
    "visited[a][b] = 1\n",
    "cnt = 0\n",
    "result = 1\n",
    "\n",
    "while True:\n",
    "    turn_left()\n",
    "    nx = a + steps[direction][0]\n",
    "    ny = b + steps[direction][1]\n",
    "    \n",
    "    if mapp[nx][ny] == 0 and visited[nx][ny] == 0:\n",
    "        visited[nx][ny] = 1\n",
    "        a = nx\n",
    "        b = ny\n",
    "        result += 1\n",
    "        cnt = 0\n",
    "        continue\n",
    "    else:\n",
    "        cnt += 1\n",
    "        \n",
    "    if cnt == 4:\n",
    "        nx = a - steps[direction][0]\n",
    "        ny = b - steps[direction][1]\n",
    "        if mapp[nx][ny] == 0:\n",
    "            a = nx\n",
    "            b = ny\n",
    "        else:\n",
    "            break\n",
    "        cnt = 0\n",
    "\n",
    "print(result)"
   ]
  },
  {
   "cell_type": "markdown",
   "id": "0d9a7721",
   "metadata": {},
   "source": [
    "## Q7. 럭키 스트레이트"
   ]
  },
  {
   "cell_type": "code",
   "execution_count": 18,
   "id": "78ac7e0f",
   "metadata": {},
   "outputs": [
    {
     "name": "stdout",
     "output_type": "stream",
     "text": [
      "7755\n",
      "READY\n"
     ]
    }
   ],
   "source": [
    "num = input()\n",
    "mid = int(len(num) / 2)\n",
    "a = num[:mid]\n",
    "b = num[mid:]\n",
    "\n",
    "a_list =  []\n",
    "b_list = []\n",
    "for i in range(len(a)):\n",
    "    a_list.append(int(a[i]))\n",
    "    b_list.append(int(b[i]))\n",
    "\n",
    "sum1, sum2 = 0, 0\n",
    "for i in range(len(a)):\n",
    "    sum1 += a_list[i]\n",
    "    sum2 += b_list[i]\n",
    "\n",
    "if sum1 == sum2:\n",
    "    print(\"LUCKY\")\n",
    "else:\n",
    "    print(\"READY\")"
   ]
  },
  {
   "cell_type": "markdown",
   "id": "8f03cb1a",
   "metadata": {},
   "source": [
    "## Q8. 문자열 재정렬"
   ]
  },
  {
   "cell_type": "code",
   "execution_count": 30,
   "id": "9fbe58b9",
   "metadata": {},
   "outputs": [
    {
     "name": "stdout",
     "output_type": "stream",
     "text": [
      "AJKDLSI412K4JSJ9D\n",
      "ADDIJJJKKLSS20\n"
     ]
    }
   ],
   "source": [
    "txt = input()\n",
    "\n",
    "sum = 0\n",
    "text = []\n",
    "for i in range(len(txt)):\n",
    "    if txt[i].isdigit():\n",
    "        sum += int(txt[i])\n",
    "    else:\n",
    "        text.append(txt[i])\n",
    "        \n",
    "text.sort()\n",
    "print(''.join(text)+str(sum))"
   ]
  },
  {
   "cell_type": "markdown",
   "id": "8d71b000",
   "metadata": {},
   "source": [
    "## Q9. 문자열 압축"
   ]
  },
  {
   "cell_type": "code",
   "execution_count": 31,
   "id": "12da029c",
   "metadata": {},
   "outputs": [],
   "source": [
    "def solution(s):\n",
    "    answer = len(s)\n",
    "    \n",
    "    for step in range(1, len(s) // 2 + 1):\n",
    "        compressed = \"\"\n",
    "        prev = s[0:step]\n",
    "        count = 1\n",
    "        for j in range(step, len(s), step):\n",
    "            if prev == s[j:j+step]:\n",
    "                count += 1\n",
    "            else:\n",
    "                compressed += str(count) + prev if count >= 2 else prev\n",
    "                prev = s[j:j+step]\n",
    "                count = 1\n",
    "        compressed += str(count) + prev if count >= 2 else prev\n",
    "        answer = min(answer, len(compressed))\n",
    "    \n",
    "    return answer\n",
    "\n"
   ]
  },
  {
   "cell_type": "markdown",
   "id": "0493e611",
   "metadata": {},
   "source": [
    "## Q10. 자물쇠와 열쇠"
   ]
  },
  {
   "cell_type": "markdown",
   "id": "86ad0766",
   "metadata": {},
   "source": [
    "---"
   ]
  },
  {
   "cell_type": "code",
   "execution_count": 33,
   "id": "e33e90cf",
   "metadata": {},
   "outputs": [
    {
     "name": "stdout",
     "output_type": "stream",
     "text": [
      "4 4\n",
      "1 1 0\n",
      "1 1 1 1\n",
      "1 0 0 1\n",
      "1 1 0 1\n",
      "1 1 1 1\n",
      "3\n"
     ]
    }
   ],
   "source": []
  },
  {
   "cell_type": "code",
   "execution_count": null,
   "id": "8b5bf9a9",
   "metadata": {},
   "outputs": [],
   "source": []
  },
  {
   "cell_type": "code",
   "execution_count": null,
   "id": "661e489d",
   "metadata": {},
   "outputs": [],
   "source": []
  },
  {
   "cell_type": "code",
   "execution_count": null,
   "id": "64f115ce",
   "metadata": {},
   "outputs": [],
   "source": []
  },
  {
   "cell_type": "code",
   "execution_count": null,
   "id": "0b8430b8",
   "metadata": {},
   "outputs": [],
   "source": []
  },
  {
   "cell_type": "code",
   "execution_count": null,
   "id": "909ce253",
   "metadata": {},
   "outputs": [],
   "source": []
  }
 ],
 "metadata": {
  "kernelspec": {
   "display_name": "Python 3 (ipykernel)",
   "language": "python",
   "name": "python3"
  },
  "language_info": {
   "codemirror_mode": {
    "name": "ipython",
    "version": 3
   },
   "file_extension": ".py",
   "mimetype": "text/x-python",
   "name": "python",
   "nbconvert_exporter": "python",
   "pygments_lexer": "ipython3",
   "version": "3.9.18"
  }
 },
 "nbformat": 4,
 "nbformat_minor": 5
}
