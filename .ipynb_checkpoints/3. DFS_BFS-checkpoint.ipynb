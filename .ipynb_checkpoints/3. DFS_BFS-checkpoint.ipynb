{
 "cells": [
  {
   "cell_type": "markdown",
   "id": "2dc65c08",
   "metadata": {},
   "source": [
    "# < DFS / BFS >\n",
    "## 탐색(Search)\n",
    "### 많은 양의 데이터 중에서 원하는 데이터를 찾는 과정\n",
    "\n",
    "## 자료 구조(Data Structure)\n",
    "### 데이터를 표현하고 관리하고 처리하기 위한 구조"
   ]
  },
  {
   "cell_type": "markdown",
   "id": "b0c1881f",
   "metadata": {},
   "source": [
    "## 스택 ( Stack )\n",
    "### LIFO (Last in - First out) 구조\n",
    "파이썬에서는 다른 라이브러리 사용 X -> 그냥 리스트 사용하면 된다."
   ]
  },
  {
   "cell_type": "code",
   "execution_count": 1,
   "id": "1c62e8cf",
   "metadata": {},
   "outputs": [
    {
     "name": "stdout",
     "output_type": "stream",
     "text": [
      "[5, 2, 3, 1]\n",
      "[1, 3, 2, 5]\n"
     ]
    }
   ],
   "source": [
    "stack = []\n",
    "stack.append(5)\n",
    "stack.append(2)\n",
    "stack.append(3)\n",
    "stack.append(7)\n",
    "stack.pop()\n",
    "stack.append(1)\n",
    "stack.append(4)\n",
    "stack.pop()\n",
    "\n",
    "print(stack)\n",
    "print(stack[::-1])"
   ]
  },
  {
   "cell_type": "markdown",
   "id": "bfbf2445",
   "metadata": {},
   "source": [
    "## 큐 (Queue)\n",
    "### FIFO (First in - First out) 구조\n",
    "파이썬에서 구현할 때는 collections -> deque로 구현하면 된다."
   ]
  },
  {
   "cell_type": "code",
   "execution_count": 2,
   "id": "960f7f03",
   "metadata": {},
   "outputs": [
    {
     "name": "stdout",
     "output_type": "stream",
     "text": [
      "deque([3, 7, 1, 4])\n",
      "deque([4, 1, 7, 3])\n"
     ]
    }
   ],
   "source": [
    "from collections import deque\n",
    "q = deque()\n",
    "\n",
    "q.append(5)\n",
    "q.append(2)\n",
    "q.append(3)\n",
    "q.append(7)\n",
    "q.popleft()\n",
    "q.append(1)\n",
    "q.append(4)\n",
    "q.popleft()\n",
    "\n",
    "print(q)\n",
    "q.reverse()\n",
    "print(q)"
   ]
  },
  {
   "cell_type": "markdown",
   "id": "9de1a2a8",
   "metadata": {},
   "source": [
    "## 재귀 함수 (Recursive Function)\n",
    "### -> 자기 자신을 다시 호출하는 함수\n",
    "문제 풀이에 재귀 함수를 이용하려면, 종료 조건(terminating condition)을 꼭 명시해야 한다."
   ]
  },
  {
   "cell_type": "code",
   "execution_count": 3,
   "id": "a5f2142d",
   "metadata": {},
   "outputs": [],
   "source": [
    "# def recursive():\n",
    "#     print('재귀 함수 호출')\n",
    "#     recursive()\n",
    "\n",
    "# recursive()"
   ]
  },
  {
   "cell_type": "code",
   "execution_count": 4,
   "id": "f930b99d",
   "metadata": {},
   "outputs": [
    {
     "name": "stdout",
     "output_type": "stream",
     "text": [
      "1번 째 함수에서 2번 째 함수 호출\n",
      "2번 째 함수에서 3번 째 함수 호출\n",
      "3번 째 함수에서 4번 째 함수 호출\n",
      "4번 째 함수에서 5번 째 함수 호출\n",
      "5번 째 함수에서 6번 째 함수 호출\n",
      "6번 째 함수에서 7번 째 함수 호출\n",
      "7번 째 함수에서 8번 째 함수 호출\n",
      "8번 째 함수에서 9번 째 함수 호출\n",
      "9번 째 함수에서 10번 째 함수 호출\n",
      "10번 째 함수에서 11번 째 함수 호출\n",
      "11번 째 함수에서 12번 째 함수 호출\n",
      "12번 째 함수에서 13번 째 함수 호출\n",
      "13번 째 함수에서 14번 째 함수 호출\n",
      "14번 째 함수에서 15번 째 함수 호출\n",
      "15번 째 함수에서 16번 째 함수 호출\n",
      "16번 째 함수에서 17번 째 함수 호출\n",
      "17번 째 함수에서 18번 째 함수 호출\n",
      "18번 째 함수에서 19번 째 함수 호출\n",
      "19번 째 함수에서 20번 째 함수 호출\n",
      "20번 째 함수에서 21번 째 함수 호출\n",
      "21번 째 함수에서 22번 째 함수 호출\n",
      "22번 째 함수에서 23번 째 함수 호출\n",
      "23번 째 함수에서 24번 째 함수 호출\n",
      "24번 째 함수에서 25번 째 함수 호출\n",
      "25번 째 함수에서 26번 째 함수 호출\n",
      "26번 째 함수에서 27번 째 함수 호출\n",
      "27번 째 함수에서 28번 째 함수 호출\n",
      "28번 째 함수에서 29번 째 함수 호출\n",
      "29번 째 함수에서 30번 째 함수 호출\n",
      "30번 째 함수에서 31번 째 함수 호출\n",
      "31번 째 함수에서 32번 째 함수 호출\n",
      "32번 째 함수에서 33번 째 함수 호출\n",
      "33번 째 함수에서 34번 째 함수 호출\n",
      "34번 째 함수에서 35번 째 함수 호출\n",
      "35번 째 함수에서 36번 째 함수 호출\n",
      "36번 째 함수에서 37번 째 함수 호출\n",
      "37번 째 함수에서 38번 째 함수 호출\n",
      "38번 째 함수에서 39번 째 함수 호출\n",
      "39번 째 함수에서 40번 째 함수 호출\n",
      "40번 째 함수에서 41번 째 함수 호출\n",
      "41번 째 함수에서 42번 째 함수 호출\n",
      "42번 째 함수에서 43번 째 함수 호출\n",
      "43번 째 함수에서 44번 째 함수 호출\n",
      "44번 째 함수에서 45번 째 함수 호출\n",
      "45번 째 함수에서 46번 째 함수 호출\n",
      "46번 째 함수에서 47번 째 함수 호출\n",
      "47번 째 함수에서 48번 째 함수 호출\n",
      "48번 째 함수에서 49번 째 함수 호출\n",
      "49번 째 함수에서 50번 째 함수 호출\n",
      "50번 째 함수에서 51번 째 함수 호출\n",
      "51번 째 함수에서 52번 째 함수 호출\n",
      "52번 째 함수에서 53번 째 함수 호출\n",
      "53번 째 함수에서 54번 째 함수 호출\n",
      "54번 째 함수에서 55번 째 함수 호출\n",
      "55번 째 함수에서 56번 째 함수 호출\n",
      "56번 째 함수에서 57번 째 함수 호출\n",
      "57번 째 함수에서 58번 째 함수 호출\n",
      "58번 째 함수에서 59번 째 함수 호출\n",
      "59번 째 함수에서 60번 째 함수 호출\n",
      "60번 째 함수에서 61번 째 함수 호출\n",
      "61번 째 함수에서 62번 째 함수 호출\n",
      "62번 째 함수에서 63번 째 함수 호출\n",
      "63번 째 함수에서 64번 째 함수 호출\n",
      "64번 째 함수에서 65번 째 함수 호출\n",
      "65번 째 함수에서 66번 째 함수 호출\n",
      "66번 째 함수에서 67번 째 함수 호출\n",
      "67번 째 함수에서 68번 째 함수 호출\n",
      "68번 째 함수에서 69번 째 함수 호출\n",
      "69번 째 함수에서 70번 째 함수 호출\n",
      "70번 째 함수에서 71번 째 함수 호출\n",
      "71번 째 함수에서 72번 째 함수 호출\n",
      "72번 째 함수에서 73번 째 함수 호출\n",
      "73번 째 함수에서 74번 째 함수 호출\n",
      "74번 째 함수에서 75번 째 함수 호출\n",
      "75번 째 함수에서 76번 째 함수 호출\n",
      "76번 째 함수에서 77번 째 함수 호출\n",
      "77번 째 함수에서 78번 째 함수 호출\n",
      "78번 째 함수에서 79번 째 함수 호출\n",
      "79번 째 함수에서 80번 째 함수 호출\n",
      "80번 째 함수에서 81번 째 함수 호출\n",
      "81번 째 함수에서 82번 째 함수 호출\n",
      "82번 째 함수에서 83번 째 함수 호출\n",
      "83번 째 함수에서 84번 째 함수 호출\n",
      "84번 째 함수에서 85번 째 함수 호출\n",
      "85번 째 함수에서 86번 째 함수 호출\n",
      "86번 째 함수에서 87번 째 함수 호출\n",
      "87번 째 함수에서 88번 째 함수 호출\n",
      "88번 째 함수에서 89번 째 함수 호출\n",
      "89번 째 함수에서 90번 째 함수 호출\n",
      "90번 째 함수에서 91번 째 함수 호출\n",
      "91번 째 함수에서 92번 째 함수 호출\n",
      "92번 째 함수에서 93번 째 함수 호출\n",
      "93번 째 함수에서 94번 째 함수 호출\n",
      "94번 째 함수에서 95번 째 함수 호출\n",
      "95번 째 함수에서 96번 째 함수 호출\n",
      "96번 째 함수에서 97번 째 함수 호출\n",
      "97번 째 함수에서 98번 째 함수 호출\n",
      "98번 째 함수에서 99번 째 함수 호출\n",
      "99번 째 함수에서 100번 째 함수 호출\n",
      "99번 째 함수 종료\n",
      "98번 째 함수 종료\n",
      "97번 째 함수 종료\n",
      "96번 째 함수 종료\n",
      "95번 째 함수 종료\n",
      "94번 째 함수 종료\n",
      "93번 째 함수 종료\n",
      "92번 째 함수 종료\n",
      "91번 째 함수 종료\n",
      "90번 째 함수 종료\n",
      "89번 째 함수 종료\n",
      "88번 째 함수 종료\n",
      "87번 째 함수 종료\n",
      "86번 째 함수 종료\n",
      "85번 째 함수 종료\n",
      "84번 째 함수 종료\n",
      "83번 째 함수 종료\n",
      "82번 째 함수 종료\n",
      "81번 째 함수 종료\n",
      "80번 째 함수 종료\n",
      "79번 째 함수 종료\n",
      "78번 째 함수 종료\n",
      "77번 째 함수 종료\n",
      "76번 째 함수 종료\n",
      "75번 째 함수 종료\n",
      "74번 째 함수 종료\n",
      "73번 째 함수 종료\n",
      "72번 째 함수 종료\n",
      "71번 째 함수 종료\n",
      "70번 째 함수 종료\n",
      "69번 째 함수 종료\n",
      "68번 째 함수 종료\n",
      "67번 째 함수 종료\n",
      "66번 째 함수 종료\n",
      "65번 째 함수 종료\n",
      "64번 째 함수 종료\n",
      "63번 째 함수 종료\n",
      "62번 째 함수 종료\n",
      "61번 째 함수 종료\n",
      "60번 째 함수 종료\n",
      "59번 째 함수 종료\n",
      "58번 째 함수 종료\n",
      "57번 째 함수 종료\n",
      "56번 째 함수 종료\n",
      "55번 째 함수 종료\n",
      "54번 째 함수 종료\n",
      "53번 째 함수 종료\n",
      "52번 째 함수 종료\n",
      "51번 째 함수 종료\n",
      "50번 째 함수 종료\n",
      "49번 째 함수 종료\n",
      "48번 째 함수 종료\n",
      "47번 째 함수 종료\n",
      "46번 째 함수 종료\n",
      "45번 째 함수 종료\n",
      "44번 째 함수 종료\n",
      "43번 째 함수 종료\n",
      "42번 째 함수 종료\n",
      "41번 째 함수 종료\n",
      "40번 째 함수 종료\n",
      "39번 째 함수 종료\n",
      "38번 째 함수 종료\n",
      "37번 째 함수 종료\n",
      "36번 째 함수 종료\n",
      "35번 째 함수 종료\n",
      "34번 째 함수 종료\n",
      "33번 째 함수 종료\n",
      "32번 째 함수 종료\n",
      "31번 째 함수 종료\n",
      "30번 째 함수 종료\n",
      "29번 째 함수 종료\n",
      "28번 째 함수 종료\n",
      "27번 째 함수 종료\n",
      "26번 째 함수 종료\n",
      "25번 째 함수 종료\n",
      "24번 째 함수 종료\n",
      "23번 째 함수 종료\n",
      "22번 째 함수 종료\n",
      "21번 째 함수 종료\n",
      "20번 째 함수 종료\n",
      "19번 째 함수 종료\n",
      "18번 째 함수 종료\n",
      "17번 째 함수 종료\n",
      "16번 째 함수 종료\n",
      "15번 째 함수 종료\n",
      "14번 째 함수 종료\n",
      "13번 째 함수 종료\n",
      "12번 째 함수 종료\n",
      "11번 째 함수 종료\n",
      "10번 째 함수 종료\n",
      "9번 째 함수 종료\n",
      "8번 째 함수 종료\n",
      "7번 째 함수 종료\n",
      "6번 째 함수 종료\n",
      "5번 째 함수 종료\n",
      "4번 째 함수 종료\n",
      "3번 째 함수 종료\n",
      "2번 째 함수 종료\n",
      "1번 째 함수 종료\n"
     ]
    }
   ],
   "source": [
    "def again(i):\n",
    "    if i == 100:\n",
    "        return\n",
    "    print(f'{i}번 째 함수에서 {i+1}번 째 함수 호출')\n",
    "    again(i+1)\n",
    "    print(f'{i}번 째 함수 종료')\n",
    "again(1)"
   ]
  },
  {
   "cell_type": "code",
   "execution_count": 5,
   "id": "075b77d6",
   "metadata": {},
   "outputs": [
    {
     "name": "stdout",
     "output_type": "stream",
     "text": [
      "120\n",
      "120\n"
     ]
    }
   ],
   "source": [
    "# 반복문으로 팩토리얼 구현\n",
    "def factorial(n):\n",
    "    result = 1\n",
    "    for i in range(1, n+1):\n",
    "        result *= i\n",
    "    return result\n",
    "\n",
    "# 재귀 함수로 팩토리얼 구현\n",
    "def factorial2(n):\n",
    "    if n <= 1:\n",
    "        return 1\n",
    "    return n * factorial2(n-1)\n",
    "\n",
    "print(factorial(5))\n",
    "print(factorial2(5))"
   ]
  },
  {
   "cell_type": "markdown",
   "id": "48aa49eb",
   "metadata": {},
   "source": [
    "# ------------------------"
   ]
  },
  {
   "cell_type": "markdown",
   "id": "a598e177",
   "metadata": {},
   "source": [
    "## DFS (Depth First Search)\n",
    " * -> 깊이 우선 탐색이라고 불리며, 그래프에서 깊은 부분을 우선적으로 탐색하는 알고리즘\n",
    "\n",
    "### 인접 행렬 (Adjacency Matrix) : 2차원 배열로 그래프의 연결 관계 표현\n",
    "* -> 2차원 배열에 각 노드가 연결된 형태를 기록하는 방식\n",
    "\n",
    "### 인접 리스트 (Adjacency List) : 리스트로 그래프의 연결 관계 표현\n",
    "* -> 파이썬에서는 단순히 2차원 리스트를 사용하면 된다. 개꿀임!!\n",
    "\n"
   ]
  },
  {
   "cell_type": "code",
   "execution_count": 6,
   "id": "15fbf6f1",
   "metadata": {},
   "outputs": [
    {
     "name": "stdout",
     "output_type": "stream",
     "text": [
      "[[0, 7, 5], [7, 0, 987654321], [5, 987654321, 0]]\n"
     ]
    }
   ],
   "source": [
    "# 인접 행렬 방식\n",
    "\n",
    "INF = 987654321  # 연결되지 않은 간선 (무한을 의미함)\n",
    "\n",
    "graph = [[0, 7, 5], [7, 0 ,INF], [5, INF, 0]]\n",
    "\n",
    "print(graph)"
   ]
  },
  {
   "cell_type": "code",
   "execution_count": 7,
   "id": "fd559729",
   "metadata": {},
   "outputs": [
    {
     "name": "stdout",
     "output_type": "stream",
     "text": [
      "[[(1, 7)], [(2, 5), (0, 7)], [(0, 5)]]\n"
     ]
    }
   ],
   "source": [
    "# 인접 리스트 방식\n",
    "\n",
    "graph = [[] for _ in range(3)]\n",
    "\n",
    "# (연결된 노드, 비용)\n",
    "graph[0].append((1, 7))\n",
    "\n",
    "graph[1].append((2, 5))\n",
    "graph[1].append((0, 7))\n",
    "\n",
    "graph[2].append((0, 5))\n",
    "\n",
    "print(graph)"
   ]
  },
  {
   "cell_type": "markdown",
   "id": "f06dc2b3",
   "metadata": {},
   "source": [
    "### 메모리 측면\n",
    "인접 행렬: 모든 관계를 저장하므로 노드 개수가 많을수록 메모리 낭비  \n",
    "인접 리스트: 연결된 정보만을 저장하기 때문에 메모리 효율적!\n",
    "\n",
    "### 속도 측면\n",
    "메모리 측면과 같은 이유 때문에 인접 리스트 방식이 조금 느림....   \n",
    "이유는 하나씩 다 확인해야 하기 때문.  \n",
    "그러나 인접 행렬은 행렬을 딱 보기만 하면 되기 때문에 빠름."
   ]
  },
  {
   "cell_type": "markdown",
   "id": "a80b9888",
   "metadata": {},
   "source": [
    "### DFS 구현할 때 방문 처리를 꼭 해야함!\n",
    "### DFS는 스택을 이용하기 때문에 실제 구현을 '재귀 함수'로 하면 더 간결하게 구현 가능\n",
    "### 데이터가 N개인 경우 O(N) 의 시간복잡도"
   ]
  },
  {
   "cell_type": "code",
   "execution_count": 8,
   "id": "c7a5f1a0",
   "metadata": {},
   "outputs": [
    {
     "name": "stdout",
     "output_type": "stream",
     "text": [
      "1 2 7 6 8 3 4 5 "
     ]
    }
   ],
   "source": [
    "def dfs(graph, v, visited):\n",
    "    visited[v] = True\n",
    "    print(v, end = ' ')\n",
    "    \n",
    "    for i in graph[v]:\n",
    "        if not visited[i]:\n",
    "            dfs(graph, i, visited)\n",
    "\n",
    "graph = [[], [2,3,8], [1,7], [1,4,5], [3,5], [3,4], [7], [2,6,8], [1,7]]\n",
    "\n",
    "visited = [False] * 9\n",
    "dfs(graph, 1, visited)\n"
   ]
  },
  {
   "cell_type": "markdown",
   "id": "5ad547e8",
   "metadata": {},
   "source": [
    "## BFS (Breadth First Search)\n",
    "### 너비 우선 탐색, 가까운 노드부터 탐색하는 알고리즘\n",
    "\n",
    "* DFS = 리스트, DFS = 큐 이용하면 정석\n",
    "\n",
    "##### 구현이 간단, deque 라이브러리 사용하는게 좋음!!\n",
    "시간은 O(N) 정도 소요되지만, 일반적인 경우 DFS 보다 빠름!!"
   ]
  },
  {
   "cell_type": "code",
   "execution_count": 3,
   "id": "323497e8",
   "metadata": {},
   "outputs": [
    {
     "name": "stdout",
     "output_type": "stream",
     "text": [
      "1 2 3 8 7 4 5 6 "
     ]
    }
   ],
   "source": [
    "from collections import deque\n",
    "\n",
    "def bfs(graph, start, visited):\n",
    "    q = deque([start])\n",
    "    visited[start] = True\n",
    "    while q:\n",
    "        v = q.popleft()\n",
    "        print(v, end=' ')\n",
    "        for i in graph[v]:\n",
    "            if not visited[i]:\n",
    "                q.append(i)\n",
    "                visited[i] = True\n",
    "                \n",
    "graph = [[], [2,3,8], [1,7], [1,4,5], [3,5], [3,4], [7], [2,6,8], [1,7]]\n",
    "visited = [False] * 9\n",
    "\n",
    "bfs(graph, 1, visited)"
   ]
  },
  {
   "cell_type": "markdown",
   "id": "2696d204",
   "metadata": {},
   "source": [
    "## DFS\n",
    "* 동작 원리: 스택\n",
    "* 구현 방법: 재귀 함수 이용\n",
    "\n",
    "## BFS\n",
    "* 동작원리: 큐\n",
    "* 구현 방법: 큐 자료구조 (deque)"
   ]
  },
  {
   "cell_type": "markdown",
   "id": "1bd2dc0a",
   "metadata": {},
   "source": [
    "---"
   ]
  },
  {
   "cell_type": "markdown",
   "id": "b242946b",
   "metadata": {},
   "source": [
    "### 실전문제\n",
    "### 5-10. 음료수 얼려 먹기"
   ]
  },
  {
   "cell_type": "code",
   "execution_count": 19,
   "id": "c85882bb",
   "metadata": {},
   "outputs": [
    {
     "name": "stdout",
     "output_type": "stream",
     "text": [
      "4 5\n",
      "00110\n",
      "00011\n",
      "11111\n",
      "00000\n",
      "3\n"
     ]
    }
   ],
   "source": [
    "n, m = map(int, input().split())\n",
    "graph = []\n",
    "for _ in range(n):\n",
    "    graph.append(list(map(int, input())))\n",
    "    \n",
    "def dfs(x, y):\n",
    "    if x <= -1 or x >= n or y <= -1 or y >= m:\n",
    "        return False\n",
    "    if graph[x][y] == 0:\n",
    "        graph[x][y] = 1\n",
    "        dfs(x, y+1)\n",
    "        dfs(x, y-1)\n",
    "        dfs(x+1, y)\n",
    "        dfs(x-1, y)\n",
    "        return True\n",
    "    return False\n",
    "\n",
    "result = 0\n",
    "for i in range(n):\n",
    "    for j in range(m):\n",
    "        if dfs(i, j) == True:\n",
    "            result += 1\n",
    "            \n",
    "print(result)"
   ]
  },
  {
   "cell_type": "markdown",
   "id": "bb9da42d",
   "metadata": {},
   "source": [
    "## 5-11. 미로 탈출"
   ]
  },
  {
   "cell_type": "code",
   "execution_count": 22,
   "id": "19e53db6",
   "metadata": {},
   "outputs": [
    {
     "name": "stdout",
     "output_type": "stream",
     "text": [
      "5 6\n",
      "101010\n",
      "111111\n",
      "000001\n",
      "111111\n",
      "111111\n",
      "10\n"
     ]
    }
   ],
   "source": [
    "from collections import deque\n",
    "\n",
    "n, m = map(int, input().split())\n",
    "graph = []\n",
    "for _ in range(n):\n",
    "    graph.append(list(map(int, input())))\n",
    "\n",
    "dy = [0, 0, -1, 1]\n",
    "dx = [-1, 1, 0, 0]\n",
    "\n",
    "def bfs(x, y):\n",
    "    q = deque()\n",
    "    q.append((x,y))\n",
    "    while q:\n",
    "        x, y = q.popleft()\n",
    "        \n",
    "        for i in range(4):\n",
    "            nx = x + dx[i]\n",
    "            ny = y + dy[i]\n",
    "            if nx < 0 or ny < 0 or nx >= n or ny >= m:\n",
    "                continue\n",
    "            if graph[nx][ny] == 0:\n",
    "                continue\n",
    "            if graph[nx][ny] == 1:\n",
    "                graph[nx][ny] = graph[x][y] + 1\n",
    "                q.append((nx, ny))\n",
    "    return graph[n-1][m-1]\n",
    "        \n",
    "\n",
    "print(bfs(0, 0))"
   ]
  },
  {
   "cell_type": "markdown",
   "id": "53c66701",
   "metadata": {},
   "source": [
    "## Q15. 특정 거리의 도시 찾기"
   ]
  },
  {
   "cell_type": "code",
   "execution_count": 3,
   "id": "e7b5ac88",
   "metadata": {},
   "outputs": [
    {
     "ename": "ValueError",
     "evalue": "not enough values to unpack (expected 4, got 0)",
     "output_type": "error",
     "traceback": [
      "\u001b[1;31m---------------------------------------------------------------------------\u001b[0m",
      "\u001b[1;31mValueError\u001b[0m                                Traceback (most recent call last)",
      "Cell \u001b[1;32mIn[3], line 6\u001b[0m\n\u001b[0;32m      1\u001b[0m \u001b[38;5;28;01mfrom\u001b[39;00m \u001b[38;5;21;01mcollections\u001b[39;00m \u001b[38;5;28;01mimport\u001b[39;00m deque\n\u001b[0;32m      2\u001b[0m \u001b[38;5;66;03m# import sys\u001b[39;00m\n\u001b[0;32m      3\u001b[0m \n\u001b[0;32m      4\u001b[0m \u001b[38;5;66;03m# input = sys.stdin.readline\u001b[39;00m\n\u001b[1;32m----> 6\u001b[0m n, m, k, x \u001b[38;5;241m=\u001b[39m \u001b[38;5;28mmap\u001b[39m(\u001b[38;5;28mint\u001b[39m, \u001b[38;5;28minput\u001b[39m()\u001b[38;5;241m.\u001b[39msplit())\n\u001b[0;32m      7\u001b[0m graph \u001b[38;5;241m=\u001b[39m [[] \u001b[38;5;28;01mfor\u001b[39;00m _ \u001b[38;5;129;01min\u001b[39;00m \u001b[38;5;28mrange\u001b[39m(n \u001b[38;5;241m+\u001b[39m \u001b[38;5;241m1\u001b[39m)]\n\u001b[0;32m      9\u001b[0m \u001b[38;5;28;01mfor\u001b[39;00m _ \u001b[38;5;129;01min\u001b[39;00m \u001b[38;5;28mrange\u001b[39m(m):\n",
      "\u001b[1;31mValueError\u001b[0m: not enough values to unpack (expected 4, got 0)"
     ]
    }
   ],
   "source": [
    "from collections import deque\n",
    "# import sys\n",
    "\n",
    "# input = sys.stdin.readline\n",
    "\n",
    "n, m, k, x = map(int, input().split())\n",
    "graph = [[] for _ in range(n + 1)]\n",
    "\n",
    "for _ in range(m):\n",
    "    a, b = map(int, input().split())\n",
    "    graph[a].append(b)\n",
    "\n",
    "distance = [-1] * (n + 1)\n",
    "distance[x] = 0\n",
    "\n",
    "q = deque([x])\n",
    "\n",
    "while q:\n",
    "    now = q.popleft()\n",
    "    for next_node in graph[now]:\n",
    "        if distance[next_node] == -1:\n",
    "            distance[next_node] = distance[now] + 1\n",
    "            q.append(next_node)\n",
    "\n",
    "check = False\n",
    "for i in range(1, n+1):\n",
    "    if distance[i] == k:\n",
    "        print(i)\n",
    "        check = True\n",
    "if check != True:\n",
    "    print(-1)"
   ]
  },
  {
   "cell_type": "markdown",
   "id": "bc941958",
   "metadata": {},
   "source": [
    "## Q16. 연구소"
   ]
  },
  {
   "cell_type": "code",
   "execution_count": null,
   "id": "e52c6651",
   "metadata": {},
   "outputs": [],
   "source": [
    "n, m = map(int, input().split())\n",
    "\n",
    "temp = [[0] * m for _ in range(n)]\n",
    "data = []\n",
    "for _ in range(n):\n",
    "    data.append(list(map(int, input().split())))\n",
    "result = 0\n",
    "\n",
    "dx = [-1, 0, 1, 0]\n",
    "dy = [0, 1, 0, -1]\n",
    "\n",
    "def virus(x, y):\n",
    "    for i in range(4):\n",
    "        nx = x + dx[i]\n",
    "        ny = y + dy[i]\n",
    "        if nx < n or ny < m or nx >= 0 or ny >= 0:\n",
    "            if temp[nx][ny] == 0:\n",
    "                temp[nx][ny] = 2\n",
    "                virus(nx, ny)\n",
    "            \n",
    "\n",
    "def get_score():\n",
    "    cnt = 0\n",
    "    for i in range(n):\n",
    "        for j in range(m):\n",
    "            if temp[i][j] == 0:\n",
    "                cnt += 1\n",
    "    return cnt\n",
    "\n",
    "def dfs(count):\n",
    "    global result\n",
    "    if count == 3:\n",
    "        for i in range(n):\n",
    "            for j in range(m):\n",
    "                temp[i][j] = data[i][j]\n",
    "        for i in range(n):\n",
    "            for j in range(m):\n",
    "                if temp[i][j] == 2:\n",
    "                    virus(i, j)\n",
    "        result = max(result, get_score())\n",
    "        return\n",
    "    for i in range(n):\n",
    "        for j in range(m):\n",
    "            if data[i][j] == 0:\n",
    "                data[i][j] = 1\n",
    "                count += 1\n",
    "                dfs(count)\n",
    "                data[i][j] = 0\n",
    "                count -= 1\n",
    "dfs(0)\n",
    "print(result)\n"
   ]
  },
  {
   "cell_type": "code",
   "execution_count": null,
   "id": "c70c4a08",
   "metadata": {},
   "outputs": [],
   "source": []
  }
 ],
 "metadata": {
  "kernelspec": {
   "display_name": "Python 3 (ipykernel)",
   "language": "python",
   "name": "python3"
  },
  "language_info": {
   "codemirror_mode": {
    "name": "ipython",
    "version": 3
   },
   "file_extension": ".py",
   "mimetype": "text/x-python",
   "name": "python",
   "nbconvert_exporter": "python",
   "pygments_lexer": "ipython3",
   "version": "3.9.18"
  }
 },
 "nbformat": 4,
 "nbformat_minor": 5
}
