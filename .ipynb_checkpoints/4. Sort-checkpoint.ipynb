{
 "cells": [
  {
   "cell_type": "markdown",
   "id": "633c13a2",
   "metadata": {},
   "source": [
    "## Sort\n",
    "### 정렬(Sorting): 데이터를 특정한 기준에 따라서 순서대로 나열하는 것\n",
    "\n",
    "정렬은 이진 탐색의 '전처리 과정'!!  \n",
    "1. 선택정렬\n",
    "2. 삽입 정렬\n",
    "3. 퀵 정렬\n",
    "4. 계수 정렬\n",
    "\n",
    "### 문제에서 요구하는 조건에 따라서 적절한 정렬 알고리즘을 사용해야함!!"
   ]
  },
  {
   "cell_type": "markdown",
   "id": "807fd3e0",
   "metadata": {},
   "source": [
    "---"
   ]
  },
  {
   "cell_type": "markdown",
   "id": "18e334a3",
   "metadata": {},
   "source": [
    "# 선택 정렬\n",
    "* 가장 작은 데이터를 맨 앞 데이터와 바꿈, 그 다음 작은 데이터를 두 번째 데이터와 바꿈. 쭉 같은 방식으로 수행\n",
    "* 가장 작은 데이터를 선택해서 정렬한다해서 선택 정렬임\n",
    "\n",
    "### 시간 복잡도\n",
    "* N-1번 만큼 가장 작은 수를 찾아서 맨 앞으로 보낸다.\n",
    "* O(N^2) -> 간단히 설명하면 for문이 2중으로 되어 있어서 N^2이라고 이해해도 괜찮다."
   ]
  },
  {
   "cell_type": "code",
   "execution_count": 1,
   "id": "85a5da46",
   "metadata": {},
   "outputs": [
    {
     "name": "stdout",
     "output_type": "stream",
     "text": [
      "[0, 1, 2, 3, 4, 5, 6, 7, 8, 9]\n"
     ]
    }
   ],
   "source": [
    "array = [7,5,9,0,3,1,6,2,4,8]\n",
    "\n",
    "for i in range(len(array)):\n",
    "    min_index = i\n",
    "    for j in range(i+1, len(array)):\n",
    "        if array[min_index] > array[j]:\n",
    "            min_index = j\n",
    "            \n",
    "    # 스와프 코드. 파이썬에선 이렇게 쉽게 되지만 다른 언어에서는 temp를 하나 선언해서 바꿔야 된다.\n",
    "    array[i], array[min_index] = array[min_index], array[i]\n",
    "print(array)"
   ]
  },
  {
   "cell_type": "markdown",
   "id": "6225c6df",
   "metadata": {},
   "source": [
    "---"
   ]
  },
  {
   "cell_type": "markdown",
   "id": "f3384f89",
   "metadata": {},
   "source": [
    "# 삽입 정렬\n",
    "* 데이터가 거의 정렬되어 있을 때 효율적임\n",
    "* 특정한 데이터를 적절한 위치에 '삽입'해서 삽입 정렬\n",
    "\n",
    "## 시간 복잡도\n",
    "* O(N^2), 선택 정렬과 흡사한 시간이 소요된다.\n",
    "* 다만, 거의 정렬되어 있으면 최선으로 O(N)이 될 수도 있음!!\n",
    "* 정렬되어 있으면 퀵정렬보다 빠를 수 있음."
   ]
  },
  {
   "cell_type": "code",
   "execution_count": 3,
   "id": "8c3d3a0b",
   "metadata": {},
   "outputs": [
    {
     "name": "stdout",
     "output_type": "stream",
     "text": [
      "[0, 1, 2, 3, 4, 5, 6, 7, 8, 9]\n"
     ]
    }
   ],
   "source": [
    "array = [7,5,9,0,3,1,6,2,4,8]\n",
    "\n",
    "for i in range(1, len(array)):\n",
    "    for j in range(i, 0, -1):\n",
    "        if array[j] < array[j-1]:\n",
    "            array[j], array[j-1] = array[j-1], array[j]\n",
    "        else:\n",
    "            break\n",
    "print(array)"
   ]
  },
  {
   "cell_type": "markdown",
   "id": "4185a4fc",
   "metadata": {},
   "source": [
    "---"
   ]
  },
  {
   "cell_type": "markdown",
   "id": "932c7934",
   "metadata": {},
   "source": [
    "# 퀵 정렬\n",
    "* 가장 많이 사용되는 정렬 알고리즘 (병합 정렬만큼 빠름)\n",
    "* 퀵 정렬은 재귀 함수로 작성하면 구현이 간결해진다.\n",
    "\n",
    "## 시간 복잡도\n",
    "* 평균 시간 복잡도는 O(NlogN) 매우 빠른 편!\n",
    "* 그런데 최악의 경우 O(N^2)임...  -> 특히 이미 데이터가 정렬되어 있을 때 느림!!"
   ]
  },
  {
   "cell_type": "code",
   "execution_count": 4,
   "id": "1f63e1de",
   "metadata": {},
   "outputs": [
    {
     "name": "stdout",
     "output_type": "stream",
     "text": [
      "[0, 1, 2, 3, 4, 5, 6, 7, 8, 9]\n"
     ]
    }
   ],
   "source": [
    "# 퀵 정렬 소스\n",
    "\n",
    "array = [5,7,9,0,3,1,6,2,4,8]\n",
    "\n",
    "def quick_sort(array, start, end):\n",
    "    if start >= end:\n",
    "        return\n",
    "    pivot = start\n",
    "    left = start + 1\n",
    "    right = end\n",
    "    \n",
    "    while left <= right:\n",
    "        while left <= end and array[left] <= array[pivot]:\n",
    "            left += 1\n",
    "        while right > start and array[right] >= array[pivot]:\n",
    "            right -= 1\n",
    "        \n",
    "        if left > right:\n",
    "            array[right], array[pivot] = array[pivot], array[right]\n",
    "        else:\n",
    "            array[right], array[left] = array[left], array[right]\n",
    "    quick_sort(array, start, right - 1)\n",
    "    quick_sort(array, right + 1, end)\n",
    "    \n",
    "quick_sort(array, 0, len(array)-1)\n",
    "print(array)"
   ]
  },
  {
   "cell_type": "code",
   "execution_count": 7,
   "id": "67c5f76d",
   "metadata": {},
   "outputs": [
    {
     "name": "stdout",
     "output_type": "stream",
     "text": [
      "[0, 1, 2, 3, 4, 5, 6, 7, 8, 9]\n"
     ]
    }
   ],
   "source": [
    "# 파이썬의 장점을 이용한 코드\n",
    "\n",
    "array = [5,7,9,0,3,1,6,2,4,8]\n",
    "\n",
    "def quick_sort(array):\n",
    "    if len(array) <= 1:\n",
    "        return array\n",
    "    \n",
    "    pivot = array[0]\n",
    "    tail = array[1:]\n",
    "    \n",
    "    left_side = [x for x in tail if x <= pivot]\n",
    "    right_side = [x for x in tail if x > pivot]\n",
    "    \n",
    "    return quick_sort(left_side) + [pivot] + quick_sort(right_side)\n",
    "print(quick_sort(array))"
   ]
  },
  {
   "cell_type": "markdown",
   "id": "80db1f95",
   "metadata": {},
   "source": [
    "---"
   ]
  },
  {
   "cell_type": "markdown",
   "id": "234e701a",
   "metadata": {},
   "source": [
    "# 계수 정렬\n",
    "* 특정한 조건이 부합할 때만 사용할 수 있지만 매우 빠른 정렬 알고리즘\n",
    "* 모든 데이터가 양의 정수인 상황에서 데이터가 N개, 최대값이 K일 때 최악의 경우에도 O(N+K) 보장.\n",
    "### * -> 데이터의 크기 범위가 제한되어 정수 형태로 표현할 수 있을 때만 사용가능\n",
    "* 가장 큰 데이터와 가장 작은 데이터의 차이가 1,000,000을 넘지 않을 때 사용!\n",
    "* 계수 정렬은 새로운 리스트를 만들고 해당 숫자가 몇번 나왔는지 count하고, 그 만큼 출력하는거라 용량 많이 차지함\n",
    "\n",
    "## 시간 복잡도\n",
    "* O(N+K)\n",
    "* 데이터의 범위가 한정되어 있다면 효과적으로 사용 가능하고 빠름!\n",
    "* 사실상 제일 빠름\n",
    "\n",
    "## 공간 복잡도\n",
    "* 데이터가 0, 999,999만 있는 경우에는 리스트의 크기가 100만이 되어야함 ㅋㅋㅋㅋ 공간 비효율적!\n",
    "* 동일한 데이터가 여러 개 나올 때 적합함\n",
    "* 데이터의 특성을 파악하기 어려우면 그냥 퀵 정렬 사용하는게 좋음\n",
    "* O(N+K)"
   ]
  },
  {
   "cell_type": "code",
   "execution_count": 9,
   "id": "d00a3232",
   "metadata": {},
   "outputs": [
    {
     "name": "stdout",
     "output_type": "stream",
     "text": [
      "0 0 1 1 2 2 3 4 5 5 6 7 8 9 9 "
     ]
    }
   ],
   "source": [
    "array = [7,5,9,0,3,1,6,2,9,1,4,8,0,5,2]\n",
    "\n",
    "count = [0] * (max(array)+1)\n",
    "\n",
    "for i in range(len(array)):\n",
    "    count[array[i]] += 1\n",
    "\n",
    "for i in range(len(count)):\n",
    "    for j in range(count[i]):\n",
    "        print(i, end=' ')"
   ]
  },
  {
   "cell_type": "markdown",
   "id": "6496583e",
   "metadata": {},
   "source": [
    "---"
   ]
  },
  {
   "cell_type": "markdown",
   "id": "d4862b27",
   "metadata": {},
   "source": [
    "# 파이썬 정렬 라이브러리\n",
    "* sorted(), .sort()\n",
    "\n",
    "## 시간 복잡도\n",
    "* 최악의 경우에도 O(NlogN)\n",
    "* 파이썬 라이브러리는 병합 정렬 + 삽입 정렬의 아이디어를 합친 하이브리드 방식\n",
    "\n",
    "### ㅠㅠ\n",
    "* 문제에서 요구 사항이 없다: 기본 라이브러리\n",
    "* 데이터의 범위가 한정: 계수 정렬\n",
    "\n",
    "### 코딩테스트 정렬 문제 유형\n",
    "* 정렬 라이브러리로 풀 수 있는 문제\n",
    "* 정렬 알고리즘의 원리에 대해서 물어보는 문제\n",
    "* 더 빠른 정렬이 필요한 문제"
   ]
  },
  {
   "cell_type": "code",
   "execution_count": 10,
   "id": "33e62cb7",
   "metadata": {},
   "outputs": [
    {
     "name": "stdout",
     "output_type": "stream",
     "text": [
      "[0, 1, 2, 3, 4, 5, 6, 7, 8, 9]\n"
     ]
    }
   ],
   "source": [
    "array = [7,5,9,0,3,1,6,2,4,8]\n",
    "\n",
    "result = sorted(array)\n",
    "print(result)"
   ]
  },
  {
   "cell_type": "code",
   "execution_count": 11,
   "id": "10befb0d",
   "metadata": {},
   "outputs": [
    {
     "name": "stdout",
     "output_type": "stream",
     "text": [
      "[0, 1, 2, 3, 4, 5, 6, 7, 8, 9]\n"
     ]
    }
   ],
   "source": [
    "array = [7,5,9,0,3,1,6,2,4,8]\n",
    "\n",
    "array.sort()\n",
    "print(array)"
   ]
  },
  {
   "cell_type": "code",
   "execution_count": 12,
   "id": "0e1b376d",
   "metadata": {},
   "outputs": [
    {
     "name": "stdout",
     "output_type": "stream",
     "text": [
      "[('바나나', 2), ('당근', 3), ('시과', 5)]\n"
     ]
    }
   ],
   "source": [
    "array = [('바나나', 2), ('시과', 5), ('당근', 3)]\n",
    "\n",
    "def setting(data):\n",
    "    return data[1]\n",
    "\n",
    "result = sorted(array, key=setting)\n",
    "print(result)"
   ]
  },
  {
   "cell_type": "markdown",
   "id": "c0a5e79f",
   "metadata": {},
   "source": [
    "---\n",
    "## 실전문제"
   ]
  },
  {
   "cell_type": "markdown",
   "id": "99a5b403",
   "metadata": {},
   "source": [
    "### 6-10. 위에서 아래로"
   ]
  },
  {
   "cell_type": "code",
   "execution_count": 13,
   "id": "758fc9a4",
   "metadata": {},
   "outputs": [
    {
     "name": "stdout",
     "output_type": "stream",
     "text": [
      "3\n",
      "15\n",
      "27\n",
      "12\n",
      "27 15 12 "
     ]
    }
   ],
   "source": [
    "n = int(input())\n",
    "data = []\n",
    "for _ in range(n):\n",
    "    data.append(int(input()))\n",
    "\n",
    "data.sort(reverse=True)\n",
    "for i in data:\n",
    "    print(i, end=' ')"
   ]
  },
  {
   "cell_type": "markdown",
   "id": "4fea88eb",
   "metadata": {},
   "source": [
    "### 6-11. 성적이 낮은 순서로 학생 출력하기"
   ]
  },
  {
   "cell_type": "code",
   "execution_count": 17,
   "id": "38c3559b",
   "metadata": {},
   "outputs": [
    {
     "name": "stdout",
     "output_type": "stream",
     "text": [
      "2\n",
      "g 95\n",
      "kfjalwekjf 77\n",
      "kfjalwekjf g "
     ]
    }
   ],
   "source": [
    "n = int(input())\n",
    "data = []\n",
    "for _ in range(n):\n",
    "    data.append(input().split())\n",
    "\n",
    "# def setting(data):\n",
    "#     return data[1]\n",
    "# data.sort(key = setting)\n",
    "\n",
    "data.sort(key = lambda data: data[1])\n",
    "\n",
    "for i in data:\n",
    "    print(i[0], end=' ')"
   ]
  },
  {
   "cell_type": "markdown",
   "id": "825e7ad4",
   "metadata": {},
   "source": [
    "### 6-12. 두 배열의 원소 교체"
   ]
  },
  {
   "cell_type": "code",
   "execution_count": 22,
   "id": "4fd2d91a",
   "metadata": {},
   "outputs": [
    {
     "name": "stdout",
     "output_type": "stream",
     "text": [
      "5 3\n",
      "1 2 5 4 3\n",
      "5 5 6 6 5\n",
      "26\n"
     ]
    }
   ],
   "source": [
    "n, m = map(int, input().split())\n",
    "a = list(map(int, input().split()))\n",
    "b = list(map(int, input().split()))\n",
    "\n",
    "a.sort()\n",
    "b.sort(reverse=True)\n",
    "\n",
    "for i in range(m):\n",
    "    if a[i] < b[i]:\n",
    "        a[i], b[i] = b[i], a[i]\n",
    "    else:\n",
    "        break\n",
    "        \n",
    "print(sum(a))"
   ]
  },
  {
   "cell_type": "markdown",
   "id": "3b54854f",
   "metadata": {},
   "source": [
    "---"
   ]
  },
  {
   "cell_type": "code",
   "execution_count": 15,
   "id": "4c488f2e",
   "metadata": {},
   "outputs": [
    {
     "name": "stdout",
     "output_type": "stream",
     "text": [
      "5 3\n",
      "1 2 5 4 3\n",
      "5 5 6 6 5\n",
      "26\n"
     ]
    }
   ],
   "source": [
    "n, k = map(int, input().split())\n",
    "a = sorted(list(map(int, input().split())))\n",
    "b = sorted(list(map(int, input().split())), reverse=True)\n",
    "\n",
    "for i in range(k):\n",
    "    if a[i] < b[i]:\n",
    "        a[i], b[i] = b[i], a[i]\n",
    "    else:\n",
    "        break\n",
    "print(sum(a))"
   ]
  },
  {
   "cell_type": "code",
   "execution_count": null,
   "id": "547b2159",
   "metadata": {},
   "outputs": [],
   "source": []
  },
  {
   "cell_type": "code",
   "execution_count": null,
   "id": "eafac632",
   "metadata": {},
   "outputs": [],
   "source": []
  },
  {
   "cell_type": "code",
   "execution_count": null,
   "id": "ac8471e4",
   "metadata": {},
   "outputs": [],
   "source": []
  },
  {
   "cell_type": "code",
   "execution_count": null,
   "id": "ff234c36",
   "metadata": {},
   "outputs": [],
   "source": []
  },
  {
   "cell_type": "code",
   "execution_count": null,
   "id": "0207bcd0",
   "metadata": {},
   "outputs": [],
   "source": []
  }
 ],
 "metadata": {
  "kernelspec": {
   "display_name": "Python 3 (ipykernel)",
   "language": "python",
   "name": "python3"
  },
  "language_info": {
   "codemirror_mode": {
    "name": "ipython",
    "version": 3
   },
   "file_extension": ".py",
   "mimetype": "text/x-python",
   "name": "python",
   "nbconvert_exporter": "python",
   "pygments_lexer": "ipython3",
   "version": "3.9.18"
  }
 },
 "nbformat": 4,
 "nbformat_minor": 5
}
