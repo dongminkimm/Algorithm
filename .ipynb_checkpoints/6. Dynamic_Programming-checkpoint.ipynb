{
 "cells": [
  {
   "cell_type": "markdown",
   "id": "25fccecf",
   "metadata": {},
   "source": [
    "# Dynamic_programming\n",
    "* <사용 가능 조건>\n",
    "1. 큰 문제를 작은 문제로 나눌 수 있다.\n",
    "2. 작은 문제에서 구한 정답은 그것을 포함하는 큰 문제에서도 동일하다.\n",
    "\n",
    "# 다이나믹 프로그래밍에서 가장 중요한건\n",
    "# 점화식 세우는것!! 이라고 생각함"
   ]
  },
  {
   "cell_type": "code",
   "execution_count": 1,
   "id": "40325255",
   "metadata": {},
   "outputs": [
    {
     "name": "stdout",
     "output_type": "stream",
     "text": [
      "3\n"
     ]
    }
   ],
   "source": [
    "# 기본적인 피보나치 수열\n",
    "def fibo(x):\n",
    "    if x == 1 or x == 2:\n",
    "        return 1\n",
    "    return fibo(x-1) + fibo(x-2)\n",
    "\n",
    "print(fibo(4))"
   ]
  },
  {
   "cell_type": "markdown",
   "id": "1f6da971",
   "metadata": {},
   "source": [
    "## Memoization (메모이제이션)\n",
    "* 한 번 구한 결과를 메모리 공간에 메모해두고 같은 식을 다시 호풀하면 메모한 결과를 그대로 가져오는 기법  \n",
    ">캐싱이라고도 함"
   ]
  },
  {
   "cell_type": "code",
   "execution_count": 8,
   "id": "0a174d9b",
   "metadata": {},
   "outputs": [
    {
     "name": "stdout",
     "output_type": "stream",
     "text": [
      "218922995834555169026\n"
     ]
    }
   ],
   "source": [
    "# 메모이제이션을 이용한 피보나치 수열\n",
    "\n",
    "d = [0] * 100\n",
    "\n",
    "def fibo(x):\n",
    "    if x == 1 or x == 2:\n",
    "        return 1\n",
    "    if d[x] != 0:\n",
    "        return d[x]\n",
    "    d[x] = fibo(x-1) + fibo(x-2)\n",
    "    return d[x]\n",
    "\n",
    "print(fibo(99))"
   ]
  },
  {
   "cell_type": "markdown",
   "id": "cb9541c9",
   "metadata": {},
   "source": [
    "### Divide and Conquer 와 Dynamic programming의 차이\n",
    "* 다이나믹 프로그래밍은 문제들이 서로 영향을 미치고 있다는 점\n",
    "\n",
    "### 일반적으로 재귀함수 < 반복문이 성능이 더 좋음!!"
   ]
  },
  {
   "cell_type": "markdown",
   "id": "ccc088f2",
   "metadata": {},
   "source": [
    "### 재귀함수 ver -> 탑다운 방식"
   ]
  },
  {
   "cell_type": "code",
   "execution_count": 17,
   "id": "59d6ac3a",
   "metadata": {},
   "outputs": [
    {
     "name": "stdout",
     "output_type": "stream",
     "text": [
      "f(6) f(5) f(4) f(3) f(2) f(1) f(2) f(3) f(4) "
     ]
    },
    {
     "data": {
      "text/plain": [
       "8"
      ]
     },
     "execution_count": 17,
     "metadata": {},
     "output_type": "execute_result"
    }
   ],
   "source": [
    "d = [0] * 100\n",
    "\n",
    "def pibo(x):\n",
    "    print('f(' +str(x) +')', end=' ')\n",
    "    if x == 1 or x == 2:\n",
    "        return 1\n",
    "    if d[x] != 0:\n",
    "        return d[x]\n",
    "    d[x] = pibo(x-1) + pibo(x-2)\n",
    "    return d[x]\n",
    "pibo(6)"
   ]
  },
  {
   "cell_type": "markdown",
   "id": "98ad38ef",
   "metadata": {},
   "source": [
    "## 반복문 ver = 바텀업 방식"
   ]
  },
  {
   "cell_type": "code",
   "execution_count": 18,
   "id": "6e8c6ca3",
   "metadata": {},
   "outputs": [
    {
     "name": "stdout",
     "output_type": "stream",
     "text": [
      "354224848179261915075\n"
     ]
    }
   ],
   "source": [
    "d = [0] * 100\n",
    "\n",
    "d[1] = 1\n",
    "d[2] = 2\n",
    "n = 99\n",
    "\n",
    "for i in range(3, n+1):\n",
    "    d[i] = d[i-1] + d[i-2]\n",
    "    \n",
    "print(d[n])"
   ]
  },
  {
   "cell_type": "markdown",
   "id": "565f39e5",
   "metadata": {},
   "source": [
    "### 탑다운 = 하향식 / 바텀업 = 상향식\n",
    "* 전형적인 방식은 바텀업 방식 -> 결과 저장용 리스트 'DP 테이블'\n",
    "* 메모이제이션은 탑다운 방식에 국한되어 사용되는 표현  \n",
    "\n",
    "### 특정 문제를 '완전 탐색 알고리즘'으로 접근했을 때 시간이 매우 오래 걸리면 다이나믹 프로그래밍 쓸 수 있는지 확인해보자"
   ]
  },
  {
   "cell_type": "markdown",
   "id": "0020fb70",
   "metadata": {},
   "source": [
    "### 8-5. 1로 만들기"
   ]
  },
  {
   "cell_type": "code",
   "execution_count": 25,
   "id": "1783c710",
   "metadata": {},
   "outputs": [
    {
     "name": "stdout",
     "output_type": "stream",
     "text": [
      "26\n",
      "3\n"
     ]
    }
   ],
   "source": [
    "x = int(input())\n",
    "d = [0] * 30001\n",
    "\n",
    "for i in range(2, x+1):\n",
    "    d[i] = d[i-1] + 1\n",
    "    if i % 2 == 0:\n",
    "        d[i] = min(d[i], d[i//2] + 1)\n",
    "    if i % 3 == 0:\n",
    "        d[i] = min(d[i], d[i//3] + 1)\n",
    "    if i % 5 == 0:\n",
    "        d[i] = min(d[i], d[i//5] + 1)\n",
    "print(d[x])"
   ]
  },
  {
   "cell_type": "markdown",
   "id": "0af9545c",
   "metadata": {},
   "source": [
    "## 8-6. 개미 전사"
   ]
  },
  {
   "cell_type": "code",
   "execution_count": 37,
   "id": "3b6ccacf",
   "metadata": {},
   "outputs": [
    {
     "name": "stdout",
     "output_type": "stream",
     "text": [
      "4\n",
      "1 3 1 5\n",
      "8\n",
      "[1, 3, 3, 8, 0, 0, 0, 0, 0, 0, 0, 0, 0, 0, 0, 0, 0, 0, 0, 0, 0, 0, 0, 0, 0, 0, 0, 0, 0, 0, 0, 0, 0, 0, 0, 0, 0, 0, 0, 0, 0, 0, 0, 0, 0, 0, 0, 0, 0, 0, 0, 0, 0, 0, 0, 0, 0, 0, 0, 0, 0, 0, 0, 0, 0, 0, 0, 0, 0, 0, 0, 0, 0, 0, 0, 0, 0, 0, 0, 0, 0, 0, 0, 0, 0, 0, 0, 0, 0, 0, 0, 0, 0, 0, 0, 0, 0, 0, 0, 0]\n"
     ]
    }
   ],
   "source": [
    "n = int(input())\n",
    "food = list(map(int, input().split()))\n",
    "\n",
    "d = [0] * 100\n",
    "\n",
    "d[0] = food[0]\n",
    "d[1] = max(food[0], food[1])\n",
    "\n",
    "for i in range(2, n):\n",
    "    d[i] = max(d[i-1], d[i-2] + food[i])\n",
    "print(d[n-1])\n",
    "print(d)"
   ]
  },
  {
   "cell_type": "markdown",
   "id": "d429d45c",
   "metadata": {},
   "source": [
    "## 8-7. 바닥 공사 (이해 안 돼...)"
   ]
  },
  {
   "cell_type": "code",
   "execution_count": 45,
   "id": "836d0046",
   "metadata": {},
   "outputs": [
    {
     "name": "stdout",
     "output_type": "stream",
     "text": [
      "4\n",
      "11\n"
     ]
    }
   ],
   "source": [
    "n = int(input())\n",
    "\n",
    "d = [0] * 1001\n",
    "\n",
    "d[1] = 1\n",
    "d[2] = 3\n",
    "\n",
    "for i in range(3, n+1):\n",
    "    d[i] = (d[i-1] + 2*d[i-2]) % 796796\n",
    "print(d[4])"
   ]
  },
  {
   "cell_type": "markdown",
   "id": "0886ab33",
   "metadata": {},
   "source": [
    "## 8-8. 효율적인 화폐 구성"
   ]
  },
  {
   "cell_type": "code",
   "execution_count": 74,
   "id": "fd25937d",
   "metadata": {},
   "outputs": [
    {
     "name": "stdout",
     "output_type": "stream",
     "text": [
      "3 7\n",
      "2\n",
      "3\n",
      "5\n",
      "2\n"
     ]
    }
   ],
   "source": [
    "n, m = map(int, input().split())\n",
    "array = []\n",
    "for _ in range(n):\n",
    "    array.append(int(input()))\n",
    "\n",
    "d = [10001] * (m+1)\n",
    "\n",
    "d[0] = 0\n",
    "for i in range(n):\n",
    "    for j in range(array[i], m+1):\n",
    "        if d[j-array[i]] != 10001:\n",
    "            d[j] = min(d[j], d[j-array[i]] + 1)\n",
    "            \n",
    "if d[m] == 10001:\n",
    "    print(-1)\n",
    "else:\n",
    "    print(d[m])"
   ]
  },
  {
   "cell_type": "markdown",
   "id": "719b59cd",
   "metadata": {},
   "source": [
    "---"
   ]
  },
  {
   "cell_type": "code",
   "execution_count": 39,
   "id": "901aeab0",
   "metadata": {},
   "outputs": [
    {
     "name": "stdout",
     "output_type": "stream",
     "text": [
      "3 7\n",
      "2\n",
      "3\n",
      "5\n",
      "2\n"
     ]
    }
   ],
   "source": [
    "n, m = map(int, input().split())\n",
    "coins = []\n",
    "for _ in range(n):\n",
    "    coins.append(int(input()))\n",
    "d = [1e9] * (m+1)\n",
    "d[0] = 0\n",
    "\n",
    "for i in range(n):\n",
    "    for j in range(coins[i], m+1):\n",
    "        d[j] = min(d[j], d[j - coins[i]] + 1)\n",
    "\n",
    "if d[m] == int(1e9):\n",
    "    print(-1)\n",
    "else:\n",
    "    print(d[m])"
   ]
  },
  {
   "cell_type": "code",
   "execution_count": null,
   "id": "6049c413",
   "metadata": {},
   "outputs": [],
   "source": []
  },
  {
   "cell_type": "code",
   "execution_count": null,
   "id": "69c55035",
   "metadata": {},
   "outputs": [],
   "source": []
  },
  {
   "cell_type": "code",
   "execution_count": null,
   "id": "3365c9be",
   "metadata": {},
   "outputs": [],
   "source": []
  }
 ],
 "metadata": {
  "kernelspec": {
   "display_name": "Python 3 (ipykernel)",
   "language": "python",
   "name": "python3"
  },
  "language_info": {
   "codemirror_mode": {
    "name": "ipython",
    "version": 3
   },
   "file_extension": ".py",
   "mimetype": "text/x-python",
   "name": "python",
   "nbconvert_exporter": "python",
   "pygments_lexer": "ipython3",
   "version": "3.9.18"
  }
 },
 "nbformat": 4,
 "nbformat_minor": 5
}
