{
 "cells": [
  {
   "cell_type": "markdown",
   "id": "71ec2b3b",
   "metadata": {},
   "source": [
    "# 그리디 알고리즘\n",
    "> 현재 상황에서 가장 좋아 보이는 것만을 선택하는 알고리즘"
   ]
  },
  {
   "cell_type": "markdown",
   "id": "27d20ba4",
   "metadata": {},
   "source": [
    "### Q1. 모험가 길드"
   ]
  },
  {
   "cell_type": "code",
   "execution_count": 6,
   "id": "12182f26",
   "metadata": {},
   "outputs": [
    {
     "name": "stdout",
     "output_type": "stream",
     "text": [
      "5\n",
      "2 3 1 2 2\n",
      "2\n"
     ]
    }
   ],
   "source": [
    "# 5\n",
    "# 2 3 1 2 2\n",
    "# 출력: 2\n",
    "\n",
    "n = int(input())\n",
    "person = list(map(int, input().split()))\n",
    "\n",
    "person.sort()\n",
    "\n",
    "cnt = 0\n",
    "result = 0\n",
    "\n",
    "for p in person:\n",
    "    cnt += 1\n",
    "    if cnt >= p:\n",
    "        cnt = 0\n",
    "        result += 1\n",
    "print(result)"
   ]
  },
  {
   "cell_type": "markdown",
   "id": "3ffd70cf",
   "metadata": {},
   "source": [
    "### Q2. 곱하기 혹은 더하기"
   ]
  },
  {
   "cell_type": "code",
   "execution_count": 9,
   "id": "b2821f00",
   "metadata": {},
   "outputs": [
    {
     "name": "stdout",
     "output_type": "stream",
     "text": [
      "567\n",
      "210\n"
     ]
    }
   ],
   "source": [
    "# 02984 -> 576\n",
    "# 567 -> 210\n",
    "\n",
    "nums = input()\n",
    "\n",
    "result = 0\n",
    "for i in range(len(nums)):\n",
    "    num = int(nums[i])\n",
    "    if result <= 1 or num <= 1:\n",
    "        result += num\n",
    "    else:\n",
    "        result *= num\n",
    "        \n",
    "print(result)"
   ]
  },
  {
   "cell_type": "markdown",
   "id": "995472f3",
   "metadata": {},
   "source": [
    "### Q3. 문자열 뒤집기"
   ]
  },
  {
   "cell_type": "code",
   "execution_count": 12,
   "id": "58734ead",
   "metadata": {},
   "outputs": [
    {
     "name": "stdout",
     "output_type": "stream",
     "text": [
      "11101101\n",
      "2\n"
     ]
    }
   ],
   "source": [
    "# 0001100 -> 1\n",
    "\n",
    "nums = input()\n",
    "\n",
    "z_cnt = 0\n",
    "o_cnt = 0\n",
    "\n",
    "first = nums[0]\n",
    "\n",
    "if first == '0':\n",
    "    z_cnt += 1\n",
    "else:\n",
    "    o_cnt += 1\n",
    "\n",
    "for i in range(1, len(nums)):\n",
    "    if first != nums[i]:\n",
    "        if nums[i] == '1':\n",
    "            o_cnt += 1\n",
    "        elif nums[i] == '0':\n",
    "            z_cnt += 1\n",
    "    first = nums[i]\n",
    "    \n",
    "print(min(z_cnt, o_cnt))"
   ]
  },
  {
   "cell_type": "markdown",
   "id": "44cf2728",
   "metadata": {},
   "source": [
    "### Q4. 만들 수 없는 금액 (어려워)"
   ]
  },
  {
   "cell_type": "code",
   "execution_count": 18,
   "id": "57270c48",
   "metadata": {},
   "outputs": [
    {
     "name": "stdout",
     "output_type": "stream",
     "text": [
      "5\n",
      "3 2 1 1 9\n",
      "8\n"
     ]
    }
   ],
   "source": [
    "# 5\n",
    "# 3 2 1 1 9 -> 8\n",
    "\n",
    "n = int(input())\n",
    "coins = list(map(int, input().split()))\n",
    "coins.sort()\n",
    "\n",
    "target= 1\n",
    "for coin in coins:\n",
    "    if target < coin:\n",
    "        break\n",
    "    target += coin\n",
    "    \n",
    "print(target)"
   ]
  },
  {
   "cell_type": "markdown",
   "id": "cb16f762",
   "metadata": {},
   "source": [
    "### Q5. 볼링공 고르기"
   ]
  },
  {
   "cell_type": "code",
   "execution_count": 20,
   "id": "64449e59",
   "metadata": {},
   "outputs": [
    {
     "name": "stdout",
     "output_type": "stream",
     "text": [
      "8 5\n",
      "1 5 4 3 2 4 5 2\n",
      "25\n"
     ]
    }
   ],
   "source": [
    "# 5 3\n",
    "# 1 3 2 3 2 -> 8\n",
    "\n",
    "# 8 5\n",
    "# 1 5 4 3 2 4 5 2 -> 25\n",
    "\n",
    "n, m = map(int, input().split())\n",
    "balls = list(map(int, input().split()))\n",
    "balls.sort()\n",
    "\n",
    "cnt = 0\n",
    "for i in range(len(balls)):\n",
    "    fix = balls[i]\n",
    "    for j in range(i, len(balls)):\n",
    "        if fix != balls[j]:\n",
    "            cnt += 1\n",
    "            \n",
    "print(cnt)"
   ]
  },
  {
   "cell_type": "markdown",
   "id": "53be99a4",
   "metadata": {},
   "source": [
    "### Q6. 무지의 먹방 라이브 (Cant)"
   ]
  },
  {
   "cell_type": "code",
   "execution_count": 21,
   "id": "c39062ab",
   "metadata": {},
   "outputs": [
    {
     "name": "stdout",
     "output_type": "stream",
     "text": [
      "3\n"
     ]
    }
   ],
   "source": [
    "# https://programmers.co.kr/learn/courses/30/lessons/42891\n",
    "ll = [1,2,3]\n",
    "print(len(ll))"
   ]
  },
  {
   "cell_type": "markdown",
   "id": "df9a8795",
   "metadata": {},
   "source": [
    "# 구현\n",
    "* 머릿속에 있는 알고리즘을 정확하고 빠르게 프로그램으로 작성하는 과정\n",
    "\n",
    "## 완전 탐색\n",
    "* 모든 경우의 수를 빠짐없이 다 계산하는해결 방법\n",
    "\n",
    "## 시뮬레이션\n",
    "* 문제에서 제시하는 논리나 동작 과정을 그대로 코드로 옮겨야 하는 유형"
   ]
  },
  {
   "cell_type": "markdown",
   "id": "1d1ff3fb",
   "metadata": {},
   "source": [
    "### Q7. 럭키 스트레이트"
   ]
  },
  {
   "cell_type": "code",
   "execution_count": 25,
   "id": "f5fe3a83",
   "metadata": {},
   "outputs": [
    {
     "name": "stdout",
     "output_type": "stream",
     "text": [
      "7755\n",
      "READY\n"
     ]
    }
   ],
   "source": [
    "num = input()\n",
    "half = len(num) // 2\n",
    "a = num[:half]\n",
    "b = num[half:]\n",
    "\n",
    "sum1, sum2 = 0, 0\n",
    "for i in range(len(a)):\n",
    "    sum1 += int(a[i])\n",
    "    sum2 += int(b[i])\n",
    "\n",
    "if sum1 == sum2:\n",
    "    print('LUCKY')\n",
    "else:\n",
    "    print('READY')"
   ]
  },
  {
   "cell_type": "markdown",
   "id": "9f9888fe",
   "metadata": {},
   "source": [
    "### Q8. 문자열 재정렬"
   ]
  },
  {
   "cell_type": "code",
   "execution_count": 32,
   "id": "dfe28d9c",
   "metadata": {},
   "outputs": [
    {
     "name": "stdout",
     "output_type": "stream",
     "text": [
      "AJKDLSI412K4JSJ9D\n",
      "ADDIJJJKKLSS20\n"
     ]
    }
   ],
   "source": [
    "data = input()\n",
    "\n",
    "str_list = []\n",
    "num = 0\n",
    "\n",
    "for i in data:\n",
    "    if i.isdigit():\n",
    "        num += int(i)\n",
    "    else:\n",
    "        str_list.append(i)\n",
    "str_list.sort()\n",
    "\n",
    "str_list = ''.join(str_list)\n",
    "print(str_list+str(num))"
   ]
  },
  {
   "cell_type": "markdown",
   "id": "6a7a6e10",
   "metadata": {},
   "source": [
    "### Q9. 문자열 압축"
   ]
  },
  {
   "cell_type": "code",
   "execution_count": null,
   "id": "f59341b5",
   "metadata": {},
   "outputs": [],
   "source": [
    "# https://school.programmers.co.kr/learn/courses/30/lessons/60057"
   ]
  },
  {
   "cell_type": "code",
   "execution_count": null,
   "id": "a971aad5",
   "metadata": {},
   "outputs": [],
   "source": []
  },
  {
   "cell_type": "markdown",
   "id": "09ad3003",
   "metadata": {},
   "source": [
    "---\n",
    "# DFS / BFS\n",
    "\n",
    "## 탐색\n",
    "* 많은 양의 데이터 중에서 원하는 데이터를 찾는 과정\n",
    "\n",
    "## 자료구조\n",
    "* 데이터를 표현하고 처리하는 방법\n",
    "\n",
    "## 스택\n",
    "* LIFO(Last in First out)\n",
    "\n",
    "## 큐\n",
    "* FIFO (First in First out)\n",
    "\n",
    "## DFS\n",
    "* Depth First Search, 최대한 멀리 있는 노드를 우선으로 탐색하는 방식으로 동작\n",
    "* 스택 이용\n",
    "\n",
    "## BFS\n",
    "* Breadth First Search, 가까운 노드부터 탐색하는 알고리즘\n",
    "* 큐 이용"
   ]
  },
  {
   "cell_type": "markdown",
   "id": "e06afd8e",
   "metadata": {},
   "source": [
    "### Q15. 특정 거리의 도시 찾기"
   ]
  },
  {
   "cell_type": "code",
   "execution_count": 16,
   "id": "88f950a1",
   "metadata": {},
   "outputs": [
    {
     "name": "stdout",
     "output_type": "stream",
     "text": [
      "4 4 2 1\n",
      "1 2\n",
      "1 3\n",
      "2 3\n",
      "2 4\n",
      "[-1, 0, 1, 1, 2]\n"
     ]
    }
   ],
   "source": [
    "from collections import deque\n",
    "\n",
    "n, m, k, x = map(int, input().split())\n",
    "\n",
    "graph = [[] for _ in range(n+1)]\n",
    "distance = [-1] * (n+1)\n",
    "\n",
    "for _ in range(m):\n",
    "    a, b = map(int, input().split())\n",
    "    graph[a].append(b)\n",
    "\n",
    "q = deque([x])\n",
    "distance[x] = 0\n",
    "while q:\n",
    "    now = q.popleft()\n",
    "    for next in graph[now]:\n",
    "        if distance[next] == -1:\n",
    "            distance[next] = distance[now] + 1\n",
    "            q.append(next)\n",
    "    \n",
    "result = []\n",
    "for i in range(1, n+1):\n",
    "    if distance[i] == k:\n",
    "        result.append(i)\n",
    "if result:\n",
    "    for i in result:\n",
    "        print(i)\n",
    "else:\n",
    "    print(-1)"
   ]
  },
  {
   "cell_type": "markdown",
   "id": "62b9a9c1",
   "metadata": {},
   "source": [
    "### Q16. 연구소"
   ]
  },
  {
   "cell_type": "code",
   "execution_count": 17,
   "id": "d3c5ccd7",
   "metadata": {},
   "outputs": [
    {
     "name": "stdout",
     "output_type": "stream",
     "text": [
      "7 7\n",
      "2 0 0 0 1 1 0\n",
      "0 0 1 0 1 2 0\n",
      "0 1 1 0 1 0 0\n",
      "0 1 0 0 0 0 0\n",
      "0 0 0 0 0 1 1\n",
      "0 1 0 0 0 0 0\n",
      "0 1 0 0 0 0 0\n",
      "27\n"
     ]
    }
   ],
   "source": [
    "n, m = map(int, input().split())\n",
    "\n",
    "temp = [[0] * (m) for _ in range(n)]\n",
    "data = []\n",
    "for _ in range(n):\n",
    "    data.append(list(map(int, input().split())))\n",
    "\n",
    "dx = [-1, 0, 1, 0]\n",
    "dy = [0, -1, 0, 1]\n",
    "\n",
    "def virus(x, y):\n",
    "    for i in range(4):\n",
    "        nx = x + dx[i]\n",
    "        ny = y + dy[i]\n",
    "        if nx >= 0 and nx < n and ny >= 0 and ny < m:\n",
    "            if temp[nx][ny] == 0:\n",
    "                temp[nx][ny] = 2\n",
    "                virus(nx, ny)\n",
    "\n",
    "result = 0\n",
    "def get_score():\n",
    "    cnt = 0\n",
    "    for i in range(n):\n",
    "        for j in range(m):\n",
    "            if temp[i][j] == 0:\n",
    "                cnt += 1\n",
    "    return cnt\n",
    "\n",
    "def dfs(count):\n",
    "    global result\n",
    "    if count == 3:\n",
    "        for i in range(n):\n",
    "            for j in range(m):\n",
    "                temp[i][j] = data[i][j]\n",
    "        for i in range(n):\n",
    "            for j in range(m):\n",
    "                if temp[i][j] == 2:\n",
    "                    virus(i, j)\n",
    "        result = max(result, get_score())\n",
    "        return result\n",
    "    for i in range(n):\n",
    "        for j in range(m):\n",
    "            if data[i][j] == 0:\n",
    "                data[i][j] = 1\n",
    "                count += 1\n",
    "                dfs(count)\n",
    "                count -= 1\n",
    "                data[i][j] = 0\n",
    "dfs(0)\n",
    "print(result)"
   ]
  },
  {
   "cell_type": "markdown",
   "id": "6cb6f912",
   "metadata": {},
   "source": [
    "### Q17. 경쟁적 전염"
   ]
  },
  {
   "cell_type": "code",
   "execution_count": 38,
   "id": "5b0d7400",
   "metadata": {},
   "outputs": [
    {
     "name": "stdout",
     "output_type": "stream",
     "text": [
      "3 3\n",
      "1 0 2\n",
      "0 0 0\n",
      "3 0 0\n",
      "1 2 2\n",
      "0\n"
     ]
    }
   ],
   "source": [
    "# 내 코드 정상동작 하지만... 시간 초과 ㅜㅜ\n",
    "\n",
    "n, k = map(int, input().split())\n",
    "graph = []\n",
    "for _ in range(n):\n",
    "    graph.append(list(map(int, input().split())))\n",
    "temp = [[0] * n for _ in range(n)]\n",
    "s, x, y = map(int, input().split())\n",
    "\n",
    "dx = [-1, 0, 1, 0]\n",
    "dy = [0, -1, 0, 1]\n",
    "\n",
    "def virus(x, y, num):\n",
    "    for i in range(4):\n",
    "        nx = x + dx[i]\n",
    "        ny = y + dy[i]\n",
    "        if nx >= 0 and ny >= 0 and nx < n and ny < n:\n",
    "            if temp[nx][ny] == 0:\n",
    "                temp[nx][ny] = num\n",
    "    \n",
    "def bfs():\n",
    "    for _ in range(s):\n",
    "        for cnt in range(1, k+1):\n",
    "            for i in range(n):\n",
    "                for j in range(n):\n",
    "                    if graph[i][j] == cnt:\n",
    "                        virus(i, j, cnt)\n",
    "            for i in range(n):\n",
    "                for j in range(n):\n",
    "                    graph[i][j] = temp[i][j]\n",
    "                    \n",
    "                    \n",
    "for i in range(n):\n",
    "    for j in range(n):\n",
    "        temp[i][j] = graph[i][j]\n",
    "        \n",
    "bfs()\n",
    "\n",
    "print(graph[x-1][y-1])"
   ]
  },
  {
   "cell_type": "code",
   "execution_count": 40,
   "id": "3e61f32e",
   "metadata": {},
   "outputs": [
    {
     "name": "stdout",
     "output_type": "stream",
     "text": [
      "3 3\n",
      "1 0 2\n",
      "0 0 0\n",
      "3 0 0\n",
      "2 3 2\n",
      "3\n"
     ]
    }
   ],
   "source": [
    "from collections import deque\n",
    "\n",
    "n, k = map(int, input().split())\n",
    "\n",
    "graph = []\n",
    "data = []\n",
    "for i in range(n):\n",
    "    graph.append(list(map(int, input().split())))\n",
    "    for j in range(n):\n",
    "        if graph[i][j] != 0:\n",
    "            # virus 종류, 시간, x, y\n",
    "            data.append((graph[i][j], 0, i, j))\n",
    "\n",
    "data.sort()\n",
    "q = deque(data)\n",
    "\n",
    "target_s, target_x, target_y = map(int, input().split())\n",
    "\n",
    "dx = [-1, 0, 1, 0]\n",
    "dy = [0, -1, 0, 1]\n",
    "\n",
    "while q:\n",
    "    virus, s, x, y = q.popleft()\n",
    "    # 시간 초과되면 끝\n",
    "    if s == target_s:\n",
    "        break\n",
    "    for i in range(4):\n",
    "        nx = x + dx[i]\n",
    "        ny = y + dy[i]\n",
    "        if nx >= 0 and ny >= 0 and nx < n and ny < n:\n",
    "            if graph[nx][ny] == 0:\n",
    "                graph[nx][ny] = virus\n",
    "                q.append((virus, s+1, nx, ny))\n",
    "                \n",
    "print(graph[target_x - 1][target_y - 1])"
   ]
  },
  {
   "cell_type": "markdown",
   "id": "f557917e",
   "metadata": {},
   "source": [
    "### Q18. 괄호 변환"
   ]
  },
  {
   "cell_type": "code",
   "execution_count": null,
   "id": "3d2a7ecf",
   "metadata": {},
   "outputs": [],
   "source": []
  },
  {
   "cell_type": "code",
   "execution_count": null,
   "id": "e4b34c11",
   "metadata": {},
   "outputs": [],
   "source": []
  },
  {
   "cell_type": "code",
   "execution_count": null,
   "id": "926dfd6e",
   "metadata": {},
   "outputs": [],
   "source": []
  },
  {
   "cell_type": "code",
   "execution_count": null,
   "id": "2c4a4f81",
   "metadata": {},
   "outputs": [],
   "source": []
  },
  {
   "cell_type": "code",
   "execution_count": 23,
   "id": "d305bfeb",
   "metadata": {},
   "outputs": [
    {
     "name": "stdout",
     "output_type": "stream",
     "text": [
      "4 4\n",
      "1 1 0\n",
      "1 1 1 1\n",
      "1 0 0 1\n",
      "1 1 0 1\n",
      "1 1 1 1\n",
      "[[1, 1, 1, 1], [1, 0, 0, 1], [1, 1, 0, 1], [1, 1, 1, 1]]\n"
     ]
    }
   ],
   "source": []
  },
  {
   "cell_type": "code",
   "execution_count": null,
   "id": "24401405",
   "metadata": {},
   "outputs": [],
   "source": []
  },
  {
   "cell_type": "code",
   "execution_count": null,
   "id": "49400d18",
   "metadata": {},
   "outputs": [],
   "source": []
  },
  {
   "cell_type": "code",
   "execution_count": null,
   "id": "8ab542ad",
   "metadata": {},
   "outputs": [],
   "source": []
  },
  {
   "cell_type": "code",
   "execution_count": null,
   "id": "4a113cef",
   "metadata": {},
   "outputs": [],
   "source": []
  },
  {
   "cell_type": "code",
   "execution_count": null,
   "id": "cd03e4de",
   "metadata": {},
   "outputs": [],
   "source": []
  },
  {
   "cell_type": "code",
   "execution_count": null,
   "id": "c28861c0",
   "metadata": {},
   "outputs": [],
   "source": []
  }
 ],
 "metadata": {
  "kernelspec": {
   "display_name": "Python 3 (ipykernel)",
   "language": "python",
   "name": "python3"
  },
  "language_info": {
   "codemirror_mode": {
    "name": "ipython",
    "version": 3
   },
   "file_extension": ".py",
   "mimetype": "text/x-python",
   "name": "python",
   "nbconvert_exporter": "python",
   "pygments_lexer": "ipython3",
   "version": "3.9.18"
  }
 },
 "nbformat": 4,
 "nbformat_minor": 5
}
