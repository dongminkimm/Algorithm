{
 "cells": [
  {
   "cell_type": "code",
   "execution_count": null,
   "metadata": {},
   "outputs": [],
   "source": [
    "# 1966 프린터큐\n",
    "\n",
    "from collections import deque\n",
    "\n",
    "tc = int(input())\n",
    "for _ in range(tc):\n",
    "    n, target = map(int, input().split())\n",
    "    temp = list(map(int, input().split()))\n",
    "    data = [(i, idx) for idx, i in enumerate(temp)]\n",
    "    \n",
    "    q = deque(data)\n",
    "    cnt = 0\n",
    "    while q:\n",
    "        now = q.popleft()\n",
    "        \n",
    "        if any(now[0]<x[0] for x in q):\n",
    "            q.append(now)\n",
    "            continue\n",
    "        cnt += 1\n",
    "        if now[1] == target:\n",
    "            print(cnt)\n",
    "            break"
   ]
  },
  {
   "cell_type": "code",
   "execution_count": 4,
   "metadata": {},
   "outputs": [
    {
     "name": "stdout",
     "output_type": "stream",
     "text": [
      "right\n",
      "wrong\n",
      "right\n"
     ]
    }
   ],
   "source": [
    "# 4153 직각삼각형\n",
    "\n",
    "while True:\n",
    "    data = list(map(int, input().split()))\n",
    "    if data == [0, 0, 0]:\n",
    "        break\n",
    "    \n",
    "    if data[0]**2 + data[1]**2 == data[2]**2:\n",
    "        print('right')\n",
    "        continue\n",
    "    if data[0]**2 + data[2]**2 == data[1]**2:\n",
    "        print('right')\n",
    "        continue\n",
    "    if data[1]**2 + data[2]**2 == data[0]**2:\n",
    "        print('right')\n",
    "        continue\n",
    "    print('wrong')\n",
    "    \n"
   ]
  },
  {
   "cell_type": "code",
   "execution_count": 10,
   "metadata": {},
   "outputs": [
    {
     "name": "stdout",
     "output_type": "stream",
     "text": [
      "NO\n",
      "NO\n",
      "NO\n"
     ]
    }
   ],
   "source": [
    "# 9012 괄호\n",
    "\n",
    "n = int(input())\n",
    "for i in range(n):\n",
    "    cnt = 0\n",
    "    string = input()\n",
    "    check = False\n",
    "    for s in string:\n",
    "        if cnt < 0:\n",
    "            print('NO')\n",
    "            check = True\n",
    "            break\n",
    "        if s == '(':\n",
    "            cnt += 1\n",
    "        elif s == ')':\n",
    "            cnt -= 1\n",
    "    if check:\n",
    "        continue\n",
    "    else:\n",
    "        if cnt != 0:\n",
    "            print('NO')\n",
    "            continue\n",
    "        else:\n",
    "            print('YES')\n"
   ]
  },
  {
   "cell_type": "code",
   "execution_count": 11,
   "metadata": {},
   "outputs": [
    {
     "name": "stdout",
     "output_type": "stream",
     "text": [
      "1\n"
     ]
    }
   ],
   "source": [
    "# 2475 검증수\n",
    "\n",
    "data = list(map(int, input().split()))\n",
    "total = 0\n",
    "for i in data:\n",
    "    total += i**2\n",
    "print(total%10)"
   ]
  },
  {
   "cell_type": "code",
   "execution_count": 14,
   "metadata": {},
   "outputs": [
    {
     "name": "stdout",
     "output_type": "stream",
     "text": [
      "2\n",
      "29\n"
     ]
    }
   ],
   "source": [
    "a = input()\n",
    "b = input()\n",
    "c = input()\n",
    "\n",
    "print(int(a)+int(b)-int(c))\n",
    "print(int(a+b)-int(c))"
   ]
  },
  {
   "cell_type": "code",
   "execution_count": 15,
   "metadata": {},
   "outputs": [
    {
     "name": "stdout",
     "output_type": "stream",
     "text": [
      "[3, 1, 0, 2, 0, 0, 0, 2, 0, 0]\n"
     ]
    }
   ],
   "source": [
    "# 2577 숫자의 개수\n",
    "a = int(input())\n",
    "b = int(input())\n",
    "c = int(input())\n",
    "\n",
    "num = str(a*b*c)\n",
    "lst = [0] * 10\n",
    "\n",
    "for s in num:\n",
    "    lst[int(s)] += 1\n",
    "for i in lst:\n",
    "    print(i)"
   ]
  },
  {
   "cell_type": "code",
   "execution_count": 2,
   "metadata": {},
   "outputs": [
    {
     "name": "stdout",
     "output_type": "stream",
     "text": [
      "21\n"
     ]
    }
   ],
   "source": [
    "from itertools import combinations\n",
    "n, m = map(int, input().split())\n",
    "data = list(map(int, input().split()))\n",
    "\n",
    "lst = list(combinations(data, 3))\n",
    "answer = 0\n",
    "for i in lst:\n",
    "    if sum(i) > m:\n",
    "        continue\n",
    "    answer = max(answer, sum(i))\n",
    "print(answer)"
   ]
  },
  {
   "cell_type": "code",
   "execution_count": 5,
   "metadata": {},
   "outputs": [
    {
     "name": "stdout",
     "output_type": "stream",
     "text": [
      "1\n"
     ]
    }
   ],
   "source": [
    "# 2869 달팽이는 올라가고싶다\n",
    "a, b, v = map(int, input().split())\n",
    "\n",
    "diff = a - b\n",
    "now = v - b\n",
    "\n",
    "if now/diff == now//diff:\n",
    "    print(now//diff)\n",
    "else:\n",
    "    print((now//diff) + 1)"
   ]
  },
  {
   "cell_type": "code",
   "execution_count": 6,
   "metadata": {},
   "outputs": [
    {
     "name": "stdout",
     "output_type": "stream",
     "text": [
      "1\n",
      "2\n",
      "3\n",
      "4\n",
      "5\n"
     ]
    }
   ],
   "source": [
    "# 2751 수 정렬하기2\n",
    "import sys\n",
    "input = sys.stdin.readline\n",
    "\n",
    "n = int(input())\n",
    "lst = []\n",
    "for _ in range(n):\n",
    "    lst.append(int(input()))\n",
    "lst.sort()\n",
    "\n",
    "for i in lst:\n",
    "    print(i)"
   ]
  },
  {
   "cell_type": "code",
   "execution_count": null,
   "metadata": {},
   "outputs": [],
   "source": [
    "# 10773 제로\n",
    "\n",
    "n = int(input())\n",
    "stack = []\n",
    "\n",
    "for _ in range(n):\n",
    "    num = int(input())\n",
    "    if num == 0:\n",
    "        stack.pop()\n",
    "    else:\n",
    "        stack.append(num)\n",
    "print(sum(stack))"
   ]
  },
  {
   "cell_type": "code",
   "execution_count": 10,
   "metadata": {},
   "outputs": [
    {
     "name": "stdout",
     "output_type": "stream",
     "text": [
      "20 Sun\n",
      "21 Jun\n",
      "21 Doh\n"
     ]
    }
   ],
   "source": [
    "# 10814 나이순 정렬\n",
    "\n",
    "n = int(input())\n",
    "stack = []\n",
    "\n",
    "for _ in range(n):\n",
    "    data = input().split()\n",
    "    age = int(data[0])\n",
    "    name = data[1]\n",
    "    stack.append((age, name))\n",
    "\n",
    "stack.sort(key=lambda x: x[0])\n",
    "# print(stack)\n",
    "for i in stack:\n",
    "    print(i[0], i[1])"
   ]
  },
  {
   "cell_type": "code",
   "execution_count": 13,
   "metadata": {},
   "outputs": [
    {
     "name": "stdout",
     "output_type": "stream",
     "text": [
      "10\n"
     ]
    }
   ],
   "source": [
    "#  11050 이항 계수\n",
    "from itertools import combinations\n",
    "n, m = map(int, input().split())\n",
    "\n",
    "lst = list(combinations(range(n), m))\n",
    "print(len(lst))"
   ]
  },
  {
   "cell_type": "code",
   "execution_count": 14,
   "metadata": {},
   "outputs": [
    {
     "name": "stdout",
     "output_type": "stream",
     "text": [
      "72\n",
      "6\n"
     ]
    }
   ],
   "source": [
    "import math\n",
    "n, m = map(int, input().split())\n",
    "\n",
    "print(math.gcd(n, m))\n",
    "print(math.lcm(n, m))"
   ]
  },
  {
   "cell_type": "code",
   "execution_count": 2,
   "metadata": {},
   "outputs": [
    {
     "name": "stdout",
     "output_type": "stream",
     "text": [
      "10\n",
      "9\n",
      "7\n",
      "55\n",
      "30\n"
     ]
    }
   ],
   "source": [
    "# 8958 OX퀴즈\n",
    "n = int(input())\n",
    "for _ in range(n):\n",
    "    answer = input()\n",
    "    cnt, score = 0, 0\n",
    "    for s in answer:\n",
    "        if s == 'O':\n",
    "            cnt += 1\n",
    "            score += cnt\n",
    "        else:\n",
    "            cnt = 0\n",
    "    print(score)"
   ]
  },
  {
   "cell_type": "code",
   "execution_count": 4,
   "metadata": {},
   "outputs": [
    {
     "name": "stdout",
     "output_type": "stream",
     "text": [
      "mixed\n"
     ]
    }
   ],
   "source": [
    "# 2920 음계\n",
    "\n",
    "answer = [1,2,3,4,5,6,7,8]\n",
    "notanswer = [8,7,6,5,4,3,2,1]\n",
    "\n",
    "data = list(map(int, input().split()))\n",
    "if data == answer:\n",
    "    print('ascending')\n",
    "elif data == notanswer:\n",
    "    print('descending')\n",
    "else:\n",
    "    print('mixed')"
   ]
  },
  {
   "cell_type": "code",
   "execution_count": 26,
   "metadata": {},
   "outputs": [
    {
     "name": "stdout",
     "output_type": "stream",
     "text": [
      "<3, 6, 2, 7, 5, 1, 4>\n"
     ]
    }
   ],
   "source": [
    "# 11866 요세푸스 문제0\n",
    "\n",
    "n, k = map(int, input().split())\n",
    "lst = [i for i in range(n+1)]\n",
    "\n",
    "cnt = 0\n",
    "answer = []\n",
    "\n",
    "while len(answer) != n:\n",
    "    for j in range(1, len(lst) + 1):\n",
    "        i = j-1\n",
    "        if lst[i] == 0:\n",
    "            continue\n",
    "        else:\n",
    "            cnt += 1\n",
    "\n",
    "        if cnt == k:\n",
    "            cnt = 0\n",
    "            answer.append(lst[i])\n",
    "            lst[i] = 0\n",
    "if len(answer) == 1:\n",
    "    print('<' + str(answer[0]) + '>')\n",
    "else:\n",
    "    for i in range(len(answer)):\n",
    "        if i == 0:\n",
    "            print(f\"<{answer[i]}, \", end ='')\n",
    "        elif i == len(answer)-1:\n",
    "            print(f\"{answer[i]}>\")\n",
    "        else:\n",
    "            print(f\"{answer[i]}, \", end='')"
   ]
  },
  {
   "cell_type": "code",
   "execution_count": 1,
   "metadata": {},
   "outputs": [
    {
     "name": "stdout",
     "output_type": "stream",
     "text": [
      "12321 12321\n",
      "1231 1321\n",
      "0 0\n",
      "0 0\n"
     ]
    }
   ],
   "source": [
    "# 1259 팰린드롬수\n",
    "\n",
    "while True:\n",
    "    num = input()\n",
    "\n",
    "    if num == '0':\n",
    "        break\n",
    "\n",
    "    reversed_num = ''.join(reversed(num))\n",
    "    \n",
    "    if num == reversed_num:\n",
    "        print('yes')\n",
    "    else:\n",
    "        print('no')"
   ]
  },
  {
   "cell_type": "code",
   "execution_count": 10,
   "metadata": {},
   "outputs": [
    {
     "name": "stdout",
     "output_type": "stream",
     "text": [
      "1\n"
     ]
    }
   ],
   "source": [
    "# 1676 팩토리얼 0의 개수\n",
    "\n",
    "import math\n",
    "n = int(input())\n",
    "fact = str(math.factorial(n))\n",
    "fact = fact[::-1]\n",
    "cnt = 0\n",
    "for i in range(len(fact)):\n",
    "    if fact[i] != '0':\n",
    "        break\n",
    "    cnt += 1\n",
    "print(cnt)"
   ]
  },
  {
   "cell_type": "code",
   "execution_count": 10,
   "metadata": {},
   "outputs": [
    {
     "name": "stdout",
     "output_type": "stream",
     "text": [
      "1\n",
      "2\n",
      "2\n",
      "0\n",
      "1\n",
      "2\n",
      "-1\n",
      "0\n",
      "1\n",
      "-1\n",
      "0\n",
      "3\n"
     ]
    }
   ],
   "source": [
    "# 10845 큐\n",
    "\n",
    "import sys\n",
    "from collections import deque\n",
    "\n",
    "n = int(sys.stdin.readline().strip())\n",
    "q = deque()\n",
    "\n",
    "for _ in range(n):\n",
    "    func = sys.stdin.readline().strip()\n",
    "\n",
    "    if func == 'pop':\n",
    "        if len(q) != 0:\n",
    "            print(q.popleft())\n",
    "        else:\n",
    "            print(-1)\n",
    "    elif func == 'size':\n",
    "        print(len(q))\n",
    "    elif func == 'empty':\n",
    "        if len(q) == 0:\n",
    "            print(1)\n",
    "        else:\n",
    "            print(0)\n",
    "\n",
    "    elif func == 'front':\n",
    "        if len(q) != 0:\n",
    "            print(q[0])\n",
    "        else:\n",
    "            print(-1)\n",
    "    elif func == 'back':\n",
    "        if len(q) != 0:\n",
    "            print(q[-1])\n",
    "        else:\n",
    "            print(-1)\n",
    "    elif 'push' in func:\n",
    "        cmd, num = func.split()\n",
    "        q.append(num)"
   ]
  },
  {
   "cell_type": "code",
   "execution_count": 21,
   "metadata": {},
   "outputs": [
    {
     "name": "stdout",
     "output_type": "stream",
     "text": [
      "101\n"
     ]
    }
   ],
   "source": [
    "# 10250 ACM호텔\n",
    "\n",
    "tc = int(input())\n",
    "answer = []\n",
    "for _ in range(tc):\n",
    "    h, w, n = map(int, input().split())\n",
    "    rooms = [[0] * w for _ in range(h)]\n",
    "    cnt = 0\n",
    "    while cnt != n:\n",
    "        col = cnt // h\n",
    "        row = cnt % h\n",
    "        rooms[row][col] = cnt\n",
    "        cnt += 1\n",
    "\n",
    "    if col+1 < 10:\n",
    "        col = '0' + str((col+1))\n",
    "    else:\n",
    "        col = str(col+1)\n",
    "    answer.append(str(row+1) + col)\n",
    "\n",
    "for i in answer:\n",
    "    print(int(i))"
   ]
  },
  {
   "cell_type": "code",
   "execution_count": 31,
   "metadata": {},
   "outputs": [
    {
     "name": "stdout",
     "output_type": "stream",
     "text": [
      "['i', 'im', 'it', 'no', 'but', 'more', 'wait', 'wont', 'yours', 'cannot', 'hesitate']\n"
     ]
    }
   ],
   "source": [
    "# 1181 단어 정렬\n",
    "\n",
    "n = int(input())\n",
    "lst = []\n",
    "for _ in range(n):\n",
    "    lst.append(input())\n",
    "lst = list(set(lst))\n",
    "lst.sort()\n",
    "lst.sort(key = lambda x: len(x))\n",
    "# lst.sort(key = lambda x: (len(x), x))\n",
    "for i in lst:\n",
    "    print(i)"
   ]
  },
  {
   "cell_type": "code",
   "execution_count": 34,
   "metadata": {},
   "outputs": [
    {
     "name": "stdout",
     "output_type": "stream",
     "text": [
      "3\n"
     ]
    }
   ],
   "source": [
    "# 1978 소수 찾기\n",
    "\n",
    "n = int(input())\n",
    "lst = sorted(list(map(int, input().split())))\n",
    "\n",
    "cnt = 0\n",
    "for i in range(len(lst)):\n",
    "    check = True\n",
    "    if lst[i] <= 1:\n",
    "        continue\n",
    "    for j in range(2, lst[i]):\n",
    "        if lst[i] % j == 0:\n",
    "            check = False\n",
    "            break\n",
    "    if check:\n",
    "        cnt += 1\n",
    "print(cnt)"
   ]
  },
  {
   "cell_type": "code",
   "execution_count": 41,
   "metadata": {},
   "outputs": [
    {
     "name": "stdout",
     "output_type": "stream",
     "text": [
      "4\n"
     ]
    }
   ],
   "source": [
    "# 2164 카드2\n",
    "\n",
    "from collections import deque\n",
    "\n",
    "lst = [i for i in range(1, int(input())+1)]\n",
    "q = deque(lst)\n",
    "while len(q) > 1:\n",
    "    q.popleft()\n",
    "    q.append(q.popleft())\n",
    "print(q[0])\n"
   ]
  },
  {
   "cell_type": "code",
   "execution_count": 44,
   "metadata": {},
   "outputs": [
    {
     "name": "stdout",
     "output_type": "stream",
     "text": [
      "3 0 0 1 2 0 0 2\n"
     ]
    }
   ],
   "source": [
    "# 10816 숫자 카드 2\n",
    "\n",
    "from collections import defaultdict\n",
    "\n",
    "n = int(input())\n",
    "have = list(map(int, input().split()))\n",
    "dic = defaultdict(int)\n",
    "\n",
    "for i in have:\n",
    "    dic[i] += 1\n",
    "\n",
    "m = int(input())\n",
    "check = list(map(int, input().split()))\n",
    "\n",
    "answer = []\n",
    "for i in check:\n",
    "    answer.append(str(dic[i]))\n",
    "\n",
    "print(' '.join(answer))\n",
    "\n",
    "# 10\n",
    "# 6 3 2 10 10 10 -10 -10 7 3\n",
    "# 8\n",
    "# 10 9 -5 2 3 4 5 -10"
   ]
  },
  {
   "cell_type": "code",
   "execution_count": 47,
   "metadata": {},
   "outputs": [
    {
     "name": "stdout",
     "output_type": "stream",
     "text": [
      "-1\n",
      "-1\n",
      "123\n",
      "123\n",
      "-1\n",
      "-1\n"
     ]
    }
   ],
   "source": [
    "# 10828 스택\n",
    "\n",
    "import sys\n",
    "\n",
    "n = int(sys.stdin.readline().rstrip())\n",
    "stack = []\n",
    "\n",
    "for _ in range(n):\n",
    "    cmd = sys.stdin.readline().rstrip()\n",
    "    if cmd == 'pop':\n",
    "        if stack:\n",
    "            print(stack.pop())\n",
    "        else:\n",
    "            print(-1)\n",
    "    elif cmd == 'size':\n",
    "        print(len(stack))\n",
    "    elif cmd == 'empty':\n",
    "        if stack:\n",
    "            print(0)\n",
    "        else:\n",
    "            print(1)\n",
    "    elif cmd == 'top':\n",
    "        if stack:\n",
    "            print(stack[-1])\n",
    "        else:\n",
    "            print(-1)\n",
    "    elif 'push' in cmd:\n",
    "        a, num = cmd.split()\n",
    "        stack.append(int(num))"
   ]
  },
  {
   "cell_type": "code",
   "execution_count": 51,
   "metadata": {},
   "outputs": [
    {
     "name": "stdout",
     "output_type": "stream",
     "text": [
      "1 -1\n",
      "1 1\n",
      "2 2\n",
      "3 3\n",
      "3 4\n"
     ]
    }
   ],
   "source": [
    "# 11650 좌표 정렬하기\n",
    "\n",
    "n = int(input())\n",
    "graph = []\n",
    "for _ in range(n):\n",
    "    a, b = (map(int, input().split()))\n",
    "    graph.append((a, b))\n",
    "\n",
    "graph.sort(key = lambda x: (x[0], x[1]))\n",
    "for i in graph:\n",
    "    print(i[0], i[1])"
   ]
  },
  {
   "cell_type": "code",
   "execution_count": 57,
   "metadata": {},
   "outputs": [
    {
     "name": "stdout",
     "output_type": "stream",
     "text": [
      "7\n",
      "3 2\n"
     ]
    }
   ],
   "source": [
    "# 30802 웰컴 키트\n",
    "\n",
    "n = int(input())\n",
    "cloth = list(map(int, input().split()))\n",
    "t, p = map(int, input().split())\n",
    "\n",
    "ans1 = 0\n",
    "\n",
    "for i in cloth:\n",
    "    if i == 0:\n",
    "        continue\n",
    "    if i // t == 0:\n",
    "        ans1 += 1\n",
    "    elif i%t == 0:\n",
    "        ans1 += i//t\n",
    "    else:\n",
    "        ans1 += (i//t) + 1\n",
    "ans2 = [str(n//p), str(n%p)]\n",
    "print(ans1)\n",
    "print(' '.join(ans2))"
   ]
  },
  {
   "cell_type": "code",
   "execution_count": 12,
   "metadata": {},
   "outputs": [
    {
     "name": "stdout",
     "output_type": "stream",
     "text": [
      "32\n",
      "32\n",
      "32\n",
      "32\n",
      "32\n",
      "32\n",
      "32\n",
      "32\n",
      "32\n",
      "32\n",
      "32\n",
      "32\n",
      "32\n",
      "32\n",
      "32\n",
      "32\n",
      "32\n",
      "32\n",
      "32\n",
      "32\n",
      "32\n",
      "32\n",
      "32\n",
      "32\n",
      "32\n",
      "32\n",
      "32\n",
      "32\n",
      "32\n",
      "32\n",
      "32\n",
      "32\n",
      "32\n",
      "32\n",
      "32\n",
      "32\n",
      "32\n",
      "32\n",
      "32\n",
      "32\n",
      "32\n",
      "32\n",
      "32\n",
      "32\n",
      "32\n",
      "32\n",
      "32\n",
      "32\n",
      "32\n",
      "32\n",
      "32\n",
      "32\n",
      "32\n",
      "32\n",
      "32\n",
      "32\n",
      "32\n",
      "32\n",
      "32\n",
      "32\n",
      "32\n",
      "32\n",
      "31\n",
      "33\n",
      "31\n"
     ]
    }
   ],
   "source": [
    "# 1018 체스판 다시 칠하기\n",
    "\n",
    "import copy\n",
    "\n",
    "def real_search(graph, i, j, start):\n",
    "    temp = copy.deepcopy(graph)\n",
    "    cnt = 0\n",
    "    before = start\n",
    "    for x in range(i, i+8):\n",
    "        for y in range(j, j+8):\n",
    "\n",
    "            if x == i and y == j:\n",
    "                if before == temp[x][y]:\n",
    "                    continue\n",
    "                else:\n",
    "                    cnt += 1\n",
    "                    \n",
    "                    continue\n",
    "\n",
    "            if y == j:\n",
    "                if before == temp[x][y]:\n",
    "                    continue\n",
    "                else:\n",
    "                    cnt += 1\n",
    "                    temp[x][y] = before\n",
    "\n",
    "            else:\n",
    "                if before != temp[x][y]:\n",
    "                    before = temp[x][y]\n",
    "                    continue\n",
    "                else:\n",
    "                    if before == 'B':\n",
    "                        temp[x][y] = 'W'\n",
    "                    else:\n",
    "                        temp[x][y] = 'B'\n",
    "                    cnt += 1\n",
    "                    before = temp[x][y]\n",
    "    # print(cnt)\n",
    "    return cnt\n",
    "\n",
    "def search(graph, i, j):\n",
    "    return min(real_search(graph, i, j, 'W'), real_search(graph, i, j, 'B'))\n",
    "\n",
    "n, m = map(int, input().split())\n",
    "origin = []\n",
    "result = int(1e9)\n",
    "for _ in range(n):\n",
    "    origin.append(list(input()))\n",
    "\n",
    "for i in range(n):\n",
    "    for j in range(m):\n",
    "        if i+8 <= n and j+8 <= m:\n",
    "            result = min(result, search(origin, i, j))\n",
    "# print('최종')\n",
    "print(result)"
   ]
  },
  {
   "cell_type": "code",
   "execution_count": 21,
   "metadata": {},
   "outputs": [
    {
     "name": "stdout",
     "output_type": "stream",
     "text": [
      "0\n",
      "1\n",
      "4\n",
      "10\n",
      "19\n",
      "19\n"
     ]
    }
   ],
   "source": [
    "# # 11399 ATM\n",
    "\n",
    "# n = int(input())\n",
    "# lst = sorted(list(map(int, input().split())))\n",
    "\n",
    "# result = 0\n",
    "# for i in range(len(lst)):\n",
    "#     result += sum(lst[:i])\n",
    "#     print(result)\n",
    "\n",
    "# print(result)"
   ]
  },
  {
   "cell_type": "code",
   "execution_count": 6,
   "metadata": {},
   "outputs": [
    {
     "name": "stdout",
     "output_type": "stream",
     "text": [
      "980806\n"
     ]
    }
   ],
   "source": [
    "# 28702 FizzBuzz\n",
    "\n",
    "lst = [input() for _ in range(3)]\n",
    "answer = 0\n",
    "\n",
    "for i in range(len(lst)):\n",
    "    if lst[i].isdigit():\n",
    "        break\n",
    "    \n",
    "answer = int(lst[i]) + 3 - i\n",
    "if answer % 3 == 0 and answer % 5 != 0:\n",
    "    print('Fizz')\n",
    "elif answer % 3 != 0 and answer % 5 == 0:\n",
    "    print('Buzz')\n",
    "elif answer % 3 == 0 and answer % 5 == 0:\n",
    "    print('FizzBuzz')\n",
    "else:\n",
    "    print(answer)"
   ]
  },
  {
   "cell_type": "code",
   "execution_count": 9,
   "metadata": {},
   "outputs": [
    {
     "name": "stdout",
     "output_type": "stream",
     "text": [
      "1\n",
      "1\n",
      "2\n",
      "2\n",
      "3\n",
      "3\n",
      "4\n",
      "5\n",
      "5\n",
      "7\n"
     ]
    }
   ],
   "source": [
    "# 10989 수 정렬하기3\n",
    "\n",
    "n = int(input())\n",
    "\n",
    "answer = [0] * 10001\n",
    "for _ in range(n):\n",
    "    answer[int(input())] += 1\n",
    "\n",
    "for i in range(len(answer)):\n",
    "    if answer[i]:\n",
    "        for j in range(answer[i]):\n",
    "            print(i)"
   ]
  },
  {
   "cell_type": "code",
   "execution_count": 16,
   "metadata": {},
   "outputs": [
    {
     "name": "stdout",
     "output_type": "stream",
     "text": [
      "6\n",
      "10\n"
     ]
    }
   ],
   "source": [
    "# 2775 부녀회장이 될테야\n",
    "\n",
    "for _ in range(int(input())):\n",
    "    k = int(input())\n",
    "    n = int(input())\n",
    "    graph = [[i for i in range(n+1)]]\n",
    "    for i in range(1, k+1):\n",
    "        lst = []\n",
    "        for j in range(n+1):\n",
    "            lst.append(sum(graph[i-1][:j+1]))\n",
    "        graph.append(lst)\n",
    "    print(graph[k][n])"
   ]
  },
  {
   "cell_type": "code",
   "execution_count": 55,
   "metadata": {},
   "outputs": [
    {
     "name": "stdout",
     "output_type": "stream",
     "text": [
      "[1, 1]\n"
     ]
    }
   ],
   "source": [
    "# 7568 덩치\n",
    "n = int(input())\n",
    "result = [0] * n\n",
    "data = []\n",
    "for i, _ in enumerate(range(n)):\n",
    "    a, b = map(int, input().split())\n",
    "    data.append((a, b, i))\n",
    "data.sort(key = lambda x: (x[0], x[1]))\n",
    "\n",
    "for i in range(len(data)):\n",
    "    now_w, now_h, now_i = data[i][0], data[i][1], data[i][2]\n",
    "    cnt = 1\n",
    "    for j in range(1, len(data)):\n",
    "        if now_w < data[j][0] and now_h < data[j][1]:\n",
    "            cnt += 1\n",
    "    result[now_i] = cnt\n",
    "\n",
    "for i in result:\n",
    "    print(i, end=' ')"
   ]
  },
  {
   "cell_type": "code",
   "execution_count": 125,
   "metadata": {},
   "outputs": [
    {
     "name": "stdout",
     "output_type": "stream",
     "text": [
      "+\n",
      "-\n",
      "+\n",
      "-\n",
      "+\n",
      "+\n",
      "+\n",
      "-\n"
     ]
    }
   ],
   "source": [
    "# 1874 스택 수열\n",
    "\n",
    "n = int(input())\n",
    "lst = [int(input()) for _ in range(n)]\n",
    "\n",
    "answer, stack, check = [], [], False\n",
    "num = 1\n",
    "idx = 0\n",
    "for i in range(n):\n",
    "    target = lst[idx]\n",
    "\n",
    "    while num <= target:\n",
    "        stack.append(num)\n",
    "        answer.append('+')\n",
    "        num += 1\n",
    "    \n",
    "    if stack[-1] == target:\n",
    "        stack.pop()\n",
    "        answer.append('-')\n",
    "        idx += 1\n",
    "\n",
    "    else:\n",
    "        check = True\n",
    "\n",
    "if check:\n",
    "    print('NO')\n",
    "\n",
    "else:\n",
    "    for i in answer:\n",
    "        print(i)"
   ]
  },
  {
   "cell_type": "code",
   "execution_count": 3,
   "metadata": {},
   "outputs": [
    {
     "name": "stdout",
     "output_type": "stream",
     "text": [
      "iH\n",
      "olleH\n"
     ]
    }
   ],
   "source": [
    "# 9093 단어 뒤집기\n",
    "\n",
    "for _ in range(int(input())):\n",
    "    data = input().split()\n",
    "    for i in data:\n",
    "        print(i[::-1], end =' ')\n",
    "    print()"
   ]
  },
  {
   "cell_type": "code",
   "execution_count": 54,
   "metadata": {},
   "outputs": [
    {
     "name": "stdout",
     "output_type": "stream",
     "text": [
      "abcdyx\n"
     ]
    }
   ],
   "source": [
    "# 1406 에디터\n",
    "\n",
    "from collections import deque\n",
    "import sys\n",
    "\n",
    "left = [i for i in sys.stdin.readline().rstrip()]\n",
    "n = int(sys.stdin.readline().rstrip())\n",
    "right = deque()\n",
    "\n",
    "for _ in range(n):\n",
    "    cmd = sys.stdin.readline().rstrip()\n",
    "    if cmd[0] == 'L':\n",
    "        if left:\n",
    "            right.appendleft(left.pop())\n",
    "\n",
    "    elif cmd[0] == 'D':\n",
    "        if right:\n",
    "            left.append(right.popleft())\n",
    "\n",
    "    elif cmd[0] == 'B':\n",
    "        if left:\n",
    "            left.pop()\n",
    "    \n",
    "    else:\n",
    "        c = cmd[2]\n",
    "        left.append(c)\n",
    "        \n",
    "print(''.join(left+list(right)))"
   ]
  },
  {
   "cell_type": "code",
   "execution_count": 16,
   "metadata": {},
   "outputs": [
    {
     "name": "stdout",
     "output_type": "stream",
     "text": [
      "<3, 6, 2, 7, 5, 1, 4>\n"
     ]
    }
   ],
   "source": [
    "# 1158 요세푸스 문제\n",
    "from collections import deque\n",
    "\n",
    "n, k = map(int, input().split())\n",
    "lst = [i for i in range(1, n+1)]\n",
    "q = deque(lst)\n",
    "\n",
    "result = []\n",
    "\n",
    "cnt = 1\n",
    "while q:\n",
    "    if cnt == k:\n",
    "        result.append(q.popleft())\n",
    "        cnt = 1\n",
    "    else:\n",
    "        cnt += 1\n",
    "        q.append(q.popleft())\n",
    "\n",
    "print('<', end='')\n",
    "for i in result[:-1]:\n",
    "    print(i, end=', ')\n",
    "print(str(result[-1]) + '>')"
   ]
  },
  {
   "cell_type": "code",
   "execution_count": 18,
   "metadata": {},
   "outputs": [
    {
     "name": "stdout",
     "output_type": "stream",
     "text": [
      "2\n",
      "1\n",
      "2\n",
      "0\n",
      "2\n",
      "1\n",
      "-1\n",
      "0\n",
      "1\n",
      "-1\n",
      "0\n",
      "3\n"
     ]
    }
   ],
   "source": [
    "# 10866 덱\n",
    "from collections import deque\n",
    "\n",
    "n = int(input())\n",
    "q = deque()\n",
    "\n",
    "for _ in range(n):\n",
    "    cmd = input()\n",
    "    if cmd == 'size':\n",
    "        print(len(q))\n",
    "    elif cmd =='empty':\n",
    "        if q:\n",
    "            print(0)\n",
    "        else:\n",
    "            print(1)\n",
    "    elif cmd == 'front':\n",
    "        if q:\n",
    "            print(q[0])\n",
    "        else:\n",
    "            print(-1)\n",
    "    elif cmd == 'back':\n",
    "        if q:\n",
    "            print(q[-1])\n",
    "        else:\n",
    "            print(-1)\n",
    "    elif cmd == 'pop_front':\n",
    "        if q:\n",
    "            print(q.popleft())\n",
    "        else:\n",
    "            print(-1)\n",
    "    elif cmd == 'pop_back':\n",
    "        if q:\n",
    "            print(q.pop())\n",
    "        else:\n",
    "            print(-1)\n",
    "    else:\n",
    "        cmd, x = cmd.split()\n",
    "        if cmd == 'push_front':\n",
    "            q.appendleft(x)\n",
    "        elif cmd == 'push_back':\n",
    "            q.append(x)"
   ]
  },
  {
   "cell_type": "code",
   "execution_count": 39,
   "metadata": {},
   "outputs": [
    {
     "name": "stdout",
     "output_type": "stream",
     "text": [
      "0\n",
      "5\n",
      "10\n",
      "20\n",
      "31\n",
      "36\n",
      "['<int>', '<max>', '2147483647', '<long long>', '<max>', '9223372036854775807']\n",
      "<int><max>7463847412<long long><max>7085774586302733229"
     ]
    }
   ],
   "source": [
    "# 17413 단어 뒤집기2\n",
    "\n",
    "string = input()\n",
    "lst = []\n",
    "\n",
    "i = 0\n",
    "while i < len(string):\n",
    "    if string[i] == '<':\n",
    "        temp = ''\n",
    "        while True:\n",
    "            temp += string[i]\n",
    "            if string[i] == '>':\n",
    "                i += 1\n",
    "                break\n",
    "            i += 1\n",
    "        lst.append(temp)\n",
    "    else:\n",
    "        temp = ''\n",
    "        while i < len(string) and string[i] != '<':\n",
    "            temp += string[i]\n",
    "            i += 1\n",
    "        lst.append(temp)\n",
    "\n",
    "for i in lst:\n",
    "    if '<' in i or '>' in i:\n",
    "        print(i, end='')\n",
    "    else:\n",
    "        temp = i.split()\n",
    "        for j in range(len(temp)):\n",
    "            if j == len(temp) - 1:\n",
    "                print(temp[j][::-1], end='')\n",
    "            else:\n",
    "                print(temp[j][::-1], end=' ')"
   ]
  },
  {
   "cell_type": "code",
   "execution_count": 42,
   "metadata": {},
   "outputs": [
    {
     "name": "stdout",
     "output_type": "stream",
     "text": [
      "6\n"
     ]
    }
   ],
   "source": [
    "# # 10799 쇠막대기\n",
    "# from collections import defaultdict\n",
    "\n",
    "# # data = input()\n",
    "# data = '()(((()())(())()))(())'\n",
    "# razor = 0\n",
    "\n",
    "# dic = defaultdict(list)\n",
    "\n",
    "# temp = data[0]\n",
    "# for i in range(1, len(data)):\n",
    "#     if temp == '(' and data[i] == ')':\n",
    "#         razor += 1\n",
    "#     else:\n",
    "#         for i in dic:\n",
    "#             dic[i].append(1)\n",
    "\n",
    "#     temp = data[i]\n",
    "\n",
    "# print(razor)"
   ]
  },
  {
   "cell_type": "code",
   "execution_count": 7,
   "metadata": {},
   "outputs": [
    {
     "name": "stdout",
     "output_type": "stream",
     "text": [
      "-1 8 8 -1\n"
     ]
    }
   ],
   "source": [
    "# 17298 오큰수\n",
    "\n",
    "n = int(input())\n",
    "data = list(map(int, input().split()))\n",
    "nge = [-1] * n\n",
    "stack = [0]\n",
    "\n",
    "for i in range(1, len(data)):\n",
    "    while stack and data[stack[-1]] < data[i]:\n",
    "        nge[stack.pop()] = data[i]\n",
    "    stack.append(i)\n",
    "print(*nge)"
   ]
  },
  {
   "cell_type": "code",
   "execution_count": 12,
   "metadata": {},
   "outputs": [
    {
     "name": "stdout",
     "output_type": "stream",
     "text": [
      "-1 -1 1 2 2 1 -1\n"
     ]
    }
   ],
   "source": [
    "# 17299 오등큰수\n",
    "\n",
    "from collections import defaultdict\n",
    "\n",
    "n = int(input())\n",
    "data = list(map(int, input().split()))\n",
    "ngf = [-1] * n\n",
    "\n",
    "dic = defaultdict(int)\n",
    "for i in data:\n",
    "    dic[i] += 1\n",
    "\n",
    "stack = [0]\n",
    "\n",
    "for i in range(1, len(data)):\n",
    "    while stack and dic[data[stack[-1]]] < dic[data[i]]:\n",
    "        ngf[stack.pop()] = data[i]\n",
    "    stack.append(i)\n",
    "\n",
    "print(*ngf)"
   ]
  },
  {
   "cell_type": "code",
   "execution_count": 30,
   "metadata": {},
   "outputs": [
    {
     "name": "stdout",
     "output_type": "stream",
     "text": [
      "1 0\n",
      "0 1\n",
      "1 2\n"
     ]
    }
   ],
   "source": [
    "# 1003 피보나치 함수\n",
    "\n",
    "data = [(1, 0), (0, 1)] + ([0]*40)\n",
    "\n",
    "def fibo(n):\n",
    "    if data[n] != 0:\n",
    "        return data[n]\n",
    "    a, b = fibo(n-1)\n",
    "    c, d = fibo(n-2)\n",
    "    data[n] = (a+c, b+d)\n",
    "    return data[n]\n",
    "for _ in range(int(input())):\n",
    "    x = int(input())\n",
    "    answer = fibo(x)\n",
    "    print(answer[0], answer[1])\n"
   ]
  },
  {
   "cell_type": "code",
   "execution_count": 74,
   "metadata": {},
   "outputs": [
    {
     "name": "stdout",
     "output_type": "stream",
     "text": [
      "786432\n"
     ]
    }
   ],
   "source": [
    "# # 1074 Z\n",
    "\n",
    "# n, r, c = map(int, input().split())\n",
    "\n",
    "# def divide(n):\n",
    "#     if n == 1:\n",
    "#         return [[0, 1], [2, 3]]\n",
    "    \n",
    "#     temp = divide(n-1)\n",
    "#     add_value = temp[-1][-1]\n",
    "#     for i in range(len(temp)):\n",
    "#         t = [j + add_value+1 for j in temp[i]]\n",
    "#         temp[i].extend(t)\n",
    "    \n",
    "#     add_value = temp[-1][-1]\n",
    "#     for i in range(2**(n-1)):\n",
    "#         lst = [i + add_value+1 for i in temp[i]]\n",
    "#         temp.append(lst)\n",
    "#     return temp\n",
    "\n",
    "# graph = divide(n)\n",
    "# print(graph[r][c])\n"
   ]
  }
 ],
 "metadata": {
  "kernelspec": {
   "display_name": "Python 3",
   "language": "python",
   "name": "python3"
  },
  "language_info": {
   "codemirror_mode": {
    "name": "ipython",
    "version": 3
   },
   "file_extension": ".py",
   "mimetype": "text/x-python",
   "name": "python",
   "nbconvert_exporter": "python",
   "pygments_lexer": "ipython3",
   "version": "3.12.0"
  }
 },
 "nbformat": 4,
 "nbformat_minor": 2
}
