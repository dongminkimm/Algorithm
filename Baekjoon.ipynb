{
 "cells": [
  {
   "cell_type": "code",
   "execution_count": null,
   "metadata": {},
   "outputs": [],
   "source": [
    "# 1966 프린터큐\n",
    "\n",
    "from collections import deque\n",
    "\n",
    "tc = int(input())\n",
    "for _ in range(tc):\n",
    "    n, target = map(int, input().split())\n",
    "    temp = list(map(int, input().split()))\n",
    "    data = [(i, idx) for idx, i in enumerate(temp)]\n",
    "    \n",
    "    q = deque(data)\n",
    "    cnt = 0\n",
    "    while q:\n",
    "        now = q.popleft()\n",
    "        \n",
    "        if any(now[0]<x[0] for x in q):\n",
    "            q.append(now)\n",
    "            continue\n",
    "        cnt += 1\n",
    "        if now[1] == target:\n",
    "            print(cnt)\n",
    "            break"
   ]
  },
  {
   "cell_type": "code",
   "execution_count": 4,
   "metadata": {},
   "outputs": [
    {
     "name": "stdout",
     "output_type": "stream",
     "text": [
      "right\n",
      "wrong\n",
      "right\n"
     ]
    }
   ],
   "source": [
    "# 4153 직각삼각형\n",
    "\n",
    "while True:\n",
    "    data = list(map(int, input().split()))\n",
    "    if data == [0, 0, 0]:\n",
    "        break\n",
    "    \n",
    "    if data[0]**2 + data[1]**2 == data[2]**2:\n",
    "        print('right')\n",
    "        continue\n",
    "    if data[0]**2 + data[2]**2 == data[1]**2:\n",
    "        print('right')\n",
    "        continue\n",
    "    if data[1]**2 + data[2]**2 == data[0]**2:\n",
    "        print('right')\n",
    "        continue\n",
    "    print('wrong')\n",
    "    \n"
   ]
  },
  {
   "cell_type": "code",
   "execution_count": 10,
   "metadata": {},
   "outputs": [
    {
     "name": "stdout",
     "output_type": "stream",
     "text": [
      "NO\n",
      "NO\n",
      "NO\n"
     ]
    }
   ],
   "source": [
    "# 9012 괄호\n",
    "\n",
    "n = int(input())\n",
    "for i in range(n):\n",
    "    cnt = 0\n",
    "    string = input()\n",
    "    check = False\n",
    "    for s in string:\n",
    "        if cnt < 0:\n",
    "            print('NO')\n",
    "            check = True\n",
    "            break\n",
    "        if s == '(':\n",
    "            cnt += 1\n",
    "        elif s == ')':\n",
    "            cnt -= 1\n",
    "    if check:\n",
    "        continue\n",
    "    else:\n",
    "        if cnt != 0:\n",
    "            print('NO')\n",
    "            continue\n",
    "        else:\n",
    "            print('YES')\n"
   ]
  },
  {
   "cell_type": "code",
   "execution_count": 11,
   "metadata": {},
   "outputs": [
    {
     "name": "stdout",
     "output_type": "stream",
     "text": [
      "1\n"
     ]
    }
   ],
   "source": [
    "# 2475 검증수\n",
    "\n",
    "data = list(map(int, input().split()))\n",
    "total = 0\n",
    "for i in data:\n",
    "    total += i**2\n",
    "print(total%10)"
   ]
  },
  {
   "cell_type": "code",
   "execution_count": 14,
   "metadata": {},
   "outputs": [
    {
     "name": "stdout",
     "output_type": "stream",
     "text": [
      "2\n",
      "29\n"
     ]
    }
   ],
   "source": [
    "a = input()\n",
    "b = input()\n",
    "c = input()\n",
    "\n",
    "print(int(a)+int(b)-int(c))\n",
    "print(int(a+b)-int(c))"
   ]
  },
  {
   "cell_type": "code",
   "execution_count": 15,
   "metadata": {},
   "outputs": [
    {
     "name": "stdout",
     "output_type": "stream",
     "text": [
      "[3, 1, 0, 2, 0, 0, 0, 2, 0, 0]\n"
     ]
    }
   ],
   "source": [
    "# 2577 숫자의 개수\n",
    "a = int(input())\n",
    "b = int(input())\n",
    "c = int(input())\n",
    "\n",
    "num = str(a*b*c)\n",
    "lst = [0] * 10\n",
    "\n",
    "for s in num:\n",
    "    lst[int(s)] += 1\n",
    "for i in lst:\n",
    "    print(i)"
   ]
  }
 ],
 "metadata": {
  "kernelspec": {
   "display_name": "Python 3",
   "language": "python",
   "name": "python3"
  },
  "language_info": {
   "codemirror_mode": {
    "name": "ipython",
    "version": 3
   },
   "file_extension": ".py",
   "mimetype": "text/x-python",
   "name": "python",
   "nbconvert_exporter": "python",
   "pygments_lexer": "ipython3",
   "version": "3.12.0"
  }
 },
 "nbformat": 4,
 "nbformat_minor": 2
}
