{
 "cells": [
  {
   "cell_type": "code",
   "execution_count": null,
   "metadata": {},
   "outputs": [],
   "source": [
    "# 1966 프린터큐\n",
    "\n",
    "from collections import deque\n",
    "\n",
    "tc = int(input())\n",
    "for _ in range(tc):\n",
    "    n, target = map(int, input().split())\n",
    "    temp = list(map(int, input().split()))\n",
    "    data = [(i, idx) for idx, i in enumerate(temp)]\n",
    "    \n",
    "    q = deque(data)\n",
    "    cnt = 0\n",
    "    while q:\n",
    "        now = q.popleft()\n",
    "        \n",
    "        if any(now[0]<x[0] for x in q):\n",
    "            q.append(now)\n",
    "            continue\n",
    "        cnt += 1\n",
    "        if now[1] == target:\n",
    "            print(cnt)\n",
    "            break"
   ]
  },
  {
   "cell_type": "code",
   "execution_count": 4,
   "metadata": {},
   "outputs": [
    {
     "name": "stdout",
     "output_type": "stream",
     "text": [
      "right\n",
      "wrong\n",
      "right\n"
     ]
    }
   ],
   "source": [
    "# 4153 직각삼각형\n",
    "\n",
    "while True:\n",
    "    data = list(map(int, input().split()))\n",
    "    if data == [0, 0, 0]:\n",
    "        break\n",
    "    \n",
    "    if data[0]**2 + data[1]**2 == data[2]**2:\n",
    "        print('right')\n",
    "        continue\n",
    "    if data[0]**2 + data[2]**2 == data[1]**2:\n",
    "        print('right')\n",
    "        continue\n",
    "    if data[1]**2 + data[2]**2 == data[0]**2:\n",
    "        print('right')\n",
    "        continue\n",
    "    print('wrong')\n",
    "    \n"
   ]
  },
  {
   "cell_type": "code",
   "execution_count": 10,
   "metadata": {},
   "outputs": [
    {
     "name": "stdout",
     "output_type": "stream",
     "text": [
      "NO\n",
      "NO\n",
      "NO\n"
     ]
    }
   ],
   "source": [
    "# 9012 괄호\n",
    "\n",
    "n = int(input())\n",
    "for i in range(n):\n",
    "    cnt = 0\n",
    "    string = input()\n",
    "    check = False\n",
    "    for s in string:\n",
    "        if cnt < 0:\n",
    "            print('NO')\n",
    "            check = True\n",
    "            break\n",
    "        if s == '(':\n",
    "            cnt += 1\n",
    "        elif s == ')':\n",
    "            cnt -= 1\n",
    "    if check:\n",
    "        continue\n",
    "    else:\n",
    "        if cnt != 0:\n",
    "            print('NO')\n",
    "            continue\n",
    "        else:\n",
    "            print('YES')\n"
   ]
  },
  {
   "cell_type": "code",
   "execution_count": 11,
   "metadata": {},
   "outputs": [
    {
     "name": "stdout",
     "output_type": "stream",
     "text": [
      "1\n"
     ]
    }
   ],
   "source": [
    "# 2475 검증수\n",
    "\n",
    "data = list(map(int, input().split()))\n",
    "total = 0\n",
    "for i in data:\n",
    "    total += i**2\n",
    "print(total%10)"
   ]
  },
  {
   "cell_type": "code",
   "execution_count": 14,
   "metadata": {},
   "outputs": [
    {
     "name": "stdout",
     "output_type": "stream",
     "text": [
      "2\n",
      "29\n"
     ]
    }
   ],
   "source": [
    "a = input()\n",
    "b = input()\n",
    "c = input()\n",
    "\n",
    "print(int(a)+int(b)-int(c))\n",
    "print(int(a+b)-int(c))"
   ]
  },
  {
   "cell_type": "code",
   "execution_count": 15,
   "metadata": {},
   "outputs": [
    {
     "name": "stdout",
     "output_type": "stream",
     "text": [
      "[3, 1, 0, 2, 0, 0, 0, 2, 0, 0]\n"
     ]
    }
   ],
   "source": [
    "# 2577 숫자의 개수\n",
    "a = int(input())\n",
    "b = int(input())\n",
    "c = int(input())\n",
    "\n",
    "num = str(a*b*c)\n",
    "lst = [0] * 10\n",
    "\n",
    "for s in num:\n",
    "    lst[int(s)] += 1\n",
    "for i in lst:\n",
    "    print(i)"
   ]
  },
  {
   "cell_type": "code",
   "execution_count": 2,
   "metadata": {},
   "outputs": [
    {
     "name": "stdout",
     "output_type": "stream",
     "text": [
      "21\n"
     ]
    }
   ],
   "source": [
    "from itertools import combinations\n",
    "n, m = map(int, input().split())\n",
    "data = list(map(int, input().split()))\n",
    "\n",
    "lst = list(combinations(data, 3))\n",
    "answer = 0\n",
    "for i in lst:\n",
    "    if sum(i) > m:\n",
    "        continue\n",
    "    answer = max(answer, sum(i))\n",
    "print(answer)"
   ]
  },
  {
   "cell_type": "code",
   "execution_count": 5,
   "metadata": {},
   "outputs": [
    {
     "name": "stdout",
     "output_type": "stream",
     "text": [
      "1\n"
     ]
    }
   ],
   "source": [
    "# 2869 달팽이는 올라가고싶다\n",
    "a, b, v = map(int, input().split())\n",
    "\n",
    "diff = a - b\n",
    "now = v - b\n",
    "\n",
    "if now/diff == now//diff:\n",
    "    print(now//diff)\n",
    "else:\n",
    "    print((now//diff) + 1)"
   ]
  },
  {
   "cell_type": "code",
   "execution_count": 6,
   "metadata": {},
   "outputs": [
    {
     "name": "stdout",
     "output_type": "stream",
     "text": [
      "1\n",
      "2\n",
      "3\n",
      "4\n",
      "5\n"
     ]
    }
   ],
   "source": [
    "# 2751 수 정렬하기2\n",
    "import sys\n",
    "input = sys.stdin.readline\n",
    "\n",
    "n = int(input())\n",
    "lst = []\n",
    "for _ in range(n):\n",
    "    lst.append(int(input()))\n",
    "lst.sort()\n",
    "\n",
    "for i in lst:\n",
    "    print(i)"
   ]
  },
  {
   "cell_type": "code",
   "execution_count": null,
   "metadata": {},
   "outputs": [],
   "source": [
    "# 10773 제로\n",
    "\n",
    "n = int(input())\n",
    "stack = []\n",
    "\n",
    "for _ in range(n):\n",
    "    num = int(input())\n",
    "    if num == 0:\n",
    "        stack.pop()\n",
    "    else:\n",
    "        stack.append(num)\n",
    "print(sum(stack))"
   ]
  },
  {
   "cell_type": "code",
   "execution_count": 10,
   "metadata": {},
   "outputs": [
    {
     "name": "stdout",
     "output_type": "stream",
     "text": [
      "20 Sun\n",
      "21 Jun\n",
      "21 Doh\n"
     ]
    }
   ],
   "source": [
    "# 10814 나이순 정렬\n",
    "\n",
    "n = int(input())\n",
    "stack = []\n",
    "\n",
    "for _ in range(n):\n",
    "    data = input().split()\n",
    "    age = int(data[0])\n",
    "    name = data[1]\n",
    "    stack.append((age, name))\n",
    "\n",
    "stack.sort(key=lambda x: x[0])\n",
    "# print(stack)\n",
    "for i in stack:\n",
    "    print(i[0], i[1])"
   ]
  },
  {
   "cell_type": "code",
   "execution_count": 13,
   "metadata": {},
   "outputs": [
    {
     "name": "stdout",
     "output_type": "stream",
     "text": [
      "10\n"
     ]
    }
   ],
   "source": [
    "#  11050 이항 계수\n",
    "from itertools import combinations\n",
    "n, m = map(int, input().split())\n",
    "\n",
    "lst = list(combinations(range(n), m))\n",
    "print(len(lst))"
   ]
  },
  {
   "cell_type": "code",
   "execution_count": 14,
   "metadata": {},
   "outputs": [
    {
     "name": "stdout",
     "output_type": "stream",
     "text": [
      "72\n",
      "6\n"
     ]
    }
   ],
   "source": [
    "import math\n",
    "n, m = map(int, input().split())\n",
    "\n",
    "print(math.gcd(n, m))\n",
    "print(math.lcm(n, m))"
   ]
  },
  {
   "cell_type": "code",
   "execution_count": 2,
   "metadata": {},
   "outputs": [
    {
     "name": "stdout",
     "output_type": "stream",
     "text": [
      "10\n",
      "9\n",
      "7\n",
      "55\n",
      "30\n"
     ]
    }
   ],
   "source": [
    "# 8958 OX퀴즈\n",
    "n = int(input())\n",
    "for _ in range(n):\n",
    "    answer = input()\n",
    "    cnt, score = 0, 0\n",
    "    for s in answer:\n",
    "        if s == 'O':\n",
    "            cnt += 1\n",
    "            score += cnt\n",
    "        else:\n",
    "            cnt = 0\n",
    "    print(score)"
   ]
  },
  {
   "cell_type": "code",
   "execution_count": 4,
   "metadata": {},
   "outputs": [
    {
     "name": "stdout",
     "output_type": "stream",
     "text": [
      "mixed\n"
     ]
    }
   ],
   "source": [
    "# 2920 음계\n",
    "\n",
    "answer = [1,2,3,4,5,6,7,8]\n",
    "notanswer = [8,7,6,5,4,3,2,1]\n",
    "\n",
    "data = list(map(int, input().split()))\n",
    "if data == answer:\n",
    "    print('ascending')\n",
    "elif data == notanswer:\n",
    "    print('descending')\n",
    "else:\n",
    "    print('mixed')"
   ]
  },
  {
   "cell_type": "code",
   "execution_count": 26,
   "metadata": {},
   "outputs": [
    {
     "name": "stdout",
     "output_type": "stream",
     "text": [
      "<3, 6, 2, 7, 5, 1, 4>\n"
     ]
    }
   ],
   "source": [
    "# 11866 요세푸스 문제0\n",
    "\n",
    "n, k = map(int, input().split())\n",
    "lst = [i for i in range(n+1)]\n",
    "\n",
    "cnt = 0\n",
    "answer = []\n",
    "\n",
    "while len(answer) != n:\n",
    "    for j in range(1, len(lst) + 1):\n",
    "        i = j-1\n",
    "        if lst[i] == 0:\n",
    "            continue\n",
    "        else:\n",
    "            cnt += 1\n",
    "\n",
    "        if cnt == k:\n",
    "            cnt = 0\n",
    "            answer.append(lst[i])\n",
    "            lst[i] = 0\n",
    "if len(answer) == 1:\n",
    "    print('<' + str(answer[0]) + '>')\n",
    "else:\n",
    "    for i in range(len(answer)):\n",
    "        if i == 0:\n",
    "            print(f\"<{answer[i]}, \", end ='')\n",
    "        elif i == len(answer)-1:\n",
    "            print(f\"{answer[i]}>\")\n",
    "        else:\n",
    "            print(f\"{answer[i]}, \", end='')"
   ]
  },
  {
   "cell_type": "code",
   "execution_count": 1,
   "metadata": {},
   "outputs": [
    {
     "name": "stdout",
     "output_type": "stream",
     "text": [
      "12321 12321\n",
      "1231 1321\n",
      "0 0\n",
      "0 0\n"
     ]
    }
   ],
   "source": [
    "# 1259 팰린드롬수\n",
    "\n",
    "while True:\n",
    "    num = input()\n",
    "\n",
    "    if num == '0':\n",
    "        break\n",
    "\n",
    "    reversed_num = ''.join(reversed(num))\n",
    "    \n",
    "    if num == reversed_num:\n",
    "        print('yes')\n",
    "    else:\n",
    "        print('no')"
   ]
  },
  {
   "cell_type": "code",
   "execution_count": 10,
   "metadata": {},
   "outputs": [
    {
     "name": "stdout",
     "output_type": "stream",
     "text": [
      "1\n"
     ]
    }
   ],
   "source": [
    "# 1676 팩토리얼 0의 개수\n",
    "\n",
    "import math\n",
    "n = int(input())\n",
    "fact = str(math.factorial(n))\n",
    "fact = fact[::-1]\n",
    "cnt = 0\n",
    "for i in range(len(fact)):\n",
    "    if fact[i] != '0':\n",
    "        break\n",
    "    cnt += 1\n",
    "print(cnt)"
   ]
  },
  {
   "cell_type": "code",
   "execution_count": 10,
   "metadata": {},
   "outputs": [
    {
     "name": "stdout",
     "output_type": "stream",
     "text": [
      "1\n",
      "2\n",
      "2\n",
      "0\n",
      "1\n",
      "2\n",
      "-1\n",
      "0\n",
      "1\n",
      "-1\n",
      "0\n",
      "3\n"
     ]
    }
   ],
   "source": [
    "# 10845 큐\n",
    "\n",
    "import sys\n",
    "from collections import deque\n",
    "\n",
    "n = int(sys.stdin.readline().strip())\n",
    "q = deque()\n",
    "\n",
    "for _ in range(n):\n",
    "    func = sys.stdin.readline().strip()\n",
    "\n",
    "    if func == 'pop':\n",
    "        if len(q) != 0:\n",
    "            print(q.popleft())\n",
    "        else:\n",
    "            print(-1)\n",
    "    elif func == 'size':\n",
    "        print(len(q))\n",
    "    elif func == 'empty':\n",
    "        if len(q) == 0:\n",
    "            print(1)\n",
    "        else:\n",
    "            print(0)\n",
    "\n",
    "    elif func == 'front':\n",
    "        if len(q) != 0:\n",
    "            print(q[0])\n",
    "        else:\n",
    "            print(-1)\n",
    "    elif func == 'back':\n",
    "        if len(q) != 0:\n",
    "            print(q[-1])\n",
    "        else:\n",
    "            print(-1)\n",
    "    elif 'push' in func:\n",
    "        cmd, num = func.split()\n",
    "        q.append(num)"
   ]
  }
 ],
 "metadata": {
  "kernelspec": {
   "display_name": "Python 3",
   "language": "python",
   "name": "python3"
  },
  "language_info": {
   "codemirror_mode": {
    "name": "ipython",
    "version": 3
   },
   "file_extension": ".py",
   "mimetype": "text/x-python",
   "name": "python",
   "nbconvert_exporter": "python",
   "pygments_lexer": "ipython3",
   "version": "3.12.0"
  }
 },
 "nbformat": 4,
 "nbformat_minor": 2
}
